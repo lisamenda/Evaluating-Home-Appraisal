{
  "nbformat": 4,
  "nbformat_minor": 0,
  "metadata": {
    "colab": {
      "provenance": [],
      "machine_shape": "hm"
    },
    "kernelspec": {
      "display_name": "Python 3",
      "name": "python3"
    }
  },
  "cells": [
    {
      "cell_type": "code",
      "metadata": {
        "colab": {
          "base_uri": "https://localhost:8080/"
        },
        "id": "pigdXOb-jmp2",
        "outputId": "fbb44090-a3ac-4d70-80c1-2f749a2d27b7"
      },
      "source": [
        "import numpy                 as np\n",
        "import pandas                as pd\n",
        "import matplotlib.pyplot     as plt\n",
        "import seaborn               as sns\n",
        "import sklearn.metrics       as Metrics\n",
        "import statsmodels.api       as sm\n",
        "\n",
        "import folium  #needed for interactive map\n",
        "from folium.plugins import HeatMap\n",
        "\n",
        "from collections              import Counter\n",
        "from sklearn                  import preprocessing\n",
        "from datetime                 import datetime\n",
        "from collections              import Counter\n",
        "from math                     import exp\n",
        "\n",
        "from sklearn                  import linear_model\n",
        "from sklearn.linear_model     import LinearRegression\n",
        "from sklearn.model_selection  import train_test_split\n",
        "from sklearn.ensemble         import RandomForestClassifier\n",
        "\n",
        "from sklearn import metrics\n",
        "from   sklearn.metrics       import mean_absolute_error\n",
        "from   sklearn.metrics       import median_absolute_error\n",
        "from   sklearn.metrics       import r2_score\n",
        "from sklearn.preprocessing import OneHotEncoder\n",
        "from   scipy import stats\n",
        "\n",
        "from patsy.builtins import *\n",
        "!pip install pingouin\n",
        "from statsmodels.formula.api import ols\n",
        "import statsmodels\n",
        "from scipy import stats\n",
        "from pingouin import pairwise_ttests #this is for performing the pairwise tests\n",
        "\n",
        "%matplotlib inline\n",
        "sns.set()\n",
        "\n",
        "df=pd.read_csv('SF_2009.csv')\n",
        "df.shape"
      ],
      "execution_count": null,
      "outputs": [
        {
          "output_type": "stream",
          "text": [
            "/usr/local/lib/python3.6/dist-packages/statsmodels/tools/_testing.py:19: FutureWarning: pandas.util.testing is deprecated. Use the functions in the public API at pandas.testing instead.\n",
            "  import pandas.util.testing as tm\n"
          ],
          "name": "stderr"
        },
        {
          "output_type": "stream",
          "text": [
            "Requirement already satisfied: pingouin in /usr/local/lib/python3.6/dist-packages (0.3.9)\n",
            "Requirement already satisfied: scipy>=1.3 in /usr/local/lib/python3.6/dist-packages (from pingouin) (1.4.1)\n",
            "Requirement already satisfied: tabulate in /usr/local/lib/python3.6/dist-packages (from pingouin) (0.8.7)\n",
            "Requirement already satisfied: statsmodels>=0.10.0 in /usr/local/lib/python3.6/dist-packages (from pingouin) (0.10.2)\n",
            "Requirement already satisfied: pandas>=0.24 in /usr/local/lib/python3.6/dist-packages (from pingouin) (1.1.5)\n",
            "Requirement already satisfied: seaborn>=0.9.0 in /usr/local/lib/python3.6/dist-packages (from pingouin) (0.11.1)\n",
            "Requirement already satisfied: scikit-learn in /usr/local/lib/python3.6/dist-packages (from pingouin) (0.22.2.post1)\n",
            "Requirement already satisfied: outdated in /usr/local/lib/python3.6/dist-packages (from pingouin) (0.2.0)\n",
            "Requirement already satisfied: pandas-flavor>=0.1.2 in /usr/local/lib/python3.6/dist-packages (from pingouin) (0.2.0)\n",
            "Requirement already satisfied: numpy>=1.15 in /usr/local/lib/python3.6/dist-packages (from pingouin) (1.19.5)\n",
            "Requirement already satisfied: matplotlib>=3.0.2 in /usr/local/lib/python3.6/dist-packages (from pingouin) (3.2.2)\n",
            "Requirement already satisfied: patsy>=0.4.0 in /usr/local/lib/python3.6/dist-packages (from statsmodels>=0.10.0->pingouin) (0.5.1)\n",
            "Requirement already satisfied: python-dateutil>=2.7.3 in /usr/local/lib/python3.6/dist-packages (from pandas>=0.24->pingouin) (2.8.1)\n",
            "Requirement already satisfied: pytz>=2017.2 in /usr/local/lib/python3.6/dist-packages (from pandas>=0.24->pingouin) (2018.9)\n",
            "Requirement already satisfied: joblib>=0.11 in /usr/local/lib/python3.6/dist-packages (from scikit-learn->pingouin) (1.0.0)\n",
            "Requirement already satisfied: littleutils in /usr/local/lib/python3.6/dist-packages (from outdated->pingouin) (0.2.2)\n",
            "Requirement already satisfied: requests in /usr/local/lib/python3.6/dist-packages (from outdated->pingouin) (2.23.0)\n",
            "Requirement already satisfied: xarray in /usr/local/lib/python3.6/dist-packages (from pandas-flavor>=0.1.2->pingouin) (0.15.1)\n",
            "Requirement already satisfied: pyparsing!=2.0.4,!=2.1.2,!=2.1.6,>=2.0.1 in /usr/local/lib/python3.6/dist-packages (from matplotlib>=3.0.2->pingouin) (2.4.7)\n",
            "Requirement already satisfied: kiwisolver>=1.0.1 in /usr/local/lib/python3.6/dist-packages (from matplotlib>=3.0.2->pingouin) (1.3.1)\n",
            "Requirement already satisfied: cycler>=0.10 in /usr/local/lib/python3.6/dist-packages (from matplotlib>=3.0.2->pingouin) (0.10.0)\n",
            "Requirement already satisfied: six in /usr/local/lib/python3.6/dist-packages (from patsy>=0.4.0->statsmodels>=0.10.0->pingouin) (1.15.0)\n",
            "Requirement already satisfied: urllib3!=1.25.0,!=1.25.1,<1.26,>=1.21.1 in /usr/local/lib/python3.6/dist-packages (from requests->outdated->pingouin) (1.24.3)\n",
            "Requirement already satisfied: certifi>=2017.4.17 in /usr/local/lib/python3.6/dist-packages (from requests->outdated->pingouin) (2020.12.5)\n",
            "Requirement already satisfied: idna<3,>=2.5 in /usr/local/lib/python3.6/dist-packages (from requests->outdated->pingouin) (2.10)\n",
            "Requirement already satisfied: chardet<4,>=3.0.2 in /usr/local/lib/python3.6/dist-packages (from requests->outdated->pingouin) (3.0.4)\n",
            "Requirement already satisfied: setuptools>=41.2 in /usr/local/lib/python3.6/dist-packages (from xarray->pandas-flavor>=0.1.2->pingouin) (53.0.0)\n"
          ],
          "name": "stdout"
        },
        {
          "output_type": "stream",
          "text": [
            "/usr/local/lib/python3.6/dist-packages/IPython/core/interactiveshell.py:2718: DtypeWarning: Columns (26) have mixed types.Specify dtype option on import or set low_memory=False.\n",
            "  interactivity=interactivity, compiler=compiler, result=result)\n"
          ],
          "name": "stderr"
        },
        {
          "output_type": "execute_result",
          "data": {
            "text/plain": [
              "(1044696, 43)"
            ]
          },
          "metadata": {
            "tags": []
          },
          "execution_count": 1
        }
      ]
    },
    {
      "cell_type": "code",
      "metadata": {
        "id": "NJh0sFT6eDL0"
      },
      "source": [],
      "execution_count": null,
      "outputs": []
    },
    {
      "cell_type": "code",
      "metadata": {
        "id": "ldIVRNhnRQQm"
      },
      "source": [
        "#df.columns"
      ],
      "execution_count": null,
      "outputs": []
    },
    {
      "cell_type": "code",
      "metadata": {
        "id": "kFBe7S0ot_tm"
      },
      "source": [
        "#Drops 'bad' columns or columns we do not think we will need\n",
        "\n",
        "df=df.drop(['Block', 'Lot', 'Use Code', 'Volume Number', 'Use Definition',\n",
        "         'Property Class Code', 'Property Class Code Definition', 'Lot Depth', 'Lot Frontage',\n",
        "        'Lot Code', 'Exemption Code', 'Exemption Code Definition', 'Status Code', 'Misc Exemption Value', 'Homeowner Exemption Value',\n",
        "        'Lot Frontage', 'Tax Rate Area Code',\n",
        "        'Percent of Ownership', 'Row ID',\n",
        "        'Zoning Code'], axis=1)"
      ],
      "execution_count": null,
      "outputs": []
    },
    {
      "cell_type": "markdown",
      "metadata": {
        "id": "mlNmodYEkfvJ"
      },
      "source": [
        "**Analysis Neighborhood**"
      ]
    },
    {
      "cell_type": "code",
      "metadata": {
        "id": "HR5s39F7kGrG"
      },
      "source": [
        "#Sets index to 'Parcel Number' because each address has a unique parcel number that we can use to clean data\n",
        "\n",
        "df.set_index(\"Parcel Number\", inplace=True)"
      ],
      "execution_count": null,
      "outputs": []
    },
    {
      "cell_type": "code",
      "metadata": {
        "id": "LkQ-VEzpnlkl"
      },
      "source": [
        "#corrects an NaN value in Analysis Neighborhood\n",
        "\n",
        "df.loc[\"2619047\",\"Analysis Neighborhood\"]=\"Castro/Upper Market\""
      ],
      "execution_count": null,
      "outputs": []
    },
    {
      "cell_type": "code",
      "metadata": {
        "id": "1vtnwQ04kZNc"
      },
      "source": [
        "#Drops all rows with NaN values in 'Analysis Neighborhood'\n",
        "\n",
        "df.dropna(subset=[\"Analysis Neighborhood\"], inplace=True, axis=0) #axis=0 is rows"
      ],
      "execution_count": null,
      "outputs": []
    },
    {
      "cell_type": "code",
      "metadata": {
        "colab": {
          "base_uri": "https://localhost:8080/"
        },
        "id": "vZCnP5UpMzB-",
        "outputId": "2b9c5a11-71b6-4a7c-892a-4e1c6f620ba4"
      },
      "source": [
        "#Retreives the Number of Data Points for each Analysis Neighborhood\n",
        "\n",
        "df[df['Closed Roll Year'] == 2019].groupby(['Analysis Neighborhood', 'Closed Roll Year']).size()"
      ],
      "execution_count": null,
      "outputs": [
        {
          "output_type": "execute_result",
          "data": {
            "text/plain": [
              "Analysis Neighborhood           Closed Roll Year\n",
              "Bayview Hunters Point           2019                 5747\n",
              "Bernal Heights                  2019                 4752\n",
              "Castro/Upper Market             2019                 1629\n",
              "Chinatown                       2019                   21\n",
              "Excelsior                       2019                 7822\n",
              "Financial District/South Beach  2019                    5\n",
              "Glen Park                       2019                 1957\n",
              "Haight Ashbury                  2019                  782\n",
              "Hayes Valley                    2019                  205\n",
              "Inner Richmond                  2019                 1376\n",
              "Inner Sunset                    2019                 4236\n",
              "Japantown                       2019                   21\n",
              "Lakeshore                       2019                   65\n",
              "Lincoln Park                    2019                   14\n",
              "Lone Mountain/USF               2019                  678\n",
              "Marina                          2019                 1166\n",
              "McLaren Park                    2019                   89\n",
              "Mission                         2019                 1404\n",
              "Nob Hill                        2019                  136\n",
              "Noe Valley                      2019                 3242\n",
              "North Beach                     2019                  120\n",
              "Oceanview/Merced/Ingleside      2019                 5710\n",
              "Outer Mission                   2019                 4603\n",
              "Outer Richmond                  2019                 5235\n",
              "Pacific Heights                 2019                 1194\n",
              "Portola                         2019                 3401\n",
              "Potrero Hill                    2019                 1195\n",
              "Presidio                        2019                   18\n",
              "Presidio Heights                2019                  996\n",
              "Russian Hill                    2019                  302\n",
              "Seacliff                        2019                  718\n",
              "South of Market                 2019                   47\n",
              "Sunset/Parkside                 2019                19723\n",
              "Tenderloin                      2019                    5\n",
              "Twin Peaks                      2019                 1379\n",
              "Visitacion Valley               2019                 2967\n",
              "West of Twin Peaks              2019                12211\n",
              "Western Addition                2019                  103\n",
              "dtype: int64"
            ]
          },
          "metadata": {
            "tags": []
          },
          "execution_count": 7
        }
      ]
    },
    {
      "cell_type": "code",
      "metadata": {
        "id": "N-AweTGaM6fO"
      },
      "source": [
        "#Drops Analysis Neighborhoods with less than 10 data points for each year.\n",
        "\n",
        "df.drop(df.loc[df['Analysis Neighborhood']=='Chinatown'].index, inplace=True)\n",
        "df.drop(df.loc[df['Analysis Neighborhood']=='Lakeshore'].index, inplace=True)\n",
        "df.drop(df.loc[df['Analysis Neighborhood']=='Presidio'].index, inplace=True)\n",
        "df.drop(df.loc[df['Analysis Neighborhood']=='Tenderloin'].index, inplace=True)\n",
        "df.drop(df.loc[df['Analysis Neighborhood']=='Japantown'].index, inplace=True)\n",
        "df.drop(df.loc[df['Analysis Neighborhood']=='Lincoln Park'].index, inplace=True)\n",
        "df.drop(df.loc[df['Analysis Neighborhood']=='South of Market'].index, inplace=True)\n",
        "df.drop(df.loc[df['Analysis Neighborhood']=='Financial District/South Beach'].index, inplace=True)"
      ],
      "execution_count": null,
      "outputs": []
    },
    {
      "cell_type": "markdown",
      "metadata": {
        "id": "R4vzI6Ipkmz5"
      },
      "source": [
        "**Number of Units**"
      ]
    },
    {
      "cell_type": "code",
      "metadata": {
        "id": "-l5vkMCXktWj"
      },
      "source": [
        "#removes all properties with more than 1 unit (keeps only single-unit addresses)\n",
        "df=df[df[\"Number of Units\"]== 1]"
      ],
      "execution_count": null,
      "outputs": []
    },
    {
      "cell_type": "code",
      "metadata": {
        "colab": {
          "base_uri": "https://localhost:8080/"
        },
        "id": "_hZMUFGUn_ux",
        "outputId": "b2f106a5-5daa-4567-c7de-d942b54828a9"
      },
      "source": [
        "df[\"Number of Units\"].unique()"
      ],
      "execution_count": null,
      "outputs": [
        {
          "output_type": "execute_result",
          "data": {
            "text/plain": [
              "array([1])"
            ]
          },
          "metadata": {
            "tags": []
          },
          "execution_count": 10
        }
      ]
    },
    {
      "cell_type": "markdown",
      "metadata": {
        "id": "oxR1OOB7lTcX"
      },
      "source": [
        "**Number of Stories**"
      ]
    },
    {
      "cell_type": "code",
      "metadata": {
        "id": "xX_B1NoBlOJm"
      },
      "source": [
        "#Sets values with 'bad' data to np.nan\n",
        "#963, 225, 994, 10, 7, 93\n",
        "df['Number of Stories'] = df['Number of Stories'].replace({0:np.nan, 963:np.nan,\n",
        "                                  225:np.nan, 994:np.nan, 10:np.nan, 7:np.nan, 93:np.nan, 6:np.nan})"
      ],
      "execution_count": null,
      "outputs": []
    },
    {
      "cell_type": "code",
      "metadata": {
        "id": "ljAK2ZWHmzM5"
      },
      "source": [
        "#Drops values with np.nan\n",
        "df.dropna(subset=[\"Number of Stories\"], inplace=True, axis=0)"
      ],
      "execution_count": null,
      "outputs": []
    },
    {
      "cell_type": "code",
      "metadata": {
        "id": "SvkG2QAApuGN"
      },
      "source": [
        "#df[df['Number of Stories']==8]\n"
      ],
      "execution_count": null,
      "outputs": []
    },
    {
      "cell_type": "code",
      "metadata": {
        "id": "VN2lmLlKo54A"
      },
      "source": [
        "#corrects the number of stories on certain data points\n",
        "\n",
        "df.loc['5699011', 'Number of Stories'] = 1\n",
        "df.loc['7000010', 'Number of Stories'] = 1\n",
        "df.loc['5807018', 'Number of Stories'] = 1\n",
        "df.loc['2383024', 'Number of Stories'] = 1\n",
        "df.loc['2755005', 'Number of Stories'] = 2\n",
        "df.loc['1621030', 'Number of Stories'] = 2\n",
        "df.loc['1307001X', 'Number of Stories'] = 2"
      ],
      "execution_count": null,
      "outputs": []
    },
    {
      "cell_type": "markdown",
      "metadata": {
        "id": "WxdOA81-r3xK"
      },
      "source": [
        "**Total Assesed Value**"
      ]
    },
    {
      "cell_type": "code",
      "metadata": {
        "id": "jOpE2w5qrxLe"
      },
      "source": [
        "#creating total assessed value column\n",
        "df['Total Assessed Value']=df['Assessed Fixtures Value']+df['Assessed Improvement Value']+df['Assessed Land Value']+df['Assessed Personal Property Value']"
      ],
      "execution_count": null,
      "outputs": []
    },
    {
      "cell_type": "code",
      "metadata": {
        "id": "1WGTYQMOsA98"
      },
      "source": [
        "#Sets all properties with $0 as the value to np.nan\n",
        "df['Total Assessed Value'] = df['Total Assessed Value'].replace({0:np.nan})"
      ],
      "execution_count": null,
      "outputs": []
    },
    {
      "cell_type": "code",
      "metadata": {
        "colab": {
          "base_uri": "https://localhost:8080/"
        },
        "id": "3C-cziIksMyf",
        "outputId": "042a2c54-000c-4411-e2fa-18d5027c626e"
      },
      "source": [
        "df[\"Total Assessed Value\"].isna().sum()"
      ],
      "execution_count": null,
      "outputs": [
        {
          "output_type": "execute_result",
          "data": {
            "text/plain": [
              "665"
            ]
          },
          "metadata": {
            "tags": []
          },
          "execution_count": 17
        }
      ]
    },
    {
      "cell_type": "code",
      "metadata": {
        "id": "CN_XBoyssTTg"
      },
      "source": [
        "#Drops the properties with $0 as assessed values\n",
        "df.dropna(subset=[\"Total Assessed Value\"], inplace=True, axis=0)"
      ],
      "execution_count": null,
      "outputs": []
    },
    {
      "cell_type": "code",
      "metadata": {
        "colab": {
          "base_uri": "https://localhost:8080/"
        },
        "id": "HBqxt2g_saPK",
        "outputId": "4dbe00d1-2b49-4b3b-d141-752d5c3f4b9d"
      },
      "source": [
        "df.shape"
      ],
      "execution_count": null,
      "outputs": [
        {
          "output_type": "execute_result",
          "data": {
            "text/plain": [
              "(1023142, 24)"
            ]
          },
          "metadata": {
            "tags": []
          },
          "execution_count": 19
        }
      ]
    },
    {
      "cell_type": "markdown",
      "metadata": {
        "id": "idzDRVqJuHMp"
      },
      "source": [
        "**Property Location**"
      ]
    },
    {
      "cell_type": "code",
      "metadata": {
        "id": "VPDavgarMQC8"
      },
      "source": [
        "#Take excess spaces out of df['Property Location]\n",
        "x = 0\n",
        "while x<10:\n",
        "  df['Property Location'] = df['Property Location'].str.replace('  ', ' ')\n",
        "  x = x + 1"
      ],
      "execution_count": null,
      "outputs": []
    },
    {
      "cell_type": "code",
      "metadata": {
        "id": "6VsFf69zutDp"
      },
      "source": [
        "df.reset_index(inplace=True)"
      ],
      "execution_count": null,
      "outputs": []
    },
    {
      "cell_type": "code",
      "metadata": {
        "id": "1wAhwGCQjid9"
      },
      "source": [
        "# Drop rows with df['Property Location'] that do not begin with 0000\n",
        "# Drops addresses such as 1523 0023 52ND AV0000 because these kind of addresses do not populate when trying to search for them\n",
        "\n",
        "df.drop((i\n",
        "         for i in range (0, len(df))\n",
        "         if ('0000')\n",
        "         not in df['Property Location'].loc[i][:4]),\n",
        "          inplace = True)\n",
        "\n",
        "df.reset_index(inplace = True, drop = True)"
      ],
      "execution_count": null,
      "outputs": []
    },
    {
      "cell_type": "code",
      "metadata": {
        "id": "-CNShaOnlmaF"
      },
      "source": [
        "#Takes out 0000 from the beginning of df['Property Location']\n",
        "#Makes 0000 1686 35TH AV0000 into 1686 35TH AV0000\n",
        "\n",
        "df['Property Location'] = df['Property Location'].str.replace('0000 ', '')"
      ],
      "execution_count": null,
      "outputs": []
    },
    {
      "cell_type": "code",
      "metadata": {
        "id": "kU6-fftXpXAB"
      },
      "source": [
        "#Drops the Last 4 numbers from df['Property Location']\n",
        "#Makes 1686 35TH AV0000 into 1686 35TH AV\n",
        "\n",
        "df['Property Location'] = [df['Property Location'].loc[i].replace(df['Property Location'].loc[i][-4:], '')\n",
        "                          for i in range(0, len(df['Property Location']))]"
      ],
      "execution_count": null,
      "outputs": []
    },
    {
      "cell_type": "code",
      "metadata": {
        "colab": {
          "base_uri": "https://localhost:8080/"
        },
        "id": "aOHqgjvMWgf0",
        "outputId": "0c1f821a-df40-4b80-fa7a-bcb8817bc544"
      },
      "source": [
        "(df['Property Location']=='').sum()"
      ],
      "execution_count": null,
      "outputs": [
        {
          "output_type": "execute_result",
          "data": {
            "text/plain": [
              "80"
            ]
          },
          "metadata": {
            "tags": []
          },
          "execution_count": 25
        }
      ]
    },
    {
      "cell_type": "code",
      "metadata": {
        "id": "HjpzXiUNWfXc"
      },
      "source": [
        "#Changes all blank values for 'Property Location' into NaN values\n",
        "df['Property Location'] = df['Property Location'].replace({'':np.nan})\n",
        "\n",
        "#Drops all rows with 'Property Location as NaN value\n",
        "df.dropna(subset = ['Property Location'], inplace = True)"
      ],
      "execution_count": null,
      "outputs": []
    },
    {
      "cell_type": "markdown",
      "metadata": {
        "id": "j0LXh2dIucw0"
      },
      "source": [
        "**Number of Bedrooms**"
      ]
    },
    {
      "cell_type": "code",
      "metadata": {
        "id": "wOEoHqyaulTG"
      },
      "source": [
        "#Reference Code to Look at the houses with different numbers of bedrooms\n",
        "#df[df['Number of Bedrooms']==999]"
      ],
      "execution_count": null,
      "outputs": []
    },
    {
      "cell_type": "code",
      "metadata": {
        "id": "QNAM7sxhvEIX"
      },
      "source": [
        "df.set_index('Parcel Number', inplace = True, drop = True)"
      ],
      "execution_count": null,
      "outputs": []
    },
    {
      "cell_type": "code",
      "metadata": {
        "id": "M9UJr4-JwWLc"
      },
      "source": [
        "#Correct values with 12, 13, 22, 44, 80 and 2065 Bedrooms\n",
        "\n",
        "df.loc['1364026', 'Number of Bedrooms'] = 3                 #2065 Bedrooms / 0154 05TH AV\n",
        "df.loc['0639007', 'Number of Bedrooms'] = np.NaN            #80 Bedrooms- come back to this one, none of the values make sense / 2022 CALIFORNIA ST\n",
        "df.loc['1590007B', 'Number of Bedrooms'] = 2                #44 Bedrooms / 0645 47TH AV\n",
        "df.loc['2701A020', 'Number of Bedrooms'] = 3                #22 Bedrooms / 4615 19TH ST\n",
        "df.loc['1207013A', 'Number of Bedrooms'] = 10               #13 Bedrooms  / 1550 FELL ST\n",
        "df.loc['0641003', 'Number of Bedrooms'] = 11                #12 Bedrooms  / 1701 FRANKLIN ST\n"
      ],
      "execution_count": null,
      "outputs": []
    },
    {
      "cell_type": "code",
      "metadata": {
        "id": "u6JTt3OLK5DL"
      },
      "source": [
        "#Drops values with 13, 20 and 21 Bedrooms\n",
        "\n",
        "#df.drop(df.loc['5925026'].index, inplace=True)      #Drops 21 Bedrooms / 0129 GIRARD ST\n",
        "#df.drop(df.loc['0778006'].index, inplace=True)      #Drops 20 Bedrooms (This place is a bed and breakfast, not single family home) / 1000 FULTON ST\n",
        "#df.drop(df.loc['7002041'].index, inplace=True)      #Drops 13 Bedrooms / 0278 MONTICELLO ST\n",
        "#df.drop(df.loc['1406029'].index, inplace=True)      #Drops 12 Bedrooms / 0366 28TH AV\n",
        "df.drop(df.loc['6995037'].index, inplace=True)      #Drop 11 Bedrooms (This address seems to now be a childcare center) / 0454 RALSTON ST"
      ],
      "execution_count": null,
      "outputs": []
    },
    {
      "cell_type": "code",
      "metadata": {
        "id": "a7fl9DKDCNp6"
      },
      "source": [
        "df.reset_index(inplace = True)"
      ],
      "execution_count": null,
      "outputs": []
    },
    {
      "cell_type": "code",
      "metadata": {
        "id": "82A_1xCuBeqa"
      },
      "source": [
        "#Converts all values in df['Number of Bedrooms'] into NaN if there are 10 or more bedrooms\n",
        "\n",
        "df['Number of Bedrooms'] = df['Number of Bedrooms'].replace({0:np.nan, 999:np.nan}) #, 10:np.nan, 11:np.nan, 12:np.nan, 13:np.nan, 20:np.nan, 21:np.nan})\n"
      ],
      "execution_count": null,
      "outputs": []
    },
    {
      "cell_type": "code",
      "metadata": {
        "id": "Qil58CjmuOO8"
      },
      "source": [
        "df.dropna(subset=[\"Number of Bedrooms\"], inplace=True, axis=0)"
      ],
      "execution_count": null,
      "outputs": []
    },
    {
      "cell_type": "code",
      "metadata": {
        "colab": {
          "base_uri": "https://localhost:8080/"
        },
        "id": "M2kYJcsZWexq",
        "outputId": "b16c3e96-d985-4b71-d17a-534be5301fad"
      },
      "source": [
        "df['Number of Bedrooms'].isnull().sum()"
      ],
      "execution_count": null,
      "outputs": [
        {
          "output_type": "execute_result",
          "data": {
            "text/plain": [
              "0"
            ]
          },
          "metadata": {
            "tags": []
          },
          "execution_count": 34
        }
      ]
    },
    {
      "cell_type": "code",
      "metadata": {
        "id": "H6HEG0wrQVCP"
      },
      "source": [
        "df.reset_index(inplace = True, drop = True)"
      ],
      "execution_count": null,
      "outputs": []
    },
    {
      "cell_type": "markdown",
      "metadata": {
        "id": "q0pguD7a2DGl"
      },
      "source": [
        "**Property Area Column**"
      ]
    },
    {
      "cell_type": "code",
      "metadata": {
        "id": "9IpUptgdu2IL"
      },
      "source": [
        "#df['Property Area'].max()"
      ],
      "execution_count": null,
      "outputs": []
    },
    {
      "cell_type": "code",
      "metadata": {
        "id": "NSFR6frrrvhy"
      },
      "source": [
        "#df.loc[df['Property Area']==22650]"
      ],
      "execution_count": null,
      "outputs": []
    },
    {
      "cell_type": "code",
      "metadata": {
        "id": "sDbSzPkz2UVA"
      },
      "source": [
        "#df.loc['3621070']"
      ],
      "execution_count": null,
      "outputs": []
    },
    {
      "cell_type": "code",
      "metadata": {
        "id": "ezQHpAgSA0J8"
      },
      "source": [
        "df.set_index('Parcel Number', inplace = True)"
      ],
      "execution_count": null,
      "outputs": []
    },
    {
      "cell_type": "code",
      "metadata": {
        "id": "6IBa_O5j2ivP"
      },
      "source": [
        "#Corrects faulty 'Property Area' Values\n",
        "\n",
        "#df.loc['5996012', 'Property Area'] = 1470       #0421 HARVARD ST\n",
        "#df.loc['6094009A', 'Property Area'] = 1125      #1015 RUSSIA AV\n",
        "df.loc['2475042', 'Property Area'] = 1770       #2638 22ND AV\n",
        "#df.loc['1063032', 'Property Area'] = 2376       #0168 JORDAN AV\n",
        "df.loc['2784008', 'Property Area'] = 1270       #0165 MARVIEW WY\n",
        "\n",
        "#df.drop('6114007D', inplace = True)            #0651 DARTMOUTH ST #no Property Area found online"
      ],
      "execution_count": null,
      "outputs": []
    },
    {
      "cell_type": "code",
      "metadata": {
        "id": "PtzxxD-h2pV6"
      },
      "source": [
        "#Drops rows with 'Property Area' less than 500 SQ FT\n",
        "\n",
        "df.reset_index(inplace = True)\n",
        "\n",
        "df.drop((i\n",
        "         for i in range (0, len(df))\n",
        "         if df['Property Area'].loc[i] < 500),\n",
        "         inplace = True)"
      ],
      "execution_count": null,
      "outputs": []
    },
    {
      "cell_type": "code",
      "metadata": {
        "id": "6htXi8zl4CyI"
      },
      "source": [
        "#Drops rows with 'Property Area' Greater than 6000 SQ FT\n",
        "\n",
        "df.reset_index(inplace = True, drop = True)\n",
        "\n",
        "df.drop((i\n",
        "         for i in range (0, len(df))\n",
        "         if df['Property Area'].loc[i] > 6000),\n",
        "         inplace = True)"
      ],
      "execution_count": null,
      "outputs": []
    },
    {
      "cell_type": "code",
      "metadata": {
        "colab": {
          "base_uri": "https://localhost:8080/"
        },
        "id": "zyFlGjq43N6e",
        "outputId": "8e4fe5e7-711b-48fa-a7d7-24f6140afa9e"
      },
      "source": [
        "df['Property Area'].describe().astype(int)"
      ],
      "execution_count": null,
      "outputs": [
        {
          "output_type": "execute_result",
          "data": {
            "text/plain": [
              "count    323679\n",
              "mean       1875\n",
              "std         761\n",
              "min         500\n",
              "25%        1350\n",
              "50%        1737\n",
              "75%        2205\n",
              "max        6000\n",
              "Name: Property Area, dtype: int64"
            ]
          },
          "metadata": {
            "tags": []
          },
          "execution_count": 43
        }
      ]
    },
    {
      "cell_type": "markdown",
      "metadata": {
        "id": "hLiDYIkE-f9D"
      },
      "source": [
        "**Number of Bathrooms**"
      ]
    },
    {
      "cell_type": "code",
      "metadata": {
        "colab": {
          "base_uri": "https://localhost:8080/"
        },
        "id": "i4nFEUJh4mUA",
        "outputId": "f40a8138-4f8b-4adb-cf9a-5df23022e8d6"
      },
      "source": [
        "len(df[df[\"Number of Bathrooms\"]>=5])"
      ],
      "execution_count": null,
      "outputs": [
        {
          "output_type": "execute_result",
          "data": {
            "text/plain": [
              "6171"
            ]
          },
          "metadata": {
            "tags": []
          },
          "execution_count": 44
        }
      ]
    },
    {
      "cell_type": "code",
      "metadata": {
        "id": "hQSy6gAn3V-1"
      },
      "source": [
        "#Sets bathrooms with 0 values as np.nan\n",
        "\n",
        "df['Number of Bathrooms'] = df['Number of Bathrooms'].replace({0:np.nan})"
      ],
      "execution_count": null,
      "outputs": []
    },
    {
      "cell_type": "code",
      "metadata": {
        "id": "r274em-z3ihv"
      },
      "source": [
        "#Drops np.nan\n",
        "\n",
        "df.dropna(subset=[\"Number of Bathrooms\"], inplace=True, axis=0)"
      ],
      "execution_count": null,
      "outputs": []
    },
    {
      "cell_type": "code",
      "metadata": {
        "id": "h4MMWtIZ4OSA"
      },
      "source": [
        "#Drops properties with 6 or more bathrooms\n",
        "\n",
        "df.reset_index(inplace = True, drop = True)\n",
        "df.drop((i\n",
        "         for i in range (0, len(df))\n",
        "         if df['Number of Bathrooms'].loc[i] >= 6),\n",
        "         inplace = True)"
      ],
      "execution_count": null,
      "outputs": []
    },
    {
      "cell_type": "markdown",
      "metadata": {
        "id": "oW4sCFTY-lSA"
      },
      "source": [
        "**Number of Rooms**"
      ]
    },
    {
      "cell_type": "code",
      "metadata": {
        "id": "riGSWnXC4ZTu"
      },
      "source": [
        "#Drops rows with nan values\n",
        "\n",
        "df.dropna(subset=['Number of Rooms'], inplace = True, axis=0)"
      ],
      "execution_count": null,
      "outputs": []
    },
    {
      "cell_type": "code",
      "metadata": {
        "colab": {
          "base_uri": "https://localhost:8080/"
        },
        "id": "aef0gz2E5g-I",
        "outputId": "c2a0f4f2-7490-417e-f64d-72cef4a02dbe"
      },
      "source": [
        "df['Number of Rooms'].isnull().sum()"
      ],
      "execution_count": null,
      "outputs": [
        {
          "output_type": "execute_result",
          "data": {
            "text/plain": [
              "0"
            ]
          },
          "metadata": {
            "tags": []
          },
          "execution_count": 49
        }
      ]
    },
    {
      "cell_type": "code",
      "metadata": {
        "id": "B9wsyr5E5EZ9"
      },
      "source": [
        "df['Number of Rooms'] = df['Number of Rooms'].astype(int)"
      ],
      "execution_count": null,
      "outputs": []
    },
    {
      "cell_type": "code",
      "metadata": {
        "colab": {
          "base_uri": "https://localhost:8080/"
        },
        "id": "x4leBuC554Uv",
        "outputId": "bf01e9cb-172e-46a0-b18e-fb0571e2fdf9"
      },
      "source": [
        "len(df[df[\"Number of Rooms\"]>=10])"
      ],
      "execution_count": null,
      "outputs": [
        {
          "output_type": "execute_result",
          "data": {
            "text/plain": [
              "29950"
            ]
          },
          "metadata": {
            "tags": []
          },
          "execution_count": 51
        }
      ]
    },
    {
      "cell_type": "code",
      "metadata": {
        "id": "pheu0pRX6fDh"
      },
      "source": [
        "#Drops properties with 10 or more rooms\n",
        "\n",
        "df.reset_index(inplace = True, drop = True)\n",
        "df.drop((i\n",
        "         for i in range (0, len(df))\n",
        "         if df['Number of Rooms'].loc[i] >= 10),\n",
        "         inplace = True)"
      ],
      "execution_count": null,
      "outputs": []
    },
    {
      "cell_type": "code",
      "metadata": {
        "id": "dDe7NiDX7Yua"
      },
      "source": [
        "# Replaces 0 rooms with nan values\n",
        "\n",
        "df['Number of Rooms'] = df['Number of Rooms'].replace({0:np.nan})"
      ],
      "execution_count": null,
      "outputs": []
    },
    {
      "cell_type": "code",
      "metadata": {
        "id": "i9j-qd4d7eWo"
      },
      "source": [
        "#Drops rooms with nan values\n",
        "\n",
        "df.dropna(subset=[\"Number of Rooms\"], inplace=True, axis=0)"
      ],
      "execution_count": null,
      "outputs": []
    },
    {
      "cell_type": "markdown",
      "metadata": {
        "id": "8EesBzhf-n3I"
      },
      "source": [
        "**Year Property Built**"
      ]
    },
    {
      "cell_type": "code",
      "metadata": {
        "colab": {
          "base_uri": "https://localhost:8080/"
        },
        "id": "lCcdew207xnQ",
        "outputId": "d98570ce-0bd1-4a6d-fc0d-7731ba455115"
      },
      "source": [
        "df['Year Property Built'].isnull().sum()"
      ],
      "execution_count": null,
      "outputs": [
        {
          "output_type": "execute_result",
          "data": {
            "text/plain": [
              "454"
            ]
          },
          "metadata": {
            "tags": []
          },
          "execution_count": 55
        }
      ]
    },
    {
      "cell_type": "code",
      "metadata": {
        "id": "3Lj-FMD17zNp"
      },
      "source": [
        "#Drops all properties with NaN values for year built\n",
        "\n",
        "df.dropna(subset=[\"Year Property Built\"], inplace=True, axis=0)"
      ],
      "execution_count": null,
      "outputs": []
    },
    {
      "cell_type": "code",
      "metadata": {
        "id": "rYP-aQIL75Wg"
      },
      "source": [
        "df['Year Property Built'] = df['Year Property Built'].astype(int)"
      ],
      "execution_count": null,
      "outputs": []
    },
    {
      "cell_type": "code",
      "metadata": {
        "colab": {
          "base_uri": "https://localhost:8080/"
        },
        "id": "Z-hA5ewA8Cmx",
        "outputId": "56a08248-8e85-4e70-acdc-09ed70cca5ef"
      },
      "source": [
        "df['Year Property Built'].unique()"
      ],
      "execution_count": null,
      "outputs": [
        {
          "output_type": "execute_result",
          "data": {
            "text/plain": [
              "array([1925, 1927, 1914, 1951, 1922, 1931, 1900, 1924, 1935, 1921, 1929,\n",
              "       1987, 1906, 1920, 1956, 1902, 1907, 1905, 1908, 1923, 1955, 1904,\n",
              "       1903, 1934, 1915, 2002, 1991, 1926, 2001, 1954, 1986, 1936, 1913,\n",
              "       1928, 1910, 1992, 1981, 1909, 1917, 1891, 1930, 1932, 1937, 1988,\n",
              "       1940, 1970, 1969, 1950, 1916, 1875, 1941, 1933, 1885, 1873, 1995,\n",
              "       1853, 1901, 1912, 1997, 1911, 1877, 1989, 1938, 1883, 1960, 1967,\n",
              "       1890, 1957, 1952, 1898, 1884, 1971, 1899, 1939, 1949, 1889, 1947,\n",
              "       2003, 1984, 1953, 1962, 1919, 1880, 1974, 1895, 1886, 1994, 1946,\n",
              "       2006, 1948, 1980, 1942, 1977, 1993, 1958, 1893, 1892, 1959, 1972,\n",
              "       1968, 1865, 1878, 1894, 1979, 1964, 1918, 1896, 1996, 1998, 1982,\n",
              "       1990, 1944, 2000, 1888, 1943, 2007, 1963, 1945, 1978, 1999, 1976,\n",
              "       1966, 1983, 2005, 1985, 1791, 1975, 1965, 1973, 1961, 2004, 1887,\n",
              "       2009, 2008, 1870, 1897, 2010, 2012, 2013, 2011, 2014, 1881, 2015,\n",
              "       2016, 2017, 2018, 2019])"
            ]
          },
          "metadata": {
            "tags": []
          },
          "execution_count": 58
        }
      ]
    },
    {
      "cell_type": "code",
      "metadata": {
        "id": "DEX04sob85JS"
      },
      "source": [
        "#Creates new column called 'Property Age'\n",
        "\n",
        "df['Property Age']=df['Closed Roll Year']-df['Year Property Built']"
      ],
      "execution_count": null,
      "outputs": []
    },
    {
      "cell_type": "code",
      "metadata": {
        "id": "vuGICp1z9IMq"
      },
      "source": [
        "df.reset_index(inplace = True, drop = True)"
      ],
      "execution_count": null,
      "outputs": []
    },
    {
      "cell_type": "markdown",
      "metadata": {
        "id": "Qu2FWSdDvP0Y"
      },
      "source": [
        "**the_geom ---> geom (converting the_geom to lat/long format)**"
      ]
    },
    {
      "cell_type": "code",
      "metadata": {
        "id": "9uZARt5qth9r"
      },
      "source": [
        "#strips extra spaces from 'the_geom'\n",
        "df['the_geom'] = df['the_geom'].str.strip()\n",
        "\n",
        "#deletes 'POINT '\n",
        "df['the_geom'] = df['the_geom'].str.replace('POINT ', '')\n",
        "\n",
        "#deletes the '(' and ')'\n",
        "df['the_geom'] = df['the_geom'].str[1:]\n",
        "df['the_geom'] = df['the_geom'].str[:-1]"
      ],
      "execution_count": null,
      "outputs": []
    },
    {
      "cell_type": "code",
      "metadata": {
        "id": "ztQzXzw8yelC"
      },
      "source": [
        "#splits the_geom into longitude and latitude\n",
        "temp = df[\"the_geom\"].str.split(\" \", n = 1, expand = True)"
      ],
      "execution_count": null,
      "outputs": []
    },
    {
      "cell_type": "code",
      "metadata": {
        "id": "ZTJF8gr8yUWz"
      },
      "source": [
        "#creates 'geom' column into lat,long format\n",
        "temp['geom'] = temp[1] + ',' + temp[0]"
      ],
      "execution_count": null,
      "outputs": []
    },
    {
      "cell_type": "code",
      "metadata": {
        "id": "zT15EGq36exo"
      },
      "source": [
        "#adds 'geom' into original dataframe\n",
        "df['geom'] = temp['geom']"
      ],
      "execution_count": null,
      "outputs": []
    },
    {
      "cell_type": "code",
      "metadata": {
        "id": "iSLjCwTg6PwK"
      },
      "source": [
        "#drops the temp df and the_geom\n",
        "df.drop('the_geom', axis=1, inplace = True)\n",
        "del temp"
      ],
      "execution_count": null,
      "outputs": []
    },
    {
      "cell_type": "code",
      "metadata": {
        "id": "_b3wQdEVGExn"
      },
      "source": [
        "#Drops duplicates for 'geom' for the same years\n",
        "\n",
        "df.drop_duplicates(subset = ['Property Location', 'Closed Roll Year'], inplace = True)\n",
        "df.drop_duplicates(subset = ['geom', 'Closed Roll Year'], inplace = True)"
      ],
      "execution_count": null,
      "outputs": []
    },
    {
      "cell_type": "code",
      "metadata": {
        "id": "h9DbVQ8IGQLv"
      },
      "source": [
        "df.reset_index(inplace = True, drop = True)"
      ],
      "execution_count": null,
      "outputs": []
    },
    {
      "cell_type": "code",
      "metadata": {
        "colab": {
          "base_uri": "https://localhost:8080/"
        },
        "id": "_JNaU6sAGgUA",
        "outputId": "b43efe35-debf-44fa-a276-7030e0737c19"
      },
      "source": [
        "df['geom'].nunique()"
      ],
      "execution_count": null,
      "outputs": [
        {
          "output_type": "execute_result",
          "data": {
            "text/plain": [
              "34621"
            ]
          },
          "metadata": {
            "tags": []
          },
          "execution_count": 68
        }
      ]
    },
    {
      "cell_type": "code",
      "metadata": {
        "colab": {
          "base_uri": "https://localhost:8080/"
        },
        "id": "2s8FEu9QGkDw",
        "outputId": "c1f1a668-6324-4508-84de-e92665d19730"
      },
      "source": [
        "df['Property Location'].nunique()"
      ],
      "execution_count": null,
      "outputs": [
        {
          "output_type": "execute_result",
          "data": {
            "text/plain": [
              "34818"
            ]
          },
          "metadata": {
            "tags": []
          },
          "execution_count": 69
        }
      ]
    },
    {
      "cell_type": "markdown",
      "metadata": {
        "id": "EHwxK8248Mky"
      },
      "source": [
        "**Basement Area (1 if House has a basement, 0 if not)**"
      ]
    },
    {
      "cell_type": "code",
      "metadata": {
        "id": "fkkJBNeGD47L"
      },
      "source": [
        "df.dropna(subset=[\"Basement Area\"], inplace=True, axis=0)"
      ],
      "execution_count": null,
      "outputs": []
    },
    {
      "cell_type": "code",
      "metadata": {
        "id": "_Mvkrtt8fDdK"
      },
      "source": [
        " df['Basement Area'].values[df['Basement Area'].values > 0] = 1"
      ],
      "execution_count": null,
      "outputs": []
    },
    {
      "cell_type": "markdown",
      "metadata": {
        "id": "ssy-RPmqn6IG"
      },
      "source": [
        "**Drop Additional Columns for Dashboard**"
      ]
    },
    {
      "cell_type": "code",
      "metadata": {
        "id": "WyPN0sRBCM9C"
      },
      "source": [
        "#Drops 'bad' columns or columns we do not think we will need\n",
        "\n",
        "#df=df.drop(['Number of Bedrooms', 'Number of Units', 'Assessed Fixtures Value', 'Assessed Improvement Value',\n",
        "#            'Assessed Improvement Value', 'Assessed Land Value', 'Assessed Personal Property Value',\n",
        "#            'Basement Area', 'Assessor Neighborhood District', 'Assessor Neighborhood', 'Supervisor District'], axis=1)"
      ],
      "execution_count": null,
      "outputs": []
    },
    {
      "cell_type": "code",
      "metadata": {
        "id": "fvJoiGOfVMby"
      },
      "source": [
        "#df=df.drop(['Year Property Built', 'Current Sales Date', 'Parcel Number'], axis=1)"
      ],
      "execution_count": null,
      "outputs": []
    },
    {
      "cell_type": "code",
      "metadata": {
        "id": "Vy185-j9SJPU"
      },
      "source": [
        "#df.to_csv('SF_2009_Clean_Final.csv')"
      ],
      "execution_count": null,
      "outputs": []
    },
    {
      "cell_type": "markdown",
      "metadata": {
        "id": "Z73q_nP3nyQy"
      },
      "source": [
        "**EDA Plots**"
      ]
    },
    {
      "cell_type": "code",
      "metadata": {
        "id": "GUeq8fV0yfLR"
      },
      "source": [
        "df.reset_index(inplace = True, drop = True)"
      ],
      "execution_count": null,
      "outputs": []
    },
    {
      "cell_type": "code",
      "metadata": {
        "colab": {
          "base_uri": "https://localhost:8080/",
          "height": 640
        },
        "id": "uA5jxNsfrGAT",
        "outputId": "e1fbe2a9-1dcf-4969-aa04-f5bcc0a32799"
      },
      "source": [
        "# How many datapoints in each analysis neighborhood\n",
        "datapoints_counts = Counter(df[\"Analysis Neighborhood\"])\n",
        "tdf = pd.DataFrame.from_dict(datapoints_counts, orient = 'index').sort_values(by = 0)\n",
        "tdf = (tdf.iloc[-38:, :] / len(df)) * 100\n",
        "\n",
        "# Sort datapoints dataframe by number\n",
        "tdf.sort_index(axis = 1, ascending = True, inplace = True)\n",
        "\n",
        "# Plot percent of datapoints by analysis neighborhood\n",
        "ax = tdf.plot(kind = 'bar', figsize = (12, 7.5))\n",
        "ax.set_xlabel(\"Analysis Neighborhood\")\n",
        "ax.set_ylabel(\"% Data Points\")\n",
        "ax.set_title('% Data Points per Analysis Neighborhood ')\n",
        "ax.legend_.remove()\n",
        "\n",
        "plt.show()\n",
        "\n",
        "#print(\"Percent of 1 Bedroom Listings: %{0:.2f}\".format(tdf[0][1]))\n",
        "#The syntax 0:.2f denotes that we will print upto to decimal places\n",
        "#Change it to %{0:.3f to see what happens}"
      ],
      "execution_count": null,
      "outputs": [
        {
          "output_type": "display_data",
          "data": {
            "image/png": "[encoded data removed]",
            "text/plain": [
              "<Figure size 864x540 with 1 Axes>"
            ]
          },
          "metadata": {
            "tags": [],
            "needs_background": "light"
          }
        }
      ]
    },
    {
      "cell_type": "code",
      "metadata": {
        "id": "qt0RpXg40g3k",
        "colab": {
          "base_uri": "https://localhost:8080/",
          "height": 979
        },
        "outputId": "bf127f70-96ab-4ed6-ea36-ef18209257cc"
      },
      "source": [
        "#Shows the percentage of Data Points that each Analysis Neighborhood takes up in the dataset.\n",
        "tdf"
      ],
      "execution_count": null,
      "outputs": [
        {
          "output_type": "execute_result",
          "data": {
            "text/html": [
              "<div>\n",
              "<style scoped>\n",
              "    .dataframe tbody tr th:only-of-type {\n",
              "        vertical-align: middle;\n",
              "    }\n",
              "\n",
              "    .dataframe tbody tr th {\n",
              "        vertical-align: top;\n",
              "    }\n",
              "\n",
              "    .dataframe thead th {\n",
              "        text-align: right;\n",
              "    }\n",
              "</style>\n",
              "<table border=\"1\" class=\"dataframe\">\n",
              "  <thead>\n",
              "    <tr style=\"text-align: right;\">\n",
              "      <th></th>\n",
              "      <th>0</th>\n",
              "    </tr>\n",
              "  </thead>\n",
              "  <tbody>\n",
              "    <tr>\n",
              "      <th>McLaren Park</th>\n",
              "      <td>0.072875</td>\n",
              "    </tr>\n",
              "    <tr>\n",
              "      <th>Western Addition</th>\n",
              "      <td>0.074594</td>\n",
              "    </tr>\n",
              "    <tr>\n",
              "      <th>North Beach</th>\n",
              "      <td>0.114125</td>\n",
              "    </tr>\n",
              "    <tr>\n",
              "      <th>Nob Hill</th>\n",
              "      <td>0.127188</td>\n",
              "    </tr>\n",
              "    <tr>\n",
              "      <th>Russian Hill</th>\n",
              "      <td>0.224470</td>\n",
              "    </tr>\n",
              "    <tr>\n",
              "      <th>Hayes Valley</th>\n",
              "      <td>0.243376</td>\n",
              "    </tr>\n",
              "    <tr>\n",
              "      <th>Seacliff</th>\n",
              "      <td>0.576815</td>\n",
              "    </tr>\n",
              "    <tr>\n",
              "      <th>Lone Mountain/USF</th>\n",
              "      <td>0.768972</td>\n",
              "    </tr>\n",
              "    <tr>\n",
              "      <th>Presidio Heights</th>\n",
              "      <td>0.834628</td>\n",
              "    </tr>\n",
              "    <tr>\n",
              "      <th>Haight Ashbury</th>\n",
              "      <td>0.840816</td>\n",
              "    </tr>\n",
              "    <tr>\n",
              "      <th>Pacific Heights</th>\n",
              "      <td>0.960441</td>\n",
              "    </tr>\n",
              "    <tr>\n",
              "      <th>Mission</th>\n",
              "      <td>1.108254</td>\n",
              "    </tr>\n",
              "    <tr>\n",
              "      <th>Twin Peaks</th>\n",
              "      <td>1.202098</td>\n",
              "    </tr>\n",
              "    <tr>\n",
              "      <th>Potrero Hill</th>\n",
              "      <td>1.274974</td>\n",
              "    </tr>\n",
              "    <tr>\n",
              "      <th>Marina</th>\n",
              "      <td>1.282192</td>\n",
              "    </tr>\n",
              "    <tr>\n",
              "      <th>Inner Richmond</th>\n",
              "      <td>1.692631</td>\n",
              "    </tr>\n",
              "    <tr>\n",
              "      <th>Castro/Upper Market</th>\n",
              "      <td>1.890632</td>\n",
              "    </tr>\n",
              "    <tr>\n",
              "      <th>Glen Park</th>\n",
              "      <td>2.231977</td>\n",
              "    </tr>\n",
              "    <tr>\n",
              "      <th>Visitacion Valley</th>\n",
              "      <td>2.383915</td>\n",
              "    </tr>\n",
              "    <tr>\n",
              "      <th>Portola</th>\n",
              "      <td>2.645166</td>\n",
              "    </tr>\n",
              "    <tr>\n",
              "      <th>Noe Valley</th>\n",
              "      <td>3.618670</td>\n",
              "    </tr>\n",
              "    <tr>\n",
              "      <th>Outer Mission</th>\n",
              "      <td>4.453985</td>\n",
              "    </tr>\n",
              "    <tr>\n",
              "      <th>Inner Sunset</th>\n",
              "      <td>5.094394</td>\n",
              "    </tr>\n",
              "    <tr>\n",
              "      <th>Oceanview/Merced/Ingleside</th>\n",
              "      <td>5.604177</td>\n",
              "    </tr>\n",
              "    <tr>\n",
              "      <th>Excelsior</th>\n",
              "      <td>6.285492</td>\n",
              "    </tr>\n",
              "    <tr>\n",
              "      <th>Bayview Hunters Point</th>\n",
              "      <td>6.321586</td>\n",
              "    </tr>\n",
              "    <tr>\n",
              "      <th>Bernal Heights</th>\n",
              "      <td>6.857838</td>\n",
              "    </tr>\n",
              "    <tr>\n",
              "      <th>Outer Richmond</th>\n",
              "      <td>7.186808</td>\n",
              "    </tr>\n",
              "    <tr>\n",
              "      <th>West of Twin Peaks</th>\n",
              "      <td>11.113135</td>\n",
              "    </tr>\n",
              "    <tr>\n",
              "      <th>Sunset/Parkside</th>\n",
              "      <td>22.913773</td>\n",
              "    </tr>\n",
              "  </tbody>\n",
              "</table>\n",
              "</div>"
            ],
            "text/plain": [
              "                                    0\n",
              "McLaren Park                 0.072875\n",
              "Western Addition             0.074594\n",
              "North Beach                  0.114125\n",
              "Nob Hill                     0.127188\n",
              "Russian Hill                 0.224470\n",
              "Hayes Valley                 0.243376\n",
              "Seacliff                     0.576815\n",
              "Lone Mountain/USF            0.768972\n",
              "Presidio Heights             0.834628\n",
              "Haight Ashbury               0.840816\n",
              "Pacific Heights              0.960441\n",
              "Mission                      1.108254\n",
              "Twin Peaks                   1.202098\n",
              "Potrero Hill                 1.274974\n",
              "Marina                       1.282192\n",
              "Inner Richmond               1.692631\n",
              "Castro/Upper Market          1.890632\n",
              "Glen Park                    2.231977\n",
              "Visitacion Valley            2.383915\n",
              "Portola                      2.645166\n",
              "Noe Valley                   3.618670\n",
              "Outer Mission                4.453985\n",
              "Inner Sunset                 5.094394\n",
              "Oceanview/Merced/Ingleside   5.604177\n",
              "Excelsior                    6.285492\n",
              "Bayview Hunters Point        6.321586\n",
              "Bernal Heights               6.857838\n",
              "Outer Richmond               7.186808\n",
              "West of Twin Peaks          11.113135\n",
              "Sunset/Parkside             22.913773"
            ]
          },
          "metadata": {
            "tags": []
          },
          "execution_count": 77
        }
      ]
    },
    {
      "cell_type": "code",
      "metadata": {
        "id": "IQ0rxT7TqMHY"
      },
      "source": [
        "df['Value_Millions'] = df['Total Assessed Value']/1000000"
      ],
      "execution_count": null,
      "outputs": []
    },
    {
      "cell_type": "code",
      "metadata": {
        "id": "vDOdK_XFqz32"
      },
      "source": [
        "temp_df = df[df['Value_Millions'] < 2]"
      ],
      "execution_count": null,
      "outputs": []
    },
    {
      "cell_type": "code",
      "metadata": {
        "id": "qYVvZkudTWFz",
        "colab": {
          "base_uri": "https://localhost:8080/",
          "height": 418
        },
        "outputId": "7c6b0145-0c23-4192-d5a6-45e493c8ed75"
      },
      "source": [
        "plt.figure(figsize=(12,10))\n",
        "vars_to_plot = ['Value_Millions', 'Number of Rooms','Number of Bathrooms','Property Area','Property Age', 'Number of Bedrooms']\n",
        "for i, var in enumerate(vars_to_plot):\n",
        "    plt.subplot(3,3,i+1)\n",
        "    plt.hist(temp_df[var],50)\n",
        "    title_string = \"Histogram of \" + var\n",
        "    plt.title(title_string)"
      ],
      "execution_count": null,
      "outputs": [
        {
          "output_type": "display_data",
          "data": {
            "image/png": "[encoded data removed]",
            "text/plain": [
              "<Figure size 864x720 with 6 Axes>"
            ]
          },
          "metadata": {
            "tags": [],
            "needs_background": "light"
          }
        }
      ]
    },
    {
      "cell_type": "code",
      "metadata": {
        "id": "Z_PhfWMPTWh1"
      },
      "source": [
        "#distribution of data: home value is skew right, with most homes being less than a million.\n",
        "# of rooms, bathrooms, bedrooms and property area are normally distributed\n",
        "##property age: most hoomes between 50& 100 yrs of age"
      ],
      "execution_count": null,
      "outputs": []
    },
    {
      "cell_type": "code",
      "metadata": {
        "colab": {
          "base_uri": "https://localhost:8080/",
          "height": 627
        },
        "id": "DMd6UNdrsjc5",
        "outputId": "1594111b-ea6d-472a-e956-42c5be1dc7f2"
      },
      "source": [
        "plt.figure(figsize=(12,10))\n",
        "vars_to_plot = ['Number of Rooms','Number of Bathrooms', 'Number of Bedrooms']\n",
        "for i, var in enumerate(vars_to_plot):\n",
        "    plt.subplot(2,2,i+1)\n",
        "    sns.boxplot(x = var, y='Value_Millions', data = df)\n",
        "    title_string = \"Boxplot of Price vs. \" + var\n",
        "    plt.ylabel(\"Value_Millions\")\n",
        "    plt.title(title_string)\n"
      ],
      "execution_count": null,
      "outputs": [
        {
          "output_type": "display_data",
          "data": {
            "image/png": "[encoded data removed]",
            "text/plain": [
              "<Figure size 864x720 with 3 Axes>"
            ]
          },
          "metadata": {
            "tags": [],
            "needs_background": "light"
          }
        }
      ]
    },
    {
      "cell_type": "markdown",
      "metadata": {
        "id": "p8OJYbqsjtWv"
      },
      "source": [
        "show boxplots via dashboard"
      ]
    },
    {
      "cell_type": "code",
      "metadata": {
        "colab": {
          "base_uri": "https://localhost:8080/",
          "height": 936
        },
        "id": "lbuipzyBaQ7B",
        "outputId": "cf55b271-5d85-45ca-99d2-3b28b4125e53"
      },
      "source": [
        "plt.figure(figsize=(12,12))\n",
        "sns.boxplot(x = 'Analysis Neighborhood', y='Value_Millions', data = df)\n",
        "title_string = \"Boxplot of Price vs. \" + \"Analysis Neighborhood\"\n",
        "plt.ylabel(\"Value_Millions\")\n",
        "plt.title(title_string)\n",
        "plt.xticks(rotation=90)"
      ],
      "execution_count": null,
      "outputs": [
        {
          "output_type": "execute_result",
          "data": {
            "text/plain": [
              "(array([ 0,  1,  2,  3,  4,  5,  6,  7,  8,  9, 10, 11, 12, 13, 14, 15, 16,\n",
              "        17, 18, 19, 20, 21, 22, 23, 24, 25, 26, 27, 28, 29]),\n",
              " <a list of 30 Text major ticklabel objects>)"
            ]
          },
          "metadata": {
            "tags": []
          },
          "execution_count": 83
        },
        {
          "output_type": "display_data",
          "data": {
            "image/png": "[encoded data removed]",
            "text/plain": [
              "<Figure size 864x864 with 1 Axes>"
            ]
          },
          "metadata": {
            "tags": [],
            "needs_background": "light"
          }
        }
      ]
    },
    {
      "cell_type": "code",
      "metadata": {
        "colab": {
          "base_uri": "https://localhost:8080/"
        },
        "id": "HZxNE92ttfEB",
        "outputId": "9720ec61-b1bc-41a6-ecbf-817f105d8dff"
      },
      "source": [
        "df.groupby('Analysis Neighborhood')['Property Age'].median().sort_values(ascending = False)"
      ],
      "execution_count": null,
      "outputs": [
        {
          "output_type": "execute_result",
          "data": {
            "text/plain": [
              "Analysis Neighborhood\n",
              "Hayes Valley                  116\n",
              "Western Addition              115\n",
              "Pacific Heights               111\n",
              "Mission                       110\n",
              "Haight Ashbury                109\n",
              "Castro/Upper Market           105\n",
              "Inner Richmond                105\n",
              "North Beach                   105\n",
              "Noe Valley                    104\n",
              "Russian Hill                  103\n",
              "Presidio Heights              102\n",
              "Potrero Hill                   96\n",
              "Seacliff                       95\n",
              "Bernal Heights                 94\n",
              "Outer Richmond                 92\n",
              "Glen Park                      91\n",
              "Nob Hill                       89\n",
              "Marina                         89\n",
              "Excelsior                      86\n",
              "West of Twin Peaks             83\n",
              "Outer Mission                  83\n",
              "Inner Sunset                   79\n",
              "Lone Mountain/USF              77\n",
              "Oceanview/Merced/Ingleside     75\n",
              "Sunset/Parkside                74\n",
              "Visitacion Valley              67\n",
              "Portola                        66\n",
              "Twin Peaks                     60\n",
              "McLaren Park                   59\n",
              "Bayview Hunters Point          56\n",
              "Name: Property Age, dtype: int64"
            ]
          },
          "metadata": {
            "tags": []
          },
          "execution_count": 84
        }
      ]
    },
    {
      "cell_type": "code",
      "metadata": {
        "id": "I9jTyqxGKGkT"
      },
      "source": [
        "df=df.drop(['Number of Units','Assessed Fixtures Value', 'Assessed Improvement Value',\n",
        "            'Assessed Improvement Value', 'Assessed Land Value', 'Assessed Personal Property Value',\n",
        "            'Parcel Number', 'Year Property Built','Number of Stories', 'Current Sales Date'], axis=1)"
      ],
      "execution_count": null,
      "outputs": []
    },
    {
      "cell_type": "markdown",
      "metadata": {
        "id": "xeDSjbDtJdfB"
      },
      "source": [
        "**Correlation Analysis**"
      ]
    },
    {
      "cell_type": "code",
      "metadata": {
        "id": "HXNzeWrcSNFe"
      },
      "source": [
        "correlations = df.corr()"
      ],
      "execution_count": null,
      "outputs": []
    },
    {
      "cell_type": "code",
      "metadata": {
        "colab": {
          "base_uri": "https://localhost:8080/",
          "height": 421
        },
        "id": "P1RUHEzpU6K9",
        "outputId": "c5ae7817-bc09-4cd6-80d8-45905cffacfb"
      },
      "source": [
        "correlations.drop(columns = ['Number of Bathrooms', 'Number of Bedrooms', 'Number of Rooms', 'Basement Area', 'Lot Area',\n",
        "                  'Assessor Neighborhood District', 'Supervisor District', 'Property Age','Value_Millions', 'Closed Roll Year'])"
      ],
      "execution_count": null,
      "outputs": [
        {
          "output_type": "execute_result",
          "data": {
            "text/html": [
              "<div>\n",
              "<style scoped>\n",
              "    .dataframe tbody tr th:only-of-type {\n",
              "        vertical-align: middle;\n",
              "    }\n",
              "\n",
              "    .dataframe tbody tr th {\n",
              "        vertical-align: top;\n",
              "    }\n",
              "\n",
              "    .dataframe thead th {\n",
              "        text-align: right;\n",
              "    }\n",
              "</style>\n",
              "<table border=\"1\" class=\"dataframe\">\n",
              "  <thead>\n",
              "    <tr style=\"text-align: right;\">\n",
              "      <th></th>\n",
              "      <th>Property Area</th>\n",
              "      <th>Total Assessed Value</th>\n",
              "    </tr>\n",
              "  </thead>\n",
              "  <tbody>\n",
              "    <tr>\n",
              "      <th>Closed Roll Year</th>\n",
              "      <td>0.020220</td>\n",
              "      <td>0.173214</td>\n",
              "    </tr>\n",
              "    <tr>\n",
              "      <th>Number of Bathrooms</th>\n",
              "      <td>0.653211</td>\n",
              "      <td>0.319052</td>\n",
              "    </tr>\n",
              "    <tr>\n",
              "      <th>Number of Bedrooms</th>\n",
              "      <td>0.542275</td>\n",
              "      <td>0.183990</td>\n",
              "    </tr>\n",
              "    <tr>\n",
              "      <th>Number of Rooms</th>\n",
              "      <td>0.709767</td>\n",
              "      <td>0.250015</td>\n",
              "    </tr>\n",
              "    <tr>\n",
              "      <th>Property Area</th>\n",
              "      <td>1.000000</td>\n",
              "      <td>0.470008</td>\n",
              "    </tr>\n",
              "    <tr>\n",
              "      <th>Basement Area</th>\n",
              "      <td>0.211217</td>\n",
              "      <td>-0.026758</td>\n",
              "    </tr>\n",
              "    <tr>\n",
              "      <th>Lot Area</th>\n",
              "      <td>0.276599</td>\n",
              "      <td>0.152650</td>\n",
              "    </tr>\n",
              "    <tr>\n",
              "      <th>Assessor Neighborhood District</th>\n",
              "      <td>-0.111085</td>\n",
              "      <td>-0.036523</td>\n",
              "    </tr>\n",
              "    <tr>\n",
              "      <th>Supervisor District</th>\n",
              "      <td>-0.201474</td>\n",
              "      <td>-0.173073</td>\n",
              "    </tr>\n",
              "    <tr>\n",
              "      <th>Total Assessed Value</th>\n",
              "      <td>0.470008</td>\n",
              "      <td>1.000000</td>\n",
              "    </tr>\n",
              "    <tr>\n",
              "      <th>Property Age</th>\n",
              "      <td>-0.070802</td>\n",
              "      <td>0.142543</td>\n",
              "    </tr>\n",
              "    <tr>\n",
              "      <th>Value_Millions</th>\n",
              "      <td>0.470008</td>\n",
              "      <td>1.000000</td>\n",
              "    </tr>\n",
              "  </tbody>\n",
              "</table>\n",
              "</div>"
            ],
            "text/plain": [
              "                                Property Area  Total Assessed Value\n",
              "Closed Roll Year                     0.020220              0.173214\n",
              "Number of Bathrooms                  0.653211              0.319052\n",
              "Number of Bedrooms                   0.542275              0.183990\n",
              "Number of Rooms                      0.709767              0.250015\n",
              "Property Area                        1.000000              0.470008\n",
              "Basement Area                        0.211217             -0.026758\n",
              "Lot Area                             0.276599              0.152650\n",
              "Assessor Neighborhood District      -0.111085             -0.036523\n",
              "Supervisor District                 -0.201474             -0.173073\n",
              "Total Assessed Value                 0.470008              1.000000\n",
              "Property Age                        -0.070802              0.142543\n",
              "Value_Millions                       0.470008              1.000000"
            ]
          },
          "metadata": {
            "tags": []
          },
          "execution_count": 87
        }
      ]
    },
    {
      "cell_type": "code",
      "metadata": {
        "id": "zJQAce0keVXL"
      },
      "source": [
        "df7=df.drop([\"Closed Roll Year\", 'Basement Area', \"Lot Area\", \"Total Assessed Value\", \"Supervisor District\", \"Assessor Neighborhood District\"], axis=1)"
      ],
      "execution_count": null,
      "outputs": []
    },
    {
      "cell_type": "code",
      "metadata": {
        "colab": {
          "base_uri": "https://localhost:8080/",
          "height": 734
        },
        "id": "QxsDoUXRdIZh",
        "outputId": "41ebc3f4-98f2-4a44-e649-c61024a21ec7"
      },
      "source": [
        "plt.figure(figsize=(8, 12))\n",
        "heatmap = sns.heatmap(df7.corr()[['Value_Millions']].sort_values(by='Value_Millions', ascending=False), vmin=-1, vmax=1, annot=True, cmap='BrBG')\n",
        "heatmap.set_title('Features Correlating with Assessed Value (Millions)', fontdict={'fontsize':18}, pad=16);\n",
        "#property age is only slightly correlated to assessed value. It's almost no correlation.\n",
        "#unsurprising however is the fact that largest correlations are with measures of size (property area, bathrooms, stories). However I find it interesting that number of\n",
        "#bathrooms is more correlated to assessed value than number of bedrooms"
      ],
      "execution_count": null,
      "outputs": [
        {
          "output_type": "display_data",
          "data": {
            "image/png": "[encoded data removed]",
            "text/plain": [
              "<Figure size 576x864 with 2 Axes>"
            ]
          },
          "metadata": {
            "tags": [],
            "needs_background": "light"
          }
        }
      ]
    },
    {
      "cell_type": "code",
      "metadata": {
        "colab": {
          "base_uri": "https://localhost:8080/",
          "height": 285
        },
        "id": "17vfnh2rgTdM",
        "outputId": "7d559585-3cc9-4668-a2e5-85063082d345"
      },
      "source": [
        "neighbourhoods = df[\"Analysis Neighborhood\"].unique()\n",
        "cvec = list()\n",
        "cvec = dict()\n",
        "\n",
        "for x in neighbourhoods:\n",
        "    temp = df[df['Analysis Neighborhood'] == x]\n",
        "    cvec[x] = temp.corr()['Value_Millions']['Property Age']\n",
        "\n",
        "\n",
        "res = list(cvec.values())\n",
        "res = [x for x in res if str(x) != 'nan']\n",
        "res.sort()\n",
        "\n",
        "\n",
        "plt.hist(res, bins=20)\n",
        "plt.ylabel('Correlation')\n",
        "plt.show()\n",
        "\n",
        "\n",
        "print('Average correlation: ', sum(res)/len(res)) #most of the conditional correlations within analysis neighborhoods are negative even through correlation between assesssment value and\n",
        "#property age across all of SF is positive. This means clear majority of correlations are at least slightly negative, for an average correlation of -0.05"
      ],
      "execution_count": null,
      "outputs": [
        {
          "output_type": "display_data",
          "data": {
            "image/png": "[encoded data removed]",
            "text/plain": [
              "<Figure size 432x288 with 1 Axes>"
            ]
          },
          "metadata": {
            "tags": [],
            "needs_background": "light"
          }
        },
        {
          "output_type": "stream",
          "text": [
            "Average correlation:  -0.024298106497908884\n"
          ],
          "name": "stdout"
        }
      ]
    },
    {
      "cell_type": "markdown",
      "metadata": {
        "id": "zzs2sodVJyaN"
      },
      "source": [
        "**Convert String Variables to Ordinal Variables**"
      ]
    },
    {
      "cell_type": "code",
      "metadata": {
        "id": "XMAKUJ4gJ4Pg"
      },
      "source": [
        "# generate binary values using get_dummies for 'Analysis Neighborhood'\n",
        "df = pd.get_dummies(df, columns=['Analysis Neighborhood'], prefix = '')\n"
      ],
      "execution_count": null,
      "outputs": []
    },
    {
      "cell_type": "code",
      "metadata": {
        "id": "iD3mAFvlKaJv"
      },
      "source": [
        "df.columns = df.columns.str.replace('_', '')"
      ],
      "execution_count": null,
      "outputs": []
    },
    {
      "cell_type": "code",
      "metadata": {
        "colab": {
          "base_uri": "https://localhost:8080/"
        },
        "id": "vVrpCV1vMA32",
        "outputId": "8aa704c2-4f0b-4221-cef5-0fd8c070753c"
      },
      "source": [
        "df.columns"
      ],
      "execution_count": null,
      "outputs": [
        {
          "output_type": "execute_result",
          "data": {
            "text/plain": [
              "Index(['Closed Roll Year', 'Property Location', 'Number of Bathrooms',\n",
              "       'Number of Bedrooms', 'Number of Rooms', 'Construction Type',\n",
              "       'Property Area', 'Basement Area', 'Lot Area',\n",
              "       'Assessor Neighborhood District', 'Assessor Neighborhood Code',\n",
              "       'Assessor Neighborhood', 'Supervisor District', 'Total Assessed Value',\n",
              "       'Property Age', 'geom', 'ValueMillions', 'Bayview Hunters Point',\n",
              "       'Bernal Heights', 'Castro/Upper Market', 'Excelsior', 'Glen Park',\n",
              "       'Haight Ashbury', 'Hayes Valley', 'Inner Richmond', 'Inner Sunset',\n",
              "       'Lone Mountain/USF', 'Marina', 'McLaren Park', 'Mission', 'Nob Hill',\n",
              "       'Noe Valley', 'North Beach', 'Oceanview/Merced/Ingleside',\n",
              "       'Outer Mission', 'Outer Richmond', 'Pacific Heights', 'Portola',\n",
              "       'Potrero Hill', 'Presidio Heights', 'Russian Hill', 'Seacliff',\n",
              "       'Sunset/Parkside', 'Twin Peaks', 'Visitacion Valley',\n",
              "       'West of Twin Peaks', 'Western Addition'],\n",
              "      dtype='object')"
            ]
          },
          "metadata": {
            "tags": []
          },
          "execution_count": 93
        }
      ]
    },
    {
      "cell_type": "markdown",
      "metadata": {
        "id": "bFuPTrYDV1wi"
      },
      "source": [
        "**Descriptive Statistics 'Number of Bathrooms'**"
      ]
    },
    {
      "cell_type": "code",
      "metadata": {
        "id": "m3kw7uU5tkmu"
      },
      "source": [
        "pd.set_option('display.float_format', lambda x: '%.5f' % x)"
      ],
      "execution_count": null,
      "outputs": []
    },
    {
      "cell_type": "code",
      "metadata": {
        "colab": {
          "base_uri": "https://localhost:8080/"
        },
        "id": "0yDSsKWzV4OK",
        "outputId": "6e94d4c7-b61d-4bf7-ccb7-bfda0f4cf481"
      },
      "source": [
        "mod = ols(' Q(\"Total Assessed Value\") ~ Q(\"Number of Bathrooms\") ', data = df).fit()\n",
        "aov_table = sm.stats.anova_lm(mod, typ=2)\n",
        "aov_table"
      ],
      "execution_count": null,
      "outputs": [
        {
          "output_type": "execute_result",
          "data": {
            "text/html": [
              "<div>\n",
              "<style scoped>\n",
              "    .dataframe tbody tr th:only-of-type {\n",
              "        vertical-align: middle;\n",
              "    }\n",
              "\n",
              "    .dataframe tbody tr th {\n",
              "        vertical-align: top;\n",
              "    }\n",
              "\n",
              "    .dataframe thead th {\n",
              "        text-align: right;\n",
              "    }\n",
              "</style>\n",
              "<table border=\"1\" class=\"dataframe\">\n",
              "  <thead>\n",
              "    <tr style=\"text-align: right;\">\n",
              "      <th></th>\n",
              "      <th>sum_sq</th>\n",
              "      <th>df</th>\n",
              "      <th>F</th>\n",
              "      <th>PR(&gt;F)</th>\n",
              "    </tr>\n",
              "  </thead>\n",
              "  <tbody>\n",
              "    <tr>\n",
              "      <th>Q(\"Number of Bathrooms\")</th>\n",
              "      <td>13112207643954406.00000</td>\n",
              "      <td>1.00000</td>\n",
              "      <td>32968.61325</td>\n",
              "      <td>0.00000</td>\n",
              "    </tr>\n",
              "    <tr>\n",
              "      <th>Residual</th>\n",
              "      <td>115698523563290048.00000</td>\n",
              "      <td>290906.00000</td>\n",
              "      <td>nan</td>\n",
              "      <td>nan</td>\n",
              "    </tr>\n",
              "  </tbody>\n",
              "</table>\n",
              "</div>"
            ],
            "text/plain": [
              "                                           sum_sq  ...  PR(>F)\n",
              "Q(\"Number of Bathrooms\")  13112207643954406.00000  ... 0.00000\n",
              "Residual                 115698523563290048.00000  ...     nan\n",
              "\n",
              "[2 rows x 4 columns]"
            ]
          },
          "metadata": {
            "tags": []
          },
          "execution_count": 95
        }
      ]
    },
    {
      "cell_type": "code",
      "metadata": {
        "colab": {
          "base_uri": "https://localhost:8080/"
        },
        "id": "lvKDIzc5q5oE",
        "outputId": "e5cb94c0-154d-4744-985d-1835703ace55"
      },
      "source": [
        "pairwise_results = pairwise_ttests(dv='Total Assessed Value', between = ['Number of Bathrooms'], padjust='bonf', data=df)\n",
        "pairwise_results"
      ],
      "execution_count": null,
      "outputs": [
        {
          "output_type": "stream",
          "text": [
            "/usr/local/lib/python3.6/dist-packages/pingouin/bayesian.py:152: RuntimeWarning: divide by zero encountered in double_scalars\n",
            "  bf10 = 1 / ((1 + t**2 / df)**(-(df + 1) / 2) / integr)\n"
          ],
          "name": "stderr"
        },
        {
          "output_type": "execute_result",
          "data": {
            "text/html": [
              "<div>\n",
              "<style scoped>\n",
              "    .dataframe tbody tr th:only-of-type {\n",
              "        vertical-align: middle;\n",
              "    }\n",
              "\n",
              "    .dataframe tbody tr th {\n",
              "        vertical-align: top;\n",
              "    }\n",
              "\n",
              "    .dataframe thead th {\n",
              "        text-align: right;\n",
              "    }\n",
              "</style>\n",
              "<table border=\"1\" class=\"dataframe\">\n",
              "  <thead>\n",
              "    <tr style=\"text-align: right;\">\n",
              "      <th></th>\n",
              "      <th>Contrast</th>\n",
              "      <th>A</th>\n",
              "      <th>B</th>\n",
              "      <th>Paired</th>\n",
              "      <th>Parametric</th>\n",
              "      <th>T</th>\n",
              "      <th>dof</th>\n",
              "      <th>Tail</th>\n",
              "      <th>p-unc</th>\n",
              "      <th>p-corr</th>\n",
              "      <th>p-adjust</th>\n",
              "      <th>BF10</th>\n",
              "      <th>hedges</th>\n",
              "    </tr>\n",
              "  </thead>\n",
              "  <tbody>\n",
              "    <tr>\n",
              "      <th>0</th>\n",
              "      <td>Number of Bathrooms</td>\n",
              "      <td>1.00000</td>\n",
              "      <td>2.00000</td>\n",
              "      <td>False</td>\n",
              "      <td>True</td>\n",
              "      <td>-95.09059</td>\n",
              "      <td>214011.17199</td>\n",
              "      <td>two-sided</td>\n",
              "      <td>0.00000</td>\n",
              "      <td>0.00000</td>\n",
              "      <td>bonf</td>\n",
              "      <td>inf</td>\n",
              "      <td>-0.39522</td>\n",
              "    </tr>\n",
              "    <tr>\n",
              "      <th>1</th>\n",
              "      <td>Number of Bathrooms</td>\n",
              "      <td>1.00000</td>\n",
              "      <td>3.00000</td>\n",
              "      <td>False</td>\n",
              "      <td>True</td>\n",
              "      <td>-124.21756</td>\n",
              "      <td>80974.14435</td>\n",
              "      <td>two-sided</td>\n",
              "      <td>0.00000</td>\n",
              "      <td>0.00000</td>\n",
              "      <td>bonf</td>\n",
              "      <td>inf</td>\n",
              "      <td>-0.72885</td>\n",
              "    </tr>\n",
              "    <tr>\n",
              "      <th>2</th>\n",
              "      <td>Number of Bathrooms</td>\n",
              "      <td>1.00000</td>\n",
              "      <td>4.00000</td>\n",
              "      <td>False</td>\n",
              "      <td>True</td>\n",
              "      <td>-72.79241</td>\n",
              "      <td>13322.94613</td>\n",
              "      <td>two-sided</td>\n",
              "      <td>0.00000</td>\n",
              "      <td>0.00000</td>\n",
              "      <td>bonf</td>\n",
              "      <td>inf</td>\n",
              "      <td>-1.39709</td>\n",
              "    </tr>\n",
              "    <tr>\n",
              "      <th>3</th>\n",
              "      <td>Number of Bathrooms</td>\n",
              "      <td>1.00000</td>\n",
              "      <td>5.00000</td>\n",
              "      <td>False</td>\n",
              "      <td>True</td>\n",
              "      <td>-30.14548</td>\n",
              "      <td>1619.04481</td>\n",
              "      <td>two-sided</td>\n",
              "      <td>0.00000</td>\n",
              "      <td>0.00000</td>\n",
              "      <td>bonf</td>\n",
              "      <td>2.91e+194</td>\n",
              "      <td>-2.86717</td>\n",
              "    </tr>\n",
              "    <tr>\n",
              "      <th>4</th>\n",
              "      <td>Number of Bathrooms</td>\n",
              "      <td>2.00000</td>\n",
              "      <td>3.00000</td>\n",
              "      <td>False</td>\n",
              "      <td>True</td>\n",
              "      <td>-70.10524</td>\n",
              "      <td>87655.07963</td>\n",
              "      <td>two-sided</td>\n",
              "      <td>0.00000</td>\n",
              "      <td>0.00000</td>\n",
              "      <td>bonf</td>\n",
              "      <td>inf</td>\n",
              "      <td>-0.39716</td>\n",
              "    </tr>\n",
              "    <tr>\n",
              "      <th>5</th>\n",
              "      <td>Number of Bathrooms</td>\n",
              "      <td>2.00000</td>\n",
              "      <td>4.00000</td>\n",
              "      <td>False</td>\n",
              "      <td>True</td>\n",
              "      <td>-55.51066</td>\n",
              "      <td>13442.68920</td>\n",
              "      <td>two-sided</td>\n",
              "      <td>0.00000</td>\n",
              "      <td>0.00000</td>\n",
              "      <td>bonf</td>\n",
              "      <td>inf</td>\n",
              "      <td>-0.96727</td>\n",
              "    </tr>\n",
              "    <tr>\n",
              "      <th>6</th>\n",
              "      <td>Number of Bathrooms</td>\n",
              "      <td>2.00000</td>\n",
              "      <td>5.00000</td>\n",
              "      <td>False</td>\n",
              "      <td>True</td>\n",
              "      <td>-25.69944</td>\n",
              "      <td>1620.01892</td>\n",
              "      <td>two-sided</td>\n",
              "      <td>0.00000</td>\n",
              "      <td>0.00000</td>\n",
              "      <td>bonf</td>\n",
              "      <td>1.731e+141</td>\n",
              "      <td>-1.94248</td>\n",
              "    </tr>\n",
              "    <tr>\n",
              "      <th>7</th>\n",
              "      <td>Number of Bathrooms</td>\n",
              "      <td>3.00000</td>\n",
              "      <td>4.00000</td>\n",
              "      <td>False</td>\n",
              "      <td>True</td>\n",
              "      <td>-31.11753</td>\n",
              "      <td>15458.62234</td>\n",
              "      <td>two-sided</td>\n",
              "      <td>0.00000</td>\n",
              "      <td>0.00000</td>\n",
              "      <td>bonf</td>\n",
              "      <td>7.674e+206</td>\n",
              "      <td>-0.38804</td>\n",
              "    </tr>\n",
              "    <tr>\n",
              "      <th>8</th>\n",
              "      <td>Number of Bathrooms</td>\n",
              "      <td>3.00000</td>\n",
              "      <td>5.00000</td>\n",
              "      <td>False</td>\n",
              "      <td>True</td>\n",
              "      <td>-19.61308</td>\n",
              "      <td>1636.04858</td>\n",
              "      <td>two-sided</td>\n",
              "      <td>0.00000</td>\n",
              "      <td>0.00000</td>\n",
              "      <td>bonf</td>\n",
              "      <td>3.643e+81</td>\n",
              "      <td>-0.96610</td>\n",
              "    </tr>\n",
              "    <tr>\n",
              "      <th>9</th>\n",
              "      <td>Number of Bathrooms</td>\n",
              "      <td>4.00000</td>\n",
              "      <td>5.00000</td>\n",
              "      <td>False</td>\n",
              "      <td>True</td>\n",
              "      <td>-10.94794</td>\n",
              "      <td>1835.88189</td>\n",
              "      <td>two-sided</td>\n",
              "      <td>0.00000</td>\n",
              "      <td>0.00000</td>\n",
              "      <td>bonf</td>\n",
              "      <td>2.131e+24</td>\n",
              "      <td>-0.36845</td>\n",
              "    </tr>\n",
              "  </tbody>\n",
              "</table>\n",
              "</div>"
            ],
            "text/plain": [
              "              Contrast       A       B  ...  p-adjust        BF10   hedges\n",
              "0  Number of Bathrooms 1.00000 2.00000  ...      bonf         inf -0.39522\n",
              "1  Number of Bathrooms 1.00000 3.00000  ...      bonf         inf -0.72885\n",
              "2  Number of Bathrooms 1.00000 4.00000  ...      bonf         inf -1.39709\n",
              "3  Number of Bathrooms 1.00000 5.00000  ...      bonf   2.91e+194 -2.86717\n",
              "4  Number of Bathrooms 2.00000 3.00000  ...      bonf         inf -0.39716\n",
              "5  Number of Bathrooms 2.00000 4.00000  ...      bonf         inf -0.96727\n",
              "6  Number of Bathrooms 2.00000 5.00000  ...      bonf  1.731e+141 -1.94248\n",
              "7  Number of Bathrooms 3.00000 4.00000  ...      bonf  7.674e+206 -0.38804\n",
              "8  Number of Bathrooms 3.00000 5.00000  ...      bonf   3.643e+81 -0.96610\n",
              "9  Number of Bathrooms 4.00000 5.00000  ...      bonf   2.131e+24 -0.36845\n",
              "\n",
              "[10 rows x 13 columns]"
            ]
          },
          "metadata": {
            "tags": []
          },
          "execution_count": 96
        }
      ]
    },
    {
      "cell_type": "markdown",
      "metadata": {
        "id": "4VwSGjWsrsCc"
      },
      "source": [
        "**Descriptive Statistics 'Number of Bedrooms'**"
      ]
    },
    {
      "cell_type": "code",
      "metadata": {
        "colab": {
          "base_uri": "https://localhost:8080/"
        },
        "id": "CNXc2M4AoTeT",
        "outputId": "b902d381-3540-4951-b480-32508c046e39"
      },
      "source": [
        "mod = ols(' Q(\"Total Assessed Value\") ~ Q(\"Number of Bedrooms\") ', data = df).fit()\n",
        "aov_table = sm.stats.anova_lm(mod, typ=2)\n",
        "aov_table"
      ],
      "execution_count": null,
      "outputs": [
        {
          "output_type": "execute_result",
          "data": {
            "text/html": [
              "<div>\n",
              "<style scoped>\n",
              "    .dataframe tbody tr th:only-of-type {\n",
              "        vertical-align: middle;\n",
              "    }\n",
              "\n",
              "    .dataframe tbody tr th {\n",
              "        vertical-align: top;\n",
              "    }\n",
              "\n",
              "    .dataframe thead th {\n",
              "        text-align: right;\n",
              "    }\n",
              "</style>\n",
              "<table border=\"1\" class=\"dataframe\">\n",
              "  <thead>\n",
              "    <tr style=\"text-align: right;\">\n",
              "      <th></th>\n",
              "      <th>sum_sq</th>\n",
              "      <th>df</th>\n",
              "      <th>F</th>\n",
              "      <th>PR(&gt;F)</th>\n",
              "    </tr>\n",
              "  </thead>\n",
              "  <tbody>\n",
              "    <tr>\n",
              "      <th>Q(\"Number of Bedrooms\")</th>\n",
              "      <td>4360519568096070.50000</td>\n",
              "      <td>1.00000</td>\n",
              "      <td>10192.84169</td>\n",
              "      <td>0.00000</td>\n",
              "    </tr>\n",
              "    <tr>\n",
              "      <th>Residual</th>\n",
              "      <td>124450211639148400.00000</td>\n",
              "      <td>290906.00000</td>\n",
              "      <td>nan</td>\n",
              "      <td>nan</td>\n",
              "    </tr>\n",
              "  </tbody>\n",
              "</table>\n",
              "</div>"
            ],
            "text/plain": [
              "                                          sum_sq  ...  PR(>F)\n",
              "Q(\"Number of Bedrooms\")   4360519568096070.50000  ... 0.00000\n",
              "Residual                124450211639148400.00000  ...     nan\n",
              "\n",
              "[2 rows x 4 columns]"
            ]
          },
          "metadata": {
            "tags": []
          },
          "execution_count": 97
        }
      ]
    },
    {
      "cell_type": "code",
      "metadata": {
        "colab": {
          "base_uri": "https://localhost:8080/"
        },
        "id": "ny7Ok6DBr6yE",
        "outputId": "2d2f8b84-6237-45c4-c491-1dc12f179067"
      },
      "source": [
        "pairwise_results = pairwise_ttests(dv='Total Assessed Value', between = ['Number of Bedrooms'], padjust='bonf', data=df)\n",
        "pairwise_results"
      ],
      "execution_count": null,
      "outputs": [
        {
          "output_type": "stream",
          "text": [
            "/usr/local/lib/python3.6/dist-packages/pingouin/bayesian.py:152: RuntimeWarning: divide by zero encountered in double_scalars\n",
            "  bf10 = 1 / ((1 + t**2 / df)**(-(df + 1) / 2) / integr)\n",
            "/usr/local/lib/python3.6/dist-packages/pingouin/bayesian.py:152: RuntimeWarning: overflow encountered in double_scalars\n",
            "  bf10 = 1 / ((1 + t**2 / df)**(-(df + 1) / 2) / integr)\n"
          ],
          "name": "stderr"
        },
        {
          "output_type": "execute_result",
          "data": {
            "text/html": [
              "<div>\n",
              "<style scoped>\n",
              "    .dataframe tbody tr th:only-of-type {\n",
              "        vertical-align: middle;\n",
              "    }\n",
              "\n",
              "    .dataframe tbody tr th {\n",
              "        vertical-align: top;\n",
              "    }\n",
              "\n",
              "    .dataframe thead th {\n",
              "        text-align: right;\n",
              "    }\n",
              "</style>\n",
              "<table border=\"1\" class=\"dataframe\">\n",
              "  <thead>\n",
              "    <tr style=\"text-align: right;\">\n",
              "      <th></th>\n",
              "      <th>Contrast</th>\n",
              "      <th>A</th>\n",
              "      <th>B</th>\n",
              "      <th>Paired</th>\n",
              "      <th>Parametric</th>\n",
              "      <th>T</th>\n",
              "      <th>dof</th>\n",
              "      <th>Tail</th>\n",
              "      <th>p-unc</th>\n",
              "      <th>p-corr</th>\n",
              "      <th>p-adjust</th>\n",
              "      <th>BF10</th>\n",
              "      <th>hedges</th>\n",
              "    </tr>\n",
              "  </thead>\n",
              "  <tbody>\n",
              "    <tr>\n",
              "      <th>0</th>\n",
              "      <td>Number of Bedrooms</td>\n",
              "      <td>1.00000</td>\n",
              "      <td>2.00000</td>\n",
              "      <td>False</td>\n",
              "      <td>True</td>\n",
              "      <td>-6.38039</td>\n",
              "      <td>5662.58026</td>\n",
              "      <td>two-sided</td>\n",
              "      <td>0.00000</td>\n",
              "      <td>0.00000</td>\n",
              "      <td>bonf</td>\n",
              "      <td>1.105e+07</td>\n",
              "      <td>-0.09443</td>\n",
              "    </tr>\n",
              "    <tr>\n",
              "      <th>1</th>\n",
              "      <td>Number of Bedrooms</td>\n",
              "      <td>1.00000</td>\n",
              "      <td>3.00000</td>\n",
              "      <td>False</td>\n",
              "      <td>True</td>\n",
              "      <td>-34.45362</td>\n",
              "      <td>5904.36439</td>\n",
              "      <td>two-sided</td>\n",
              "      <td>0.00000</td>\n",
              "      <td>0.00000</td>\n",
              "      <td>bonf</td>\n",
              "      <td>4.012e+254</td>\n",
              "      <td>-0.36687</td>\n",
              "    </tr>\n",
              "    <tr>\n",
              "      <th>2</th>\n",
              "      <td>Number of Bedrooms</td>\n",
              "      <td>1.00000</td>\n",
              "      <td>4.00000</td>\n",
              "      <td>False</td>\n",
              "      <td>True</td>\n",
              "      <td>-51.67506</td>\n",
              "      <td>8023.33102</td>\n",
              "      <td>two-sided</td>\n",
              "      <td>0.00000</td>\n",
              "      <td>0.00000</td>\n",
              "      <td>bonf</td>\n",
              "      <td>inf</td>\n",
              "      <td>-0.45357</td>\n",
              "    </tr>\n",
              "    <tr>\n",
              "      <th>3</th>\n",
              "      <td>Number of Bedrooms</td>\n",
              "      <td>1.00000</td>\n",
              "      <td>5.00000</td>\n",
              "      <td>False</td>\n",
              "      <td>True</td>\n",
              "      <td>-37.78574</td>\n",
              "      <td>17487.47155</td>\n",
              "      <td>two-sided</td>\n",
              "      <td>0.00000</td>\n",
              "      <td>0.00000</td>\n",
              "      <td>bonf</td>\n",
              "      <td>5.18e+296</td>\n",
              "      <td>-0.46587</td>\n",
              "    </tr>\n",
              "    <tr>\n",
              "      <th>4</th>\n",
              "      <td>Number of Bedrooms</td>\n",
              "      <td>1.00000</td>\n",
              "      <td>6.00000</td>\n",
              "      <td>False</td>\n",
              "      <td>True</td>\n",
              "      <td>-12.83115</td>\n",
              "      <td>1058.62565</td>\n",
              "      <td>two-sided</td>\n",
              "      <td>0.00000</td>\n",
              "      <td>0.00000</td>\n",
              "      <td>bonf</td>\n",
              "      <td>5.337e+33</td>\n",
              "      <td>-0.69663</td>\n",
              "    </tr>\n",
              "    <tr>\n",
              "      <th>5</th>\n",
              "      <td>Number of Bedrooms</td>\n",
              "      <td>1.00000</td>\n",
              "      <td>7.00000</td>\n",
              "      <td>False</td>\n",
              "      <td>True</td>\n",
              "      <td>-6.55203</td>\n",
              "      <td>97.75227</td>\n",
              "      <td>two-sided</td>\n",
              "      <td>0.00000</td>\n",
              "      <td>0.00000</td>\n",
              "      <td>bonf</td>\n",
              "      <td>1.185e+08</td>\n",
              "      <td>-0.53442</td>\n",
              "    </tr>\n",
              "    <tr>\n",
              "      <th>6</th>\n",
              "      <td>Number of Bedrooms</td>\n",
              "      <td>1.00000</td>\n",
              "      <td>8.00000</td>\n",
              "      <td>False</td>\n",
              "      <td>True</td>\n",
              "      <td>3.84197</td>\n",
              "      <td>48.42852</td>\n",
              "      <td>two-sided</td>\n",
              "      <td>0.00036</td>\n",
              "      <td>0.01278</td>\n",
              "      <td>bonf</td>\n",
              "      <td>164.231</td>\n",
              "      <td>0.22545</td>\n",
              "    </tr>\n",
              "    <tr>\n",
              "      <th>7</th>\n",
              "      <td>Number of Bedrooms</td>\n",
              "      <td>1.00000</td>\n",
              "      <td>9.00000</td>\n",
              "      <td>False</td>\n",
              "      <td>True</td>\n",
              "      <td>-49.22316</td>\n",
              "      <td>1.12345</td>\n",
              "      <td>two-sided</td>\n",
              "      <td>0.00823</td>\n",
              "      <td>0.29617</td>\n",
              "      <td>bonf</td>\n",
              "      <td>inf</td>\n",
              "      <td>-2.90824</td>\n",
              "    </tr>\n",
              "    <tr>\n",
              "      <th>8</th>\n",
              "      <td>Number of Bedrooms</td>\n",
              "      <td>2.00000</td>\n",
              "      <td>3.00000</td>\n",
              "      <td>False</td>\n",
              "      <td>True</td>\n",
              "      <td>-78.92102</td>\n",
              "      <td>205299.34446</td>\n",
              "      <td>two-sided</td>\n",
              "      <td>0.00000</td>\n",
              "      <td>0.00000</td>\n",
              "      <td>bonf</td>\n",
              "      <td>inf</td>\n",
              "      <td>-0.33297</td>\n",
              "    </tr>\n",
              "    <tr>\n",
              "      <th>9</th>\n",
              "      <td>Number of Bedrooms</td>\n",
              "      <td>2.00000</td>\n",
              "      <td>4.00000</td>\n",
              "      <td>False</td>\n",
              "      <td>True</td>\n",
              "      <td>-91.10896</td>\n",
              "      <td>94350.21969</td>\n",
              "      <td>two-sided</td>\n",
              "      <td>0.00000</td>\n",
              "      <td>0.00000</td>\n",
              "      <td>bonf</td>\n",
              "      <td>inf</td>\n",
              "      <td>-0.50765</td>\n",
              "    </tr>\n",
              "    <tr>\n",
              "      <th>10</th>\n",
              "      <td>Number of Bedrooms</td>\n",
              "      <td>2.00000</td>\n",
              "      <td>5.00000</td>\n",
              "      <td>False</td>\n",
              "      <td>True</td>\n",
              "      <td>-42.18008</td>\n",
              "      <td>14451.92760</td>\n",
              "      <td>two-sided</td>\n",
              "      <td>0.00000</td>\n",
              "      <td>0.00000</td>\n",
              "      <td>bonf</td>\n",
              "      <td>inf</td>\n",
              "      <td>-0.64437</td>\n",
              "    </tr>\n",
              "    <tr>\n",
              "      <th>11</th>\n",
              "      <td>Number of Bedrooms</td>\n",
              "      <td>2.00000</td>\n",
              "      <td>6.00000</td>\n",
              "      <td>False</td>\n",
              "      <td>True</td>\n",
              "      <td>-11.69042</td>\n",
              "      <td>971.23129</td>\n",
              "      <td>two-sided</td>\n",
              "      <td>0.00000</td>\n",
              "      <td>0.00000</td>\n",
              "      <td>bonf</td>\n",
              "      <td>1.277e+28</td>\n",
              "      <td>-0.76368</td>\n",
              "    </tr>\n",
              "    <tr>\n",
              "      <th>12</th>\n",
              "      <td>Number of Bedrooms</td>\n",
              "      <td>2.00000</td>\n",
              "      <td>7.00000</td>\n",
              "      <td>False</td>\n",
              "      <td>True</td>\n",
              "      <td>-5.49588</td>\n",
              "      <td>92.32585</td>\n",
              "      <td>two-sided</td>\n",
              "      <td>0.00000</td>\n",
              "      <td>0.00001</td>\n",
              "      <td>bonf</td>\n",
              "      <td>2.58e+05</td>\n",
              "      <td>-0.45191</td>\n",
              "    </tr>\n",
              "    <tr>\n",
              "      <th>13</th>\n",
              "      <td>Number of Bedrooms</td>\n",
              "      <td>2.00000</td>\n",
              "      <td>8.00000</td>\n",
              "      <td>False</td>\n",
              "      <td>True</td>\n",
              "      <td>5.57208</td>\n",
              "      <td>43.30323</td>\n",
              "      <td>two-sided</td>\n",
              "      <td>0.00000</td>\n",
              "      <td>0.00005</td>\n",
              "      <td>bonf</td>\n",
              "      <td>3.98e+05</td>\n",
              "      <td>0.32514</td>\n",
              "    </tr>\n",
              "    <tr>\n",
              "      <th>14</th>\n",
              "      <td>Number of Bedrooms</td>\n",
              "      <td>2.00000</td>\n",
              "      <td>9.00000</td>\n",
              "      <td>False</td>\n",
              "      <td>True</td>\n",
              "      <td>-48.98622</td>\n",
              "      <td>1.00690</td>\n",
              "      <td>two-sided</td>\n",
              "      <td>0.01267</td>\n",
              "      <td>0.45601</td>\n",
              "      <td>bonf</td>\n",
              "      <td>inf</td>\n",
              "      <td>-2.88933</td>\n",
              "    </tr>\n",
              "    <tr>\n",
              "      <th>15</th>\n",
              "      <td>Number of Bedrooms</td>\n",
              "      <td>3.00000</td>\n",
              "      <td>4.00000</td>\n",
              "      <td>False</td>\n",
              "      <td>True</td>\n",
              "      <td>-38.05551</td>\n",
              "      <td>106751.21138</td>\n",
              "      <td>two-sided</td>\n",
              "      <td>0.00000</td>\n",
              "      <td>0.00000</td>\n",
              "      <td>bonf</td>\n",
              "      <td>inf</td>\n",
              "      <td>-0.20012</td>\n",
              "    </tr>\n",
              "    <tr>\n",
              "      <th>16</th>\n",
              "      <td>Number of Bedrooms</td>\n",
              "      <td>3.00000</td>\n",
              "      <td>5.00000</td>\n",
              "      <td>False</td>\n",
              "      <td>True</td>\n",
              "      <td>-19.42976</td>\n",
              "      <td>14840.55096</td>\n",
              "      <td>two-sided</td>\n",
              "      <td>0.00000</td>\n",
              "      <td>0.00000</td>\n",
              "      <td>bonf</td>\n",
              "      <td>7.03e+79</td>\n",
              "      <td>-0.24206</td>\n",
              "    </tr>\n",
              "    <tr>\n",
              "      <th>17</th>\n",
              "      <td>Number of Bedrooms</td>\n",
              "      <td>3.00000</td>\n",
              "      <td>6.00000</td>\n",
              "      <td>False</td>\n",
              "      <td>True</td>\n",
              "      <td>-5.35231</td>\n",
              "      <td>973.27250</td>\n",
              "      <td>two-sided</td>\n",
              "      <td>0.00000</td>\n",
              "      <td>0.00000</td>\n",
              "      <td>bonf</td>\n",
              "      <td>5.697e+04</td>\n",
              "      <td>-0.24975</td>\n",
              "    </tr>\n",
              "    <tr>\n",
              "      <th>18</th>\n",
              "      <td>Number of Bedrooms</td>\n",
              "      <td>3.00000</td>\n",
              "      <td>7.00000</td>\n",
              "      <td>False</td>\n",
              "      <td>True</td>\n",
              "      <td>-0.36869</td>\n",
              "      <td>92.45292</td>\n",
              "      <td>two-sided</td>\n",
              "      <td>0.71320</td>\n",
              "      <td>1.00000</td>\n",
              "      <td>bonf</td>\n",
              "      <td>0.122</td>\n",
              "      <td>-0.02135</td>\n",
              "    </tr>\n",
              "    <tr>\n",
              "      <th>19</th>\n",
              "      <td>Number of Bedrooms</td>\n",
              "      <td>3.00000</td>\n",
              "      <td>8.00000</td>\n",
              "      <td>False</td>\n",
              "      <td>True</td>\n",
              "      <td>12.78830</td>\n",
              "      <td>43.42161</td>\n",
              "      <td>two-sided</td>\n",
              "      <td>0.00000</td>\n",
              "      <td>0.00000</td>\n",
              "      <td>bonf</td>\n",
              "      <td>6.301e+33</td>\n",
              "      <td>0.52571</td>\n",
              "    </tr>\n",
              "    <tr>\n",
              "      <th>20</th>\n",
              "      <td>Number of Bedrooms</td>\n",
              "      <td>3.00000</td>\n",
              "      <td>9.00000</td>\n",
              "      <td>False</td>\n",
              "      <td>True</td>\n",
              "      <td>-41.81211</td>\n",
              "      <td>1.00959</td>\n",
              "      <td>two-sided</td>\n",
              "      <td>0.01472</td>\n",
              "      <td>0.52974</td>\n",
              "      <td>bonf</td>\n",
              "      <td>inf</td>\n",
              "      <td>-1.73748</td>\n",
              "    </tr>\n",
              "    <tr>\n",
              "      <th>21</th>\n",
              "      <td>Number of Bedrooms</td>\n",
              "      <td>4.00000</td>\n",
              "      <td>5.00000</td>\n",
              "      <td>False</td>\n",
              "      <td>True</td>\n",
              "      <td>-2.21781</td>\n",
              "      <td>18110.97455</td>\n",
              "      <td>two-sided</td>\n",
              "      <td>0.02658</td>\n",
              "      <td>0.95687</td>\n",
              "      <td>bonf</td>\n",
              "      <td>0.125</td>\n",
              "      <td>-0.02263</td>\n",
              "    </tr>\n",
              "    <tr>\n",
              "      <th>22</th>\n",
              "      <td>Number of Bedrooms</td>\n",
              "      <td>4.00000</td>\n",
              "      <td>6.00000</td>\n",
              "      <td>False</td>\n",
              "      <td>True</td>\n",
              "      <td>-0.53267</td>\n",
              "      <td>989.96134</td>\n",
              "      <td>two-sided</td>\n",
              "      <td>0.59438</td>\n",
              "      <td>1.00000</td>\n",
              "      <td>bonf</td>\n",
              "      <td>0.042</td>\n",
              "      <td>-0.01878</td>\n",
              "    </tr>\n",
              "    <tr>\n",
              "      <th>23</th>\n",
              "      <td>Number of Bedrooms</td>\n",
              "      <td>4.00000</td>\n",
              "      <td>7.00000</td>\n",
              "      <td>False</td>\n",
              "      <td>True</td>\n",
              "      <td>3.52081</td>\n",
              "      <td>93.49017</td>\n",
              "      <td>two-sided</td>\n",
              "      <td>0.00067</td>\n",
              "      <td>0.02401</td>\n",
              "      <td>bonf</td>\n",
              "      <td>45.282</td>\n",
              "      <td>0.15346</td>\n",
              "    </tr>\n",
              "    <tr>\n",
              "      <th>24</th>\n",
              "      <td>Number of Bedrooms</td>\n",
              "      <td>4.00000</td>\n",
              "      <td>8.00000</td>\n",
              "      <td>False</td>\n",
              "      <td>True</td>\n",
              "      <td>18.18066</td>\n",
              "      <td>44.39101</td>\n",
              "      <td>two-sided</td>\n",
              "      <td>0.00000</td>\n",
              "      <td>0.00000</td>\n",
              "      <td>bonf</td>\n",
              "      <td>4.226e+69</td>\n",
              "      <td>0.56391</td>\n",
              "    </tr>\n",
              "    <tr>\n",
              "      <th>25</th>\n",
              "      <td>Number of Bedrooms</td>\n",
              "      <td>4.00000</td>\n",
              "      <td>9.00000</td>\n",
              "      <td>False</td>\n",
              "      <td>True</td>\n",
              "      <td>-36.18297</td>\n",
              "      <td>1.03164</td>\n",
              "      <td>two-sided</td>\n",
              "      <td>0.01580</td>\n",
              "      <td>0.56892</td>\n",
              "      <td>bonf</td>\n",
              "      <td>1.958e+278</td>\n",
              "      <td>-1.13416</td>\n",
              "    </tr>\n",
              "    <tr>\n",
              "      <th>26</th>\n",
              "      <td>Number of Bedrooms</td>\n",
              "      <td>5.00000</td>\n",
              "      <td>6.00000</td>\n",
              "      <td>False</td>\n",
              "      <td>True</td>\n",
              "      <td>0.11857</td>\n",
              "      <td>1117.83609</td>\n",
              "      <td>two-sided</td>\n",
              "      <td>0.90564</td>\n",
              "      <td>1.00000</td>\n",
              "      <td>bonf</td>\n",
              "      <td>0.038</td>\n",
              "      <td>0.00385</td>\n",
              "    </tr>\n",
              "    <tr>\n",
              "      <th>27</th>\n",
              "      <td>Number of Bedrooms</td>\n",
              "      <td>5.00000</td>\n",
              "      <td>7.00000</td>\n",
              "      <td>False</td>\n",
              "      <td>True</td>\n",
              "      <td>3.97053</td>\n",
              "      <td>101.36909</td>\n",
              "      <td>two-sided</td>\n",
              "      <td>0.00013</td>\n",
              "      <td>0.00483</td>\n",
              "      <td>bonf</td>\n",
              "      <td>231.002</td>\n",
              "      <td>0.15763</td>\n",
              "    </tr>\n",
              "    <tr>\n",
              "      <th>28</th>\n",
              "      <td>Number of Bedrooms</td>\n",
              "      <td>5.00000</td>\n",
              "      <td>8.00000</td>\n",
              "      <td>False</td>\n",
              "      <td>True</td>\n",
              "      <td>18.19937</td>\n",
              "      <td>51.91994</td>\n",
              "      <td>two-sided</td>\n",
              "      <td>0.00000</td>\n",
              "      <td>0.00000</td>\n",
              "      <td>bonf</td>\n",
              "      <td>1.228e+69</td>\n",
              "      <td>0.52342</td>\n",
              "    </tr>\n",
              "    <tr>\n",
              "      <th>29</th>\n",
              "      <td>Number of Bedrooms</td>\n",
              "      <td>5.00000</td>\n",
              "      <td>9.00000</td>\n",
              "      <td>False</td>\n",
              "      <td>True</td>\n",
              "      <td>-34.11105</td>\n",
              "      <td>1.20275</td>\n",
              "      <td>two-sided</td>\n",
              "      <td>0.00961</td>\n",
              "      <td>0.34592</td>\n",
              "      <td>bonf</td>\n",
              "      <td>1.598e+239</td>\n",
              "      <td>-0.98943</td>\n",
              "    </tr>\n",
              "    <tr>\n",
              "      <th>30</th>\n",
              "      <td>Number of Bedrooms</td>\n",
              "      <td>6.00000</td>\n",
              "      <td>7.00000</td>\n",
              "      <td>False</td>\n",
              "      <td>True</td>\n",
              "      <td>3.08543</td>\n",
              "      <td>241.92217</td>\n",
              "      <td>two-sided</td>\n",
              "      <td>0.00227</td>\n",
              "      <td>0.08168</td>\n",
              "      <td>bonf</td>\n",
              "      <td>11.419</td>\n",
              "      <td>0.16385</td>\n",
              "    </tr>\n",
              "    <tr>\n",
              "      <th>31</th>\n",
              "      <td>Number of Bedrooms</td>\n",
              "      <td>6.00000</td>\n",
              "      <td>8.00000</td>\n",
              "      <td>False</td>\n",
              "      <td>True</td>\n",
              "      <td>12.48252</td>\n",
              "      <td>211.81837</td>\n",
              "      <td>two-sided</td>\n",
              "      <td>0.00000</td>\n",
              "      <td>0.00000</td>\n",
              "      <td>bonf</td>\n",
              "      <td>6.558e+29</td>\n",
              "      <td>0.54470</td>\n",
              "    </tr>\n",
              "    <tr>\n",
              "      <th>32</th>\n",
              "      <td>Number of Bedrooms</td>\n",
              "      <td>6.00000</td>\n",
              "      <td>9.00000</td>\n",
              "      <td>False</td>\n",
              "      <td>True</td>\n",
              "      <td>-23.78451</td>\n",
              "      <td>5.15927</td>\n",
              "      <td>two-sided</td>\n",
              "      <td>0.00000</td>\n",
              "      <td>0.00006</td>\n",
              "      <td>bonf</td>\n",
              "      <td>9.249e+93</td>\n",
              "      <td>-1.02172</td>\n",
              "    </tr>\n",
              "    <tr>\n",
              "      <th>33</th>\n",
              "      <td>Number of Bedrooms</td>\n",
              "      <td>7.00000</td>\n",
              "      <td>8.00000</td>\n",
              "      <td>False</td>\n",
              "      <td>True</td>\n",
              "      <td>7.71578</td>\n",
              "      <td>134.84071</td>\n",
              "      <td>two-sided</td>\n",
              "      <td>0.00000</td>\n",
              "      <td>0.00000</td>\n",
              "      <td>bonf</td>\n",
              "      <td>2.633e+09</td>\n",
              "      <td>1.12082</td>\n",
              "    </tr>\n",
              "    <tr>\n",
              "      <th>34</th>\n",
              "      <td>Number of Bedrooms</td>\n",
              "      <td>7.00000</td>\n",
              "      <td>9.00000</td>\n",
              "      <td>False</td>\n",
              "      <td>True</td>\n",
              "      <td>-24.11880</td>\n",
              "      <td>8.33561</td>\n",
              "      <td>two-sided</td>\n",
              "      <td>0.00000</td>\n",
              "      <td>0.00000</td>\n",
              "      <td>bonf</td>\n",
              "      <td>3.88e+37</td>\n",
              "      <td>-3.06871</td>\n",
              "    </tr>\n",
              "    <tr>\n",
              "      <th>35</th>\n",
              "      <td>Number of Bedrooms</td>\n",
              "      <td>8.00000</td>\n",
              "      <td>9.00000</td>\n",
              "      <td>False</td>\n",
              "      <td>True</td>\n",
              "      <td>-38.81361</td>\n",
              "      <td>3.82823</td>\n",
              "      <td>two-sided</td>\n",
              "      <td>0.00000</td>\n",
              "      <td>0.00015</td>\n",
              "      <td>bonf</td>\n",
              "      <td>3.41e+31</td>\n",
              "      <td>-8.26842</td>\n",
              "    </tr>\n",
              "  </tbody>\n",
              "</table>\n",
              "</div>"
            ],
            "text/plain": [
              "              Contrast       A       B  ...  p-adjust        BF10   hedges\n",
              "0   Number of Bedrooms 1.00000 2.00000  ...      bonf   1.105e+07 -0.09443\n",
              "1   Number of Bedrooms 1.00000 3.00000  ...      bonf  4.012e+254 -0.36687\n",
              "2   Number of Bedrooms 1.00000 4.00000  ...      bonf         inf -0.45357\n",
              "3   Number of Bedrooms 1.00000 5.00000  ...      bonf   5.18e+296 -0.46587\n",
              "4   Number of Bedrooms 1.00000 6.00000  ...      bonf   5.337e+33 -0.69663\n",
              "5   Number of Bedrooms 1.00000 7.00000  ...      bonf   1.185e+08 -0.53442\n",
              "6   Number of Bedrooms 1.00000 8.00000  ...      bonf     164.231  0.22545\n",
              "7   Number of Bedrooms 1.00000 9.00000  ...      bonf         inf -2.90824\n",
              "8   Number of Bedrooms 2.00000 3.00000  ...      bonf         inf -0.33297\n",
              "9   Number of Bedrooms 2.00000 4.00000  ...      bonf         inf -0.50765\n",
              "10  Number of Bedrooms 2.00000 5.00000  ...      bonf         inf -0.64437\n",
              "11  Number of Bedrooms 2.00000 6.00000  ...      bonf   1.277e+28 -0.76368\n",
              "12  Number of Bedrooms 2.00000 7.00000  ...      bonf    2.58e+05 -0.45191\n",
              "13  Number of Bedrooms 2.00000 8.00000  ...      bonf    3.98e+05  0.32514\n",
              "14  Number of Bedrooms 2.00000 9.00000  ...      bonf         inf -2.88933\n",
              "15  Number of Bedrooms 3.00000 4.00000  ...      bonf         inf -0.20012\n",
              "16  Number of Bedrooms 3.00000 5.00000  ...      bonf    7.03e+79 -0.24206\n",
              "17  Number of Bedrooms 3.00000 6.00000  ...      bonf   5.697e+04 -0.24975\n",
              "18  Number of Bedrooms 3.00000 7.00000  ...      bonf       0.122 -0.02135\n",
              "19  Number of Bedrooms 3.00000 8.00000  ...      bonf   6.301e+33  0.52571\n",
              "20  Number of Bedrooms 3.00000 9.00000  ...      bonf         inf -1.73748\n",
              "21  Number of Bedrooms 4.00000 5.00000  ...      bonf       0.125 -0.02263\n",
              "22  Number of Bedrooms 4.00000 6.00000  ...      bonf       0.042 -0.01878\n",
              "23  Number of Bedrooms 4.00000 7.00000  ...      bonf      45.282  0.15346\n",
              "24  Number of Bedrooms 4.00000 8.00000  ...      bonf   4.226e+69  0.56391\n",
              "25  Number of Bedrooms 4.00000 9.00000  ...      bonf  1.958e+278 -1.13416\n",
              "26  Number of Bedrooms 5.00000 6.00000  ...      bonf       0.038  0.00385\n",
              "27  Number of Bedrooms 5.00000 7.00000  ...      bonf     231.002  0.15763\n",
              "28  Number of Bedrooms 5.00000 8.00000  ...      bonf   1.228e+69  0.52342\n",
              "29  Number of Bedrooms 5.00000 9.00000  ...      bonf  1.598e+239 -0.98943\n",
              "30  Number of Bedrooms 6.00000 7.00000  ...      bonf      11.419  0.16385\n",
              "31  Number of Bedrooms 6.00000 8.00000  ...      bonf   6.558e+29  0.54470\n",
              "32  Number of Bedrooms 6.00000 9.00000  ...      bonf   9.249e+93 -1.02172\n",
              "33  Number of Bedrooms 7.00000 8.00000  ...      bonf   2.633e+09  1.12082\n",
              "34  Number of Bedrooms 7.00000 9.00000  ...      bonf    3.88e+37 -3.06871\n",
              "35  Number of Bedrooms 8.00000 9.00000  ...      bonf    3.41e+31 -8.26842\n",
              "\n",
              "[36 rows x 13 columns]"
            ]
          },
          "metadata": {
            "tags": []
          },
          "execution_count": 98
        }
      ]
    },
    {
      "cell_type": "markdown",
      "metadata": {
        "id": "VcAQGtFUr8zl"
      },
      "source": [
        "**Descriptive Statistics 'Number of Rooms'**"
      ]
    },
    {
      "cell_type": "code",
      "metadata": {
        "colab": {
          "base_uri": "https://localhost:8080/"
        },
        "id": "RXYoTbFdoXmr",
        "outputId": "d7da238d-aef1-4377-9faa-ceb56d01c153"
      },
      "source": [
        "mod = ols(' Q(\"Total Assessed Value\") ~ Q(\"Number of Rooms\") ', data = df).fit()\n",
        "aov_table = sm.stats.anova_lm(mod, typ=2)\n",
        "aov_table"
      ],
      "execution_count": null,
      "outputs": [
        {
          "output_type": "execute_result",
          "data": {
            "text/html": [
              "<div>\n",
              "<style scoped>\n",
              "    .dataframe tbody tr th:only-of-type {\n",
              "        vertical-align: middle;\n",
              "    }\n",
              "\n",
              "    .dataframe tbody tr th {\n",
              "        vertical-align: top;\n",
              "    }\n",
              "\n",
              "    .dataframe thead th {\n",
              "        text-align: right;\n",
              "    }\n",
              "</style>\n",
              "<table border=\"1\" class=\"dataframe\">\n",
              "  <thead>\n",
              "    <tr style=\"text-align: right;\">\n",
              "      <th></th>\n",
              "      <th>sum_sq</th>\n",
              "      <th>df</th>\n",
              "      <th>F</th>\n",
              "      <th>PR(&gt;F)</th>\n",
              "    </tr>\n",
              "  </thead>\n",
              "  <tbody>\n",
              "    <tr>\n",
              "      <th>Q(\"Number of Rooms\")</th>\n",
              "      <td>8051621347862611.00000</td>\n",
              "      <td>1.00000</td>\n",
              "      <td>19396.17609</td>\n",
              "      <td>0.00000</td>\n",
              "    </tr>\n",
              "    <tr>\n",
              "      <th>Residual</th>\n",
              "      <td>120759109859381888.00000</td>\n",
              "      <td>290906.00000</td>\n",
              "      <td>nan</td>\n",
              "      <td>nan</td>\n",
              "    </tr>\n",
              "  </tbody>\n",
              "</table>\n",
              "</div>"
            ],
            "text/plain": [
              "                                       sum_sq           df           F  PR(>F)\n",
              "Q(\"Number of Rooms\")   8051621347862611.00000      1.00000 19396.17609 0.00000\n",
              "Residual             120759109859381888.00000 290906.00000         nan     nan"
            ]
          },
          "metadata": {
            "tags": []
          },
          "execution_count": 99
        }
      ]
    },
    {
      "cell_type": "code",
      "metadata": {
        "colab": {
          "base_uri": "https://localhost:8080/"
        },
        "id": "TCF-pFURsGfL",
        "outputId": "a4ddeb29-e3a9-472d-c5d8-5869a55c04f5"
      },
      "source": [
        "pairwise_results = pairwise_ttests(dv='Total Assessed Value', between = ['Number of Rooms'], padjust='bonf', data=df)\n",
        "pairwise_results"
      ],
      "execution_count": null,
      "outputs": [
        {
          "output_type": "stream",
          "text": [
            "/usr/local/lib/python3.6/dist-packages/pingouin/bayesian.py:152: RuntimeWarning: divide by zero encountered in double_scalars\n",
            "  bf10 = 1 / ((1 + t**2 / df)**(-(df + 1) / 2) / integr)\n"
          ],
          "name": "stderr"
        },
        {
          "output_type": "execute_result",
          "data": {
            "text/html": [
              "<div>\n",
              "<style scoped>\n",
              "    .dataframe tbody tr th:only-of-type {\n",
              "        vertical-align: middle;\n",
              "    }\n",
              "\n",
              "    .dataframe tbody tr th {\n",
              "        vertical-align: top;\n",
              "    }\n",
              "\n",
              "    .dataframe thead th {\n",
              "        text-align: right;\n",
              "    }\n",
              "</style>\n",
              "<table border=\"1\" class=\"dataframe\">\n",
              "  <thead>\n",
              "    <tr style=\"text-align: right;\">\n",
              "      <th></th>\n",
              "      <th>Contrast</th>\n",
              "      <th>A</th>\n",
              "      <th>B</th>\n",
              "      <th>Paired</th>\n",
              "      <th>Parametric</th>\n",
              "      <th>T</th>\n",
              "      <th>dof</th>\n",
              "      <th>Tail</th>\n",
              "      <th>p-unc</th>\n",
              "      <th>p-corr</th>\n",
              "      <th>p-adjust</th>\n",
              "      <th>BF10</th>\n",
              "      <th>hedges</th>\n",
              "    </tr>\n",
              "  </thead>\n",
              "  <tbody>\n",
              "    <tr>\n",
              "      <th>0</th>\n",
              "      <td>Number of Rooms</td>\n",
              "      <td>1.00000</td>\n",
              "      <td>2.00000</td>\n",
              "      <td>False</td>\n",
              "      <td>True</td>\n",
              "      <td>0.74531</td>\n",
              "      <td>101.26659</td>\n",
              "      <td>two-sided</td>\n",
              "      <td>0.45781</td>\n",
              "      <td>1.00000</td>\n",
              "      <td>bonf</td>\n",
              "      <td>0.267</td>\n",
              "      <td>0.14088</td>\n",
              "    </tr>\n",
              "    <tr>\n",
              "      <th>1</th>\n",
              "      <td>Number of Rooms</td>\n",
              "      <td>1.00000</td>\n",
              "      <td>3.00000</td>\n",
              "      <td>False</td>\n",
              "      <td>True</td>\n",
              "      <td>3.08773</td>\n",
              "      <td>48.13535</td>\n",
              "      <td>two-sided</td>\n",
              "      <td>0.00334</td>\n",
              "      <td>0.12035</td>\n",
              "      <td>bonf</td>\n",
              "      <td>13.778</td>\n",
              "      <td>0.49504</td>\n",
              "    </tr>\n",
              "    <tr>\n",
              "      <th>2</th>\n",
              "      <td>Number of Rooms</td>\n",
              "      <td>1.00000</td>\n",
              "      <td>4.00000</td>\n",
              "      <td>False</td>\n",
              "      <td>True</td>\n",
              "      <td>2.94720</td>\n",
              "      <td>45.16451</td>\n",
              "      <td>two-sided</td>\n",
              "      <td>0.00506</td>\n",
              "      <td>0.18212</td>\n",
              "      <td>bonf</td>\n",
              "      <td>9.292</td>\n",
              "      <td>0.53673</td>\n",
              "    </tr>\n",
              "    <tr>\n",
              "      <th>3</th>\n",
              "      <td>Number of Rooms</td>\n",
              "      <td>1.00000</td>\n",
              "      <td>5.00000</td>\n",
              "      <td>False</td>\n",
              "      <td>True</td>\n",
              "      <td>2.15070</td>\n",
              "      <td>45.05960</td>\n",
              "      <td>two-sided</td>\n",
              "      <td>0.03690</td>\n",
              "      <td>1.00000</td>\n",
              "      <td>bonf</td>\n",
              "      <td>1.381</td>\n",
              "      <td>0.36097</td>\n",
              "    </tr>\n",
              "    <tr>\n",
              "      <th>4</th>\n",
              "      <td>Number of Rooms</td>\n",
              "      <td>1.00000</td>\n",
              "      <td>6.00000</td>\n",
              "      <td>False</td>\n",
              "      <td>True</td>\n",
              "      <td>0.32601</td>\n",
              "      <td>45.08012</td>\n",
              "      <td>two-sided</td>\n",
              "      <td>0.74592</td>\n",
              "      <td>1.00000</td>\n",
              "      <td>bonf</td>\n",
              "      <td>0.168</td>\n",
              "      <td>0.04257</td>\n",
              "    </tr>\n",
              "    <tr>\n",
              "      <th>5</th>\n",
              "      <td>Number of Rooms</td>\n",
              "      <td>1.00000</td>\n",
              "      <td>7.00000</td>\n",
              "      <td>False</td>\n",
              "      <td>True</td>\n",
              "      <td>-1.19276</td>\n",
              "      <td>45.12011</td>\n",
              "      <td>two-sided</td>\n",
              "      <td>0.23920</td>\n",
              "      <td>1.00000</td>\n",
              "      <td>bonf</td>\n",
              "      <td>0.31</td>\n",
              "      <td>-0.12736</td>\n",
              "    </tr>\n",
              "    <tr>\n",
              "      <th>6</th>\n",
              "      <td>Number of Rooms</td>\n",
              "      <td>1.00000</td>\n",
              "      <td>8.00000</td>\n",
              "      <td>False</td>\n",
              "      <td>True</td>\n",
              "      <td>-3.33728</td>\n",
              "      <td>45.25780</td>\n",
              "      <td>two-sided</td>\n",
              "      <td>0.00170</td>\n",
              "      <td>0.06115</td>\n",
              "      <td>bonf</td>\n",
              "      <td>29.55</td>\n",
              "      <td>-0.26472</td>\n",
              "    </tr>\n",
              "    <tr>\n",
              "      <th>7</th>\n",
              "      <td>Number of Rooms</td>\n",
              "      <td>1.00000</td>\n",
              "      <td>9.00000</td>\n",
              "      <td>False</td>\n",
              "      <td>True</td>\n",
              "      <td>-5.71073</td>\n",
              "      <td>45.65906</td>\n",
              "      <td>two-sided</td>\n",
              "      <td>0.00000</td>\n",
              "      <td>0.00003</td>\n",
              "      <td>bonf</td>\n",
              "      <td>8.433e+05</td>\n",
              "      <td>-0.37608</td>\n",
              "    </tr>\n",
              "    <tr>\n",
              "      <th>8</th>\n",
              "      <td>Number of Rooms</td>\n",
              "      <td>2.00000</td>\n",
              "      <td>3.00000</td>\n",
              "      <td>False</td>\n",
              "      <td>True</td>\n",
              "      <td>1.57902</td>\n",
              "      <td>59.62113</td>\n",
              "      <td>two-sided</td>\n",
              "      <td>0.11962</td>\n",
              "      <td>1.00000</td>\n",
              "      <td>bonf</td>\n",
              "      <td>0.474</td>\n",
              "      <td>0.30165</td>\n",
              "    </tr>\n",
              "    <tr>\n",
              "      <th>9</th>\n",
              "      <td>Number of Rooms</td>\n",
              "      <td>2.00000</td>\n",
              "      <td>4.00000</td>\n",
              "      <td>False</td>\n",
              "      <td>True</td>\n",
              "      <td>1.44097</td>\n",
              "      <td>57.13825</td>\n",
              "      <td>two-sided</td>\n",
              "      <td>0.15505</td>\n",
              "      <td>1.00000</td>\n",
              "      <td>bonf</td>\n",
              "      <td>0.382</td>\n",
              "      <td>0.32121</td>\n",
              "    </tr>\n",
              "    <tr>\n",
              "      <th>10</th>\n",
              "      <td>Number of Rooms</td>\n",
              "      <td>2.00000</td>\n",
              "      <td>5.00000</td>\n",
              "      <td>False</td>\n",
              "      <td>True</td>\n",
              "      <td>0.79118</td>\n",
              "      <td>57.05010</td>\n",
              "      <td>two-sided</td>\n",
              "      <td>0.43212</td>\n",
              "      <td>1.00000</td>\n",
              "      <td>bonf</td>\n",
              "      <td>0.193</td>\n",
              "      <td>0.16288</td>\n",
              "    </tr>\n",
              "    <tr>\n",
              "      <th>11</th>\n",
              "      <td>Number of Rooms</td>\n",
              "      <td>2.00000</td>\n",
              "      <td>6.00000</td>\n",
              "      <td>False</td>\n",
              "      <td>True</td>\n",
              "      <td>-0.69541</td>\n",
              "      <td>57.06734</td>\n",
              "      <td>two-sided</td>\n",
              "      <td>0.48962</td>\n",
              "      <td>1.00000</td>\n",
              "      <td>bonf</td>\n",
              "      <td>0.18</td>\n",
              "      <td>-0.11141</td>\n",
              "    </tr>\n",
              "    <tr>\n",
              "      <th>12</th>\n",
              "      <td>Number of Rooms</td>\n",
              "      <td>2.00000</td>\n",
              "      <td>7.00000</td>\n",
              "      <td>False</td>\n",
              "      <td>True</td>\n",
              "      <td>-1.93281</td>\n",
              "      <td>57.10095</td>\n",
              "      <td>two-sided</td>\n",
              "      <td>0.05822</td>\n",
              "      <td>1.00000</td>\n",
              "      <td>bonf</td>\n",
              "      <td>0.836</td>\n",
              "      <td>-0.25324</td>\n",
              "    </tr>\n",
              "    <tr>\n",
              "      <th>13</th>\n",
              "      <td>Number of Rooms</td>\n",
              "      <td>2.00000</td>\n",
              "      <td>8.00000</td>\n",
              "      <td>False</td>\n",
              "      <td>True</td>\n",
              "      <td>-3.68047</td>\n",
              "      <td>57.21661</td>\n",
              "      <td>two-sided</td>\n",
              "      <td>0.00052</td>\n",
              "      <td>0.01861</td>\n",
              "      <td>bonf</td>\n",
              "      <td>88.619</td>\n",
              "      <td>-0.35817</td>\n",
              "    </tr>\n",
              "    <tr>\n",
              "      <th>14</th>\n",
              "      <td>Number of Rooms</td>\n",
              "      <td>2.00000</td>\n",
              "      <td>9.00000</td>\n",
              "      <td>False</td>\n",
              "      <td>True</td>\n",
              "      <td>-5.61700</td>\n",
              "      <td>57.55337</td>\n",
              "      <td>two-sided</td>\n",
              "      <td>0.00000</td>\n",
              "      <td>0.00002</td>\n",
              "      <td>bonf</td>\n",
              "      <td>5.086e+05</td>\n",
              "      <td>-0.45351</td>\n",
              "    </tr>\n",
              "    <tr>\n",
              "      <th>15</th>\n",
              "      <td>Number of Rooms</td>\n",
              "      <td>3.00000</td>\n",
              "      <td>4.00000</td>\n",
              "      <td>False</td>\n",
              "      <td>True</td>\n",
              "      <td>-1.00164</td>\n",
              "      <td>1292.19851</td>\n",
              "      <td>two-sided</td>\n",
              "      <td>0.31670</td>\n",
              "      <td>1.00000</td>\n",
              "      <td>bonf</td>\n",
              "      <td>0.056</td>\n",
              "      <td>-0.03429</td>\n",
              "    </tr>\n",
              "    <tr>\n",
              "      <th>16</th>\n",
              "      <td>Number of Rooms</td>\n",
              "      <td>3.00000</td>\n",
              "      <td>5.00000</td>\n",
              "      <td>False</td>\n",
              "      <td>True</td>\n",
              "      <td>-5.29013</td>\n",
              "      <td>1210.43121</td>\n",
              "      <td>two-sided</td>\n",
              "      <td>0.00000</td>\n",
              "      <td>0.00001</td>\n",
              "      <td>bonf</td>\n",
              "      <td>3.784e+04</td>\n",
              "      <td>-0.16570</td>\n",
              "    </tr>\n",
              "    <tr>\n",
              "      <th>17</th>\n",
              "      <td>Number of Rooms</td>\n",
              "      <td>3.00000</td>\n",
              "      <td>6.00000</td>\n",
              "      <td>False</td>\n",
              "      <td>True</td>\n",
              "      <td>-15.00660</td>\n",
              "      <td>1226.25868</td>\n",
              "      <td>two-sided</td>\n",
              "      <td>0.00000</td>\n",
              "      <td>0.00000</td>\n",
              "      <td>bonf</td>\n",
              "      <td>1.582e+47</td>\n",
              "      <td>-0.36826</td>\n",
              "    </tr>\n",
              "    <tr>\n",
              "      <th>18</th>\n",
              "      <td>Number of Rooms</td>\n",
              "      <td>3.00000</td>\n",
              "      <td>7.00000</td>\n",
              "      <td>False</td>\n",
              "      <td>True</td>\n",
              "      <td>-22.96633</td>\n",
              "      <td>1257.39165</td>\n",
              "      <td>two-sided</td>\n",
              "      <td>0.00000</td>\n",
              "      <td>0.00000</td>\n",
              "      <td>bonf</td>\n",
              "      <td>2.129e+112</td>\n",
              "      <td>-0.46458</td>\n",
              "    </tr>\n",
              "    <tr>\n",
              "      <th>19</th>\n",
              "      <td>Number of Rooms</td>\n",
              "      <td>3.00000</td>\n",
              "      <td>8.00000</td>\n",
              "      <td>False</td>\n",
              "      <td>True</td>\n",
              "      <td>-33.63856</td>\n",
              "      <td>1367.36300</td>\n",
              "      <td>two-sided</td>\n",
              "      <td>0.00000</td>\n",
              "      <td>0.00000</td>\n",
              "      <td>bonf</td>\n",
              "      <td>2.274e+241</td>\n",
              "      <td>-0.51730</td>\n",
              "    </tr>\n",
              "    <tr>\n",
              "      <th>20</th>\n",
              "      <td>Number of Rooms</td>\n",
              "      <td>3.00000</td>\n",
              "      <td>9.00000</td>\n",
              "      <td>False</td>\n",
              "      <td>True</td>\n",
              "      <td>-43.51268</td>\n",
              "      <td>1710.97386</td>\n",
              "      <td>two-sided</td>\n",
              "      <td>0.00000</td>\n",
              "      <td>0.00000</td>\n",
              "      <td>bonf</td>\n",
              "      <td>inf</td>\n",
              "      <td>-0.59049</td>\n",
              "    </tr>\n",
              "    <tr>\n",
              "      <th>21</th>\n",
              "      <td>Number of Rooms</td>\n",
              "      <td>4.00000</td>\n",
              "      <td>5.00000</td>\n",
              "      <td>False</td>\n",
              "      <td>True</td>\n",
              "      <td>-16.00710</td>\n",
              "      <td>29465.31275</td>\n",
              "      <td>two-sided</td>\n",
              "      <td>0.00000</td>\n",
              "      <td>0.00000</td>\n",
              "      <td>bonf</td>\n",
              "      <td>3.334e+53</td>\n",
              "      <td>-0.13643</td>\n",
              "    </tr>\n",
              "    <tr>\n",
              "      <th>22</th>\n",
              "      <td>Number of Rooms</td>\n",
              "      <td>4.00000</td>\n",
              "      <td>6.00000</td>\n",
              "      <td>False</td>\n",
              "      <td>True</td>\n",
              "      <td>-50.34469</td>\n",
              "      <td>34477.84472</td>\n",
              "      <td>two-sided</td>\n",
              "      <td>0.00000</td>\n",
              "      <td>0.00000</td>\n",
              "      <td>bonf</td>\n",
              "      <td>inf</td>\n",
              "      <td>-0.36039</td>\n",
              "    </tr>\n",
              "    <tr>\n",
              "      <th>23</th>\n",
              "      <td>Number of Rooms</td>\n",
              "      <td>4.00000</td>\n",
              "      <td>7.00000</td>\n",
              "      <td>False</td>\n",
              "      <td>True</td>\n",
              "      <td>-73.71011</td>\n",
              "      <td>43609.17314</td>\n",
              "      <td>two-sided</td>\n",
              "      <td>0.00000</td>\n",
              "      <td>0.00000</td>\n",
              "      <td>bonf</td>\n",
              "      <td>inf</td>\n",
              "      <td>-0.47440</td>\n",
              "    </tr>\n",
              "    <tr>\n",
              "      <th>24</th>\n",
              "      <td>Number of Rooms</td>\n",
              "      <td>4.00000</td>\n",
              "      <td>8.00000</td>\n",
              "      <td>False</td>\n",
              "      <td>True</td>\n",
              "      <td>-91.90892</td>\n",
              "      <td>62986.31853</td>\n",
              "      <td>two-sided</td>\n",
              "      <td>0.00000</td>\n",
              "      <td>0.00000</td>\n",
              "      <td>bonf</td>\n",
              "      <td>inf</td>\n",
              "      <td>-0.55201</td>\n",
              "    </tr>\n",
              "    <tr>\n",
              "      <th>25</th>\n",
              "      <td>Number of Rooms</td>\n",
              "      <td>4.00000</td>\n",
              "      <td>9.00000</td>\n",
              "      <td>False</td>\n",
              "      <td>True</td>\n",
              "      <td>-90.89340</td>\n",
              "      <td>44441.72137</td>\n",
              "      <td>two-sided</td>\n",
              "      <td>0.00000</td>\n",
              "      <td>0.00000</td>\n",
              "      <td>bonf</td>\n",
              "      <td>inf</td>\n",
              "      <td>-0.67905</td>\n",
              "    </tr>\n",
              "    <tr>\n",
              "      <th>26</th>\n",
              "      <td>Number of Rooms</td>\n",
              "      <td>5.00000</td>\n",
              "      <td>6.00000</td>\n",
              "      <td>False</td>\n",
              "      <td>True</td>\n",
              "      <td>-46.33441</td>\n",
              "      <td>119402.32737</td>\n",
              "      <td>two-sided</td>\n",
              "      <td>0.00000</td>\n",
              "      <td>0.00000</td>\n",
              "      <td>bonf</td>\n",
              "      <td>inf</td>\n",
              "      <td>-0.26260</td>\n",
              "    </tr>\n",
              "    <tr>\n",
              "      <th>27</th>\n",
              "      <td>Number of Rooms</td>\n",
              "      <td>5.00000</td>\n",
              "      <td>7.00000</td>\n",
              "      <td>False</td>\n",
              "      <td>True</td>\n",
              "      <td>-74.87684</td>\n",
              "      <td>113234.61408</td>\n",
              "      <td>two-sided</td>\n",
              "      <td>0.00000</td>\n",
              "      <td>0.00000</td>\n",
              "      <td>bonf</td>\n",
              "      <td>inf</td>\n",
              "      <td>-0.41695</td>\n",
              "    </tr>\n",
              "    <tr>\n",
              "      <th>28</th>\n",
              "      <td>Number of Rooms</td>\n",
              "      <td>5.00000</td>\n",
              "      <td>8.00000</td>\n",
              "      <td>False</td>\n",
              "      <td>True</td>\n",
              "      <td>-92.56127</td>\n",
              "      <td>80086.41895</td>\n",
              "      <td>two-sided</td>\n",
              "      <td>0.00000</td>\n",
              "      <td>0.00000</td>\n",
              "      <td>bonf</td>\n",
              "      <td>inf</td>\n",
              "      <td>-0.55299</td>\n",
              "    </tr>\n",
              "    <tr>\n",
              "      <th>29</th>\n",
              "      <td>Number of Rooms</td>\n",
              "      <td>5.00000</td>\n",
              "      <td>9.00000</td>\n",
              "      <td>False</td>\n",
              "      <td>True</td>\n",
              "      <td>-88.36422</td>\n",
              "      <td>37726.64050</td>\n",
              "      <td>two-sided</td>\n",
              "      <td>0.00000</td>\n",
              "      <td>0.00000</td>\n",
              "      <td>bonf</td>\n",
              "      <td>inf</td>\n",
              "      <td>-0.75529</td>\n",
              "    </tr>\n",
              "    <tr>\n",
              "      <th>30</th>\n",
              "      <td>Number of Rooms</td>\n",
              "      <td>6.00000</td>\n",
              "      <td>7.00000</td>\n",
              "      <td>False</td>\n",
              "      <td>True</td>\n",
              "      <td>-32.22930</td>\n",
              "      <td>126762.29896</td>\n",
              "      <td>two-sided</td>\n",
              "      <td>0.00000</td>\n",
              "      <td>0.00000</td>\n",
              "      <td>bonf</td>\n",
              "      <td>2.766e+222</td>\n",
              "      <td>-0.17754</td>\n",
              "    </tr>\n",
              "    <tr>\n",
              "      <th>31</th>\n",
              "      <td>Number of Rooms</td>\n",
              "      <td>6.00000</td>\n",
              "      <td>8.00000</td>\n",
              "      <td>False</td>\n",
              "      <td>True</td>\n",
              "      <td>-59.90080</td>\n",
              "      <td>88589.01248</td>\n",
              "      <td>two-sided</td>\n",
              "      <td>0.00000</td>\n",
              "      <td>0.00000</td>\n",
              "      <td>bonf</td>\n",
              "      <td>inf</td>\n",
              "      <td>-0.35822</td>\n",
              "    </tr>\n",
              "    <tr>\n",
              "      <th>32</th>\n",
              "      <td>Number of Rooms</td>\n",
              "      <td>6.00000</td>\n",
              "      <td>9.00000</td>\n",
              "      <td>False</td>\n",
              "      <td>True</td>\n",
              "      <td>-66.95272</td>\n",
              "      <td>39825.92813</td>\n",
              "      <td>two-sided</td>\n",
              "      <td>0.00000</td>\n",
              "      <td>0.00000</td>\n",
              "      <td>bonf</td>\n",
              "      <td>inf</td>\n",
              "      <td>-0.56411</td>\n",
              "    </tr>\n",
              "    <tr>\n",
              "      <th>33</th>\n",
              "      <td>Number of Rooms</td>\n",
              "      <td>7.00000</td>\n",
              "      <td>8.00000</td>\n",
              "      <td>False</td>\n",
              "      <td>True</td>\n",
              "      <td>-33.17601</td>\n",
              "      <td>101232.35371</td>\n",
              "      <td>two-sided</td>\n",
              "      <td>0.00000</td>\n",
              "      <td>0.00000</td>\n",
              "      <td>bonf</td>\n",
              "      <td>5.147e+235</td>\n",
              "      <td>-0.19558</td>\n",
              "    </tr>\n",
              "    <tr>\n",
              "      <th>34</th>\n",
              "      <td>Number of Rooms</td>\n",
              "      <td>7.00000</td>\n",
              "      <td>9.00000</td>\n",
              "      <td>False</td>\n",
              "      <td>True</td>\n",
              "      <td>-48.84929</td>\n",
              "      <td>43870.52767</td>\n",
              "      <td>two-sided</td>\n",
              "      <td>0.00000</td>\n",
              "      <td>0.00000</td>\n",
              "      <td>bonf</td>\n",
              "      <td>inf</td>\n",
              "      <td>-0.39054</td>\n",
              "    </tr>\n",
              "    <tr>\n",
              "      <th>35</th>\n",
              "      <td>Number of Rooms</td>\n",
              "      <td>8.00000</td>\n",
              "      <td>9.00000</td>\n",
              "      <td>False</td>\n",
              "      <td>True</td>\n",
              "      <td>-23.70978</td>\n",
              "      <td>56761.61410</td>\n",
              "      <td>two-sided</td>\n",
              "      <td>0.00000</td>\n",
              "      <td>0.00000</td>\n",
              "      <td>bonf</td>\n",
              "      <td>3.607e+119</td>\n",
              "      <td>-0.17519</td>\n",
              "    </tr>\n",
              "  </tbody>\n",
              "</table>\n",
              "</div>"
            ],
            "text/plain": [
              "           Contrast       A       B  ...  p-adjust        BF10   hedges\n",
              "0   Number of Rooms 1.00000 2.00000  ...      bonf       0.267  0.14088\n",
              "1   Number of Rooms 1.00000 3.00000  ...      bonf      13.778  0.49504\n",
              "2   Number of Rooms 1.00000 4.00000  ...      bonf       9.292  0.53673\n",
              "3   Number of Rooms 1.00000 5.00000  ...      bonf       1.381  0.36097\n",
              "4   Number of Rooms 1.00000 6.00000  ...      bonf       0.168  0.04257\n",
              "5   Number of Rooms 1.00000 7.00000  ...      bonf        0.31 -0.12736\n",
              "6   Number of Rooms 1.00000 8.00000  ...      bonf       29.55 -0.26472\n",
              "7   Number of Rooms 1.00000 9.00000  ...      bonf   8.433e+05 -0.37608\n",
              "8   Number of Rooms 2.00000 3.00000  ...      bonf       0.474  0.30165\n",
              "9   Number of Rooms 2.00000 4.00000  ...      bonf       0.382  0.32121\n",
              "10  Number of Rooms 2.00000 5.00000  ...      bonf       0.193  0.16288\n",
              "11  Number of Rooms 2.00000 6.00000  ...      bonf        0.18 -0.11141\n",
              "12  Number of Rooms 2.00000 7.00000  ...      bonf       0.836 -0.25324\n",
              "13  Number of Rooms 2.00000 8.00000  ...      bonf      88.619 -0.35817\n",
              "14  Number of Rooms 2.00000 9.00000  ...      bonf   5.086e+05 -0.45351\n",
              "15  Number of Rooms 3.00000 4.00000  ...      bonf       0.056 -0.03429\n",
              "16  Number of Rooms 3.00000 5.00000  ...      bonf   3.784e+04 -0.16570\n",
              "17  Number of Rooms 3.00000 6.00000  ...      bonf   1.582e+47 -0.36826\n",
              "18  Number of Rooms 3.00000 7.00000  ...      bonf  2.129e+112 -0.46458\n",
              "19  Number of Rooms 3.00000 8.00000  ...      bonf  2.274e+241 -0.51730\n",
              "20  Number of Rooms 3.00000 9.00000  ...      bonf         inf -0.59049\n",
              "21  Number of Rooms 4.00000 5.00000  ...      bonf   3.334e+53 -0.13643\n",
              "22  Number of Rooms 4.00000 6.00000  ...      bonf         inf -0.36039\n",
              "23  Number of Rooms 4.00000 7.00000  ...      bonf         inf -0.47440\n",
              "24  Number of Rooms 4.00000 8.00000  ...      bonf         inf -0.55201\n",
              "25  Number of Rooms 4.00000 9.00000  ...      bonf         inf -0.67905\n",
              "26  Number of Rooms 5.00000 6.00000  ...      bonf         inf -0.26260\n",
              "27  Number of Rooms 5.00000 7.00000  ...      bonf         inf -0.41695\n",
              "28  Number of Rooms 5.00000 8.00000  ...      bonf         inf -0.55299\n",
              "29  Number of Rooms 5.00000 9.00000  ...      bonf         inf -0.75529\n",
              "30  Number of Rooms 6.00000 7.00000  ...      bonf  2.766e+222 -0.17754\n",
              "31  Number of Rooms 6.00000 8.00000  ...      bonf         inf -0.35822\n",
              "32  Number of Rooms 6.00000 9.00000  ...      bonf         inf -0.56411\n",
              "33  Number of Rooms 7.00000 8.00000  ...      bonf  5.147e+235 -0.19558\n",
              "34  Number of Rooms 7.00000 9.00000  ...      bonf         inf -0.39054\n",
              "35  Number of Rooms 8.00000 9.00000  ...      bonf  3.607e+119 -0.17519\n",
              "\n",
              "[36 rows x 13 columns]"
            ]
          },
          "metadata": {
            "tags": []
          },
          "execution_count": 100
        }
      ]
    },
    {
      "cell_type": "markdown",
      "metadata": {
        "id": "tLBU7vCrsW-t"
      },
      "source": [
        "**Descriptive Statistics 'Basement Area'**"
      ]
    },
    {
      "cell_type": "code",
      "metadata": {
        "id": "6lIeWiV14cPT"
      },
      "source": [
        "pd.set_option('display.float_format', lambda x: '%.5f' % x)"
      ],
      "execution_count": null,
      "outputs": []
    },
    {
      "cell_type": "code",
      "metadata": {
        "colab": {
          "base_uri": "https://localhost:8080/"
        },
        "id": "7ZNPhSYssWAq",
        "outputId": "82e919c5-f494-4d3f-e15c-a3961fa89b2c"
      },
      "source": [
        "no_basement=df[df['Basement Area']==0]['Total Assessed Value']\n",
        "has_basement=df[df['Basement Area']==1]['Total Assessed Value']\n",
        "\n",
        "statistic, pvalue = stats.ttest_ind(no_basement,has_basement, equal_var=False)\n",
        "statistic, pvalue"
      ],
      "execution_count": null,
      "outputs": [
        {
          "output_type": "execute_result",
          "data": {
            "text/plain": [
              "(14.652342473553194, 1.3548737810403913e-48)"
            ]
          },
          "metadata": {
            "tags": []
          },
          "execution_count": 102
        }
      ]
    },
    {
      "cell_type": "markdown",
      "metadata": {
        "id": "lQXOaicp6VpN"
      },
      "source": [
        "**Descriptive Statistics for Supervisor District**"
      ]
    },
    {
      "cell_type": "code",
      "metadata": {
        "colab": {
          "base_uri": "https://localhost:8080/"
        },
        "id": "KjTjibHw55Wd",
        "outputId": "12b1170a-ff3f-4571-92d0-7cb2a3c158e4"
      },
      "source": [
        "mod = ols(' Q(\"Total Assessed Value\") ~ Q(\"Supervisor District\") ', data = df).fit()\n",
        "aov_table = sm.stats.anova_lm(mod, typ=2)\n",
        "aov_table"
      ],
      "execution_count": null,
      "outputs": [
        {
          "output_type": "execute_result",
          "data": {
            "text/html": [
              "<div>\n",
              "<style scoped>\n",
              "    .dataframe tbody tr th:only-of-type {\n",
              "        vertical-align: middle;\n",
              "    }\n",
              "\n",
              "    .dataframe tbody tr th {\n",
              "        vertical-align: top;\n",
              "    }\n",
              "\n",
              "    .dataframe thead th {\n",
              "        text-align: right;\n",
              "    }\n",
              "</style>\n",
              "<table border=\"1\" class=\"dataframe\">\n",
              "  <thead>\n",
              "    <tr style=\"text-align: right;\">\n",
              "      <th></th>\n",
              "      <th>sum_sq</th>\n",
              "      <th>df</th>\n",
              "      <th>F</th>\n",
              "      <th>PR(&gt;F)</th>\n",
              "    </tr>\n",
              "  </thead>\n",
              "  <tbody>\n",
              "    <tr>\n",
              "      <th>Q(\"Supervisor District\")</th>\n",
              "      <td>3858419506698406.50000</td>\n",
              "      <td>1.00000</td>\n",
              "      <td>8982.92612</td>\n",
              "      <td>0.00000</td>\n",
              "    </tr>\n",
              "    <tr>\n",
              "      <th>Residual</th>\n",
              "      <td>124952311700546224.00000</td>\n",
              "      <td>290906.00000</td>\n",
              "      <td>nan</td>\n",
              "      <td>nan</td>\n",
              "    </tr>\n",
              "  </tbody>\n",
              "</table>\n",
              "</div>"
            ],
            "text/plain": [
              "                                           sum_sq  ...  PR(>F)\n",
              "Q(\"Supervisor District\")   3858419506698406.50000  ... 0.00000\n",
              "Residual                 124952311700546224.00000  ...     nan\n",
              "\n",
              "[2 rows x 4 columns]"
            ]
          },
          "metadata": {
            "tags": []
          },
          "execution_count": 103
        }
      ]
    },
    {
      "cell_type": "code",
      "metadata": {
        "id": "sR-xGrTQsWR8"
      },
      "source": [
        "#pairwise_results = pairwise_ttests(dv='Total Assessed Value', between = ['Supervisor District'], padjust='bonf', data=df)\n",
        "#pairwise_results"
      ],
      "execution_count": null,
      "outputs": []
    },
    {
      "cell_type": "markdown",
      "metadata": {
        "id": "xE7Rg8DqBIAE"
      },
      "source": [
        "**Multiple Linear Regression Prediction Model**"
      ]
    },
    {
      "cell_type": "code",
      "metadata": {
        "id": "5cng2VlDY0XN"
      },
      "source": [
        "x = df[['Closed Roll Year', 'Number of Bathrooms',\n",
        "       'Number of Bedrooms', 'Number of Rooms',\n",
        "       'Property Area', 'Basement Area', 'Lot Area', 'Supervisor District',\n",
        "       'Property Age', 'Bayview Hunters Point',\n",
        "       'Bernal Heights', 'Castro/Upper Market', 'Excelsior', 'Glen Park',\n",
        "       'Haight Ashbury', 'Hayes Valley', 'Inner Richmond', 'Inner Sunset',\n",
        "       'Lone Mountain/USF', 'Marina', 'McLaren Park', 'Mission', 'Nob Hill',\n",
        "       'Noe Valley', 'North Beach', 'Oceanview/Merced/Ingleside',\n",
        "       'Outer Mission', 'Outer Richmond', 'Pacific Heights', 'Portola',\n",
        "       'Potrero Hill', 'Presidio Heights', 'Russian Hill', 'Seacliff',\n",
        "       'Sunset/Parkside', 'Twin Peaks', 'Visitacion Valley',\n",
        "       'West of Twin Peaks', 'Western Addition']]\n",
        "y = df[['Total Assessed Value']]"
      ],
      "execution_count": null,
      "outputs": []
    },
    {
      "cell_type": "code",
      "metadata": {
        "colab": {
          "base_uri": "https://localhost:8080/"
        },
        "id": "SWv3LgMi_KdO",
        "outputId": "86334fb9-0eac-45da-fda9-d25b46aefb6f"
      },
      "source": [
        "df"
      ],
      "execution_count": null,
      "outputs": [
        {
          "output_type": "execute_result",
          "data": {
            "text/html": [
              "<div>\n",
              "<style scoped>\n",
              "    .dataframe tbody tr th:only-of-type {\n",
              "        vertical-align: middle;\n",
              "    }\n",
              "\n",
              "    .dataframe tbody tr th {\n",
              "        vertical-align: top;\n",
              "    }\n",
              "\n",
              "    .dataframe thead th {\n",
              "        text-align: right;\n",
              "    }\n",
              "</style>\n",
              "<table border=\"1\" class=\"dataframe\">\n",
              "  <thead>\n",
              "    <tr style=\"text-align: right;\">\n",
              "      <th></th>\n",
              "      <th>Closed Roll Year</th>\n",
              "      <th>Property Location</th>\n",
              "      <th>Number of Bathrooms</th>\n",
              "      <th>Number of Bedrooms</th>\n",
              "      <th>Number of Rooms</th>\n",
              "      <th>Construction Type</th>\n",
              "      <th>Property Area</th>\n",
              "      <th>Basement Area</th>\n",
              "      <th>Lot Area</th>\n",
              "      <th>Assessor Neighborhood District</th>\n",
              "      <th>Assessor Neighborhood Code</th>\n",
              "      <th>Assessor Neighborhood</th>\n",
              "      <th>Supervisor District</th>\n",
              "      <th>Total Assessed Value</th>\n",
              "      <th>Property Age</th>\n",
              "      <th>geom</th>\n",
              "      <th>ValueMillions</th>\n",
              "      <th>Bayview Hunters Point</th>\n",
              "      <th>Bernal Heights</th>\n",
              "      <th>Castro/Upper Market</th>\n",
              "      <th>Excelsior</th>\n",
              "      <th>Glen Park</th>\n",
              "      <th>Haight Ashbury</th>\n",
              "      <th>Hayes Valley</th>\n",
              "      <th>Inner Richmond</th>\n",
              "      <th>Inner Sunset</th>\n",
              "      <th>Lone Mountain/USF</th>\n",
              "      <th>Marina</th>\n",
              "      <th>McLaren Park</th>\n",
              "      <th>Mission</th>\n",
              "      <th>Nob Hill</th>\n",
              "      <th>Noe Valley</th>\n",
              "      <th>North Beach</th>\n",
              "      <th>Oceanview/Merced/Ingleside</th>\n",
              "      <th>Outer Mission</th>\n",
              "      <th>Outer Richmond</th>\n",
              "      <th>Pacific Heights</th>\n",
              "      <th>Portola</th>\n",
              "      <th>Potrero Hill</th>\n",
              "      <th>Presidio Heights</th>\n",
              "      <th>Russian Hill</th>\n",
              "      <th>Seacliff</th>\n",
              "      <th>Sunset/Parkside</th>\n",
              "      <th>Twin Peaks</th>\n",
              "      <th>Visitacion Valley</th>\n",
              "      <th>West of Twin Peaks</th>\n",
              "      <th>Western Addition</th>\n",
              "    </tr>\n",
              "  </thead>\n",
              "  <tbody>\n",
              "    <tr>\n",
              "      <th>0</th>\n",
              "      <td>2012</td>\n",
              "      <td>1516 11TH AV</td>\n",
              "      <td>2.00000</td>\n",
              "      <td>3.00000</td>\n",
              "      <td>6.00000</td>\n",
              "      <td>D</td>\n",
              "      <td>1550</td>\n",
              "      <td>1.00000</td>\n",
              "      <td>1437.00000</td>\n",
              "      <td>2.00000</td>\n",
              "      <td>2F</td>\n",
              "      <td>Inner Sunset</td>\n",
              "      <td>7.00000</td>\n",
              "      <td>905336.00000</td>\n",
              "      <td>87</td>\n",
              "      <td>37.75987755666,-122.46794778293902</td>\n",
              "      <td>0.90534</td>\n",
              "      <td>0</td>\n",
              "      <td>0</td>\n",
              "      <td>0</td>\n",
              "      <td>0</td>\n",
              "      <td>0</td>\n",
              "      <td>0</td>\n",
              "      <td>0</td>\n",
              "      <td>0</td>\n",
              "      <td>1</td>\n",
              "      <td>0</td>\n",
              "      <td>0</td>\n",
              "      <td>0</td>\n",
              "      <td>0</td>\n",
              "      <td>0</td>\n",
              "      <td>0</td>\n",
              "      <td>0</td>\n",
              "      <td>0</td>\n",
              "      <td>0</td>\n",
              "      <td>0</td>\n",
              "      <td>0</td>\n",
              "      <td>0</td>\n",
              "      <td>0</td>\n",
              "      <td>0</td>\n",
              "      <td>0</td>\n",
              "      <td>0</td>\n",
              "      <td>0</td>\n",
              "      <td>0</td>\n",
              "      <td>0</td>\n",
              "      <td>0</td>\n",
              "      <td>0</td>\n",
              "    </tr>\n",
              "    <tr>\n",
              "      <th>1</th>\n",
              "      <td>2012</td>\n",
              "      <td>1974 19TH AV</td>\n",
              "      <td>2.00000</td>\n",
              "      <td>4.00000</td>\n",
              "      <td>8.00000</td>\n",
              "      <td>D</td>\n",
              "      <td>2015</td>\n",
              "      <td>1.00000</td>\n",
              "      <td>2247.00000</td>\n",
              "      <td>2.00000</td>\n",
              "      <td>2G</td>\n",
              "      <td>Inner Parkside</td>\n",
              "      <td>7.00000</td>\n",
              "      <td>409454.00000</td>\n",
              "      <td>85</td>\n",
              "      <td>37.75101505764,-122.47586972746102</td>\n",
              "      <td>0.40945</td>\n",
              "      <td>0</td>\n",
              "      <td>0</td>\n",
              "      <td>0</td>\n",
              "      <td>0</td>\n",
              "      <td>0</td>\n",
              "      <td>0</td>\n",
              "      <td>0</td>\n",
              "      <td>0</td>\n",
              "      <td>1</td>\n",
              "      <td>0</td>\n",
              "      <td>0</td>\n",
              "      <td>0</td>\n",
              "      <td>0</td>\n",
              "      <td>0</td>\n",
              "      <td>0</td>\n",
              "      <td>0</td>\n",
              "      <td>0</td>\n",
              "      <td>0</td>\n",
              "      <td>0</td>\n",
              "      <td>0</td>\n",
              "      <td>0</td>\n",
              "      <td>0</td>\n",
              "      <td>0</td>\n",
              "      <td>0</td>\n",
              "      <td>0</td>\n",
              "      <td>0</td>\n",
              "      <td>0</td>\n",
              "      <td>0</td>\n",
              "      <td>0</td>\n",
              "      <td>0</td>\n",
              "    </tr>\n",
              "    <tr>\n",
              "      <th>2</th>\n",
              "      <td>2012</td>\n",
              "      <td>0583 19TH AV</td>\n",
              "      <td>1.00000</td>\n",
              "      <td>3.00000</td>\n",
              "      <td>9.00000</td>\n",
              "      <td>D</td>\n",
              "      <td>1870</td>\n",
              "      <td>0.00000</td>\n",
              "      <td>2060.00000</td>\n",
              "      <td>1.00000</td>\n",
              "      <td>1A</td>\n",
              "      <td>Central Richmond</td>\n",
              "      <td>1.00000</td>\n",
              "      <td>881749.00000</td>\n",
              "      <td>98</td>\n",
              "      <td>37.776928912607,-122.47831758208301</td>\n",
              "      <td>0.88175</td>\n",
              "      <td>0</td>\n",
              "      <td>0</td>\n",
              "      <td>0</td>\n",
              "      <td>0</td>\n",
              "      <td>0</td>\n",
              "      <td>0</td>\n",
              "      <td>0</td>\n",
              "      <td>0</td>\n",
              "      <td>0</td>\n",
              "      <td>0</td>\n",
              "      <td>0</td>\n",
              "      <td>0</td>\n",
              "      <td>0</td>\n",
              "      <td>0</td>\n",
              "      <td>0</td>\n",
              "      <td>0</td>\n",
              "      <td>0</td>\n",
              "      <td>0</td>\n",
              "      <td>1</td>\n",
              "      <td>0</td>\n",
              "      <td>0</td>\n",
              "      <td>0</td>\n",
              "      <td>0</td>\n",
              "      <td>0</td>\n",
              "      <td>0</td>\n",
              "      <td>0</td>\n",
              "      <td>0</td>\n",
              "      <td>0</td>\n",
              "      <td>0</td>\n",
              "      <td>0</td>\n",
              "    </tr>\n",
              "    <tr>\n",
              "      <th>3</th>\n",
              "      <td>2012</td>\n",
              "      <td>0856 BRUNSWICK ST</td>\n",
              "      <td>3.00000</td>\n",
              "      <td>3.00000</td>\n",
              "      <td>8.00000</td>\n",
              "      <td>D</td>\n",
              "      <td>1839</td>\n",
              "      <td>1.00000</td>\n",
              "      <td>2625.00000</td>\n",
              "      <td>10.00000</td>\n",
              "      <td>10B</td>\n",
              "      <td>Croker Amazon</td>\n",
              "      <td>11.00000</td>\n",
              "      <td>615142.00000</td>\n",
              "      <td>61</td>\n",
              "      <td>37.7081642176,-122.45106830985301</td>\n",
              "      <td>0.61514</td>\n",
              "      <td>0</td>\n",
              "      <td>0</td>\n",
              "      <td>0</td>\n",
              "      <td>1</td>\n",
              "      <td>0</td>\n",
              "      <td>0</td>\n",
              "      <td>0</td>\n",
              "      <td>0</td>\n",
              "      <td>0</td>\n",
              "      <td>0</td>\n",
              "      <td>0</td>\n",
              "      <td>0</td>\n",
              "      <td>0</td>\n",
              "      <td>0</td>\n",
              "      <td>0</td>\n",
              "      <td>0</td>\n",
              "      <td>0</td>\n",
              "      <td>0</td>\n",
              "      <td>0</td>\n",
              "      <td>0</td>\n",
              "      <td>0</td>\n",
              "      <td>0</td>\n",
              "      <td>0</td>\n",
              "      <td>0</td>\n",
              "      <td>0</td>\n",
              "      <td>0</td>\n",
              "      <td>0</td>\n",
              "      <td>0</td>\n",
              "      <td>0</td>\n",
              "      <td>0</td>\n",
              "    </tr>\n",
              "    <tr>\n",
              "      <th>4</th>\n",
              "      <td>2012</td>\n",
              "      <td>1466 07TH AV</td>\n",
              "      <td>1.00000</td>\n",
              "      <td>3.00000</td>\n",
              "      <td>6.00000</td>\n",
              "      <td>D</td>\n",
              "      <td>1850</td>\n",
              "      <td>0.00000</td>\n",
              "      <td>3000.00000</td>\n",
              "      <td>2.00000</td>\n",
              "      <td>2F</td>\n",
              "      <td>Inner Sunset</td>\n",
              "      <td>5.00000</td>\n",
              "      <td>429675.00000</td>\n",
              "      <td>90</td>\n",
              "      <td>37.76104354177,-122.463627312755</td>\n",
              "      <td>0.42967</td>\n",
              "      <td>0</td>\n",
              "      <td>0</td>\n",
              "      <td>0</td>\n",
              "      <td>0</td>\n",
              "      <td>0</td>\n",
              "      <td>0</td>\n",
              "      <td>0</td>\n",
              "      <td>0</td>\n",
              "      <td>1</td>\n",
              "      <td>0</td>\n",
              "      <td>0</td>\n",
              "      <td>0</td>\n",
              "      <td>0</td>\n",
              "      <td>0</td>\n",
              "      <td>0</td>\n",
              "      <td>0</td>\n",
              "      <td>0</td>\n",
              "      <td>0</td>\n",
              "      <td>0</td>\n",
              "      <td>0</td>\n",
              "      <td>0</td>\n",
              "      <td>0</td>\n",
              "      <td>0</td>\n",
              "      <td>0</td>\n",
              "      <td>0</td>\n",
              "      <td>0</td>\n",
              "      <td>0</td>\n",
              "      <td>0</td>\n",
              "      <td>0</td>\n",
              "      <td>0</td>\n",
              "    </tr>\n",
              "    <tr>\n",
              "      <th>...</th>\n",
              "      <td>...</td>\n",
              "      <td>...</td>\n",
              "      <td>...</td>\n",
              "      <td>...</td>\n",
              "      <td>...</td>\n",
              "      <td>...</td>\n",
              "      <td>...</td>\n",
              "      <td>...</td>\n",
              "      <td>...</td>\n",
              "      <td>...</td>\n",
              "      <td>...</td>\n",
              "      <td>...</td>\n",
              "      <td>...</td>\n",
              "      <td>...</td>\n",
              "      <td>...</td>\n",
              "      <td>...</td>\n",
              "      <td>...</td>\n",
              "      <td>...</td>\n",
              "      <td>...</td>\n",
              "      <td>...</td>\n",
              "      <td>...</td>\n",
              "      <td>...</td>\n",
              "      <td>...</td>\n",
              "      <td>...</td>\n",
              "      <td>...</td>\n",
              "      <td>...</td>\n",
              "      <td>...</td>\n",
              "      <td>...</td>\n",
              "      <td>...</td>\n",
              "      <td>...</td>\n",
              "      <td>...</td>\n",
              "      <td>...</td>\n",
              "      <td>...</td>\n",
              "      <td>...</td>\n",
              "      <td>...</td>\n",
              "      <td>...</td>\n",
              "      <td>...</td>\n",
              "      <td>...</td>\n",
              "      <td>...</td>\n",
              "      <td>...</td>\n",
              "      <td>...</td>\n",
              "      <td>...</td>\n",
              "      <td>...</td>\n",
              "      <td>...</td>\n",
              "      <td>...</td>\n",
              "      <td>...</td>\n",
              "      <td>...</td>\n",
              "    </tr>\n",
              "    <tr>\n",
              "      <th>290903</th>\n",
              "      <td>2019</td>\n",
              "      <td>0008 HEARST AV</td>\n",
              "      <td>1.00000</td>\n",
              "      <td>2.00000</td>\n",
              "      <td>6.00000</td>\n",
              "      <td>D</td>\n",
              "      <td>1225</td>\n",
              "      <td>1.00000</td>\n",
              "      <td>2812.50000</td>\n",
              "      <td>4.00000</td>\n",
              "      <td>4S</td>\n",
              "      <td>Sunnyside</td>\n",
              "      <td>7.00000</td>\n",
              "      <td>386054.00000</td>\n",
              "      <td>80</td>\n",
              "      <td>37.730982518632,-122.43872748625101</td>\n",
              "      <td>0.38605</td>\n",
              "      <td>0</td>\n",
              "      <td>0</td>\n",
              "      <td>0</td>\n",
              "      <td>0</td>\n",
              "      <td>0</td>\n",
              "      <td>0</td>\n",
              "      <td>0</td>\n",
              "      <td>0</td>\n",
              "      <td>0</td>\n",
              "      <td>0</td>\n",
              "      <td>0</td>\n",
              "      <td>0</td>\n",
              "      <td>0</td>\n",
              "      <td>0</td>\n",
              "      <td>0</td>\n",
              "      <td>0</td>\n",
              "      <td>0</td>\n",
              "      <td>0</td>\n",
              "      <td>0</td>\n",
              "      <td>0</td>\n",
              "      <td>0</td>\n",
              "      <td>0</td>\n",
              "      <td>0</td>\n",
              "      <td>0</td>\n",
              "      <td>0</td>\n",
              "      <td>0</td>\n",
              "      <td>0</td>\n",
              "      <td>0</td>\n",
              "      <td>1</td>\n",
              "      <td>0</td>\n",
              "    </tr>\n",
              "    <tr>\n",
              "      <th>290904</th>\n",
              "      <td>2019</td>\n",
              "      <td>0088 COUNTRY CLUB DR</td>\n",
              "      <td>3.00000</td>\n",
              "      <td>3.00000</td>\n",
              "      <td>7.00000</td>\n",
              "      <td>D</td>\n",
              "      <td>2040</td>\n",
              "      <td>1.00000</td>\n",
              "      <td>3977.00000</td>\n",
              "      <td>3.00000</td>\n",
              "      <td>3A</td>\n",
              "      <td>Lake Shore</td>\n",
              "      <td>7.00000</td>\n",
              "      <td>821616.00000</td>\n",
              "      <td>65</td>\n",
              "      <td>37.729669446453,-122.496393232848</td>\n",
              "      <td>0.82162</td>\n",
              "      <td>0</td>\n",
              "      <td>0</td>\n",
              "      <td>0</td>\n",
              "      <td>0</td>\n",
              "      <td>0</td>\n",
              "      <td>0</td>\n",
              "      <td>0</td>\n",
              "      <td>0</td>\n",
              "      <td>0</td>\n",
              "      <td>0</td>\n",
              "      <td>0</td>\n",
              "      <td>0</td>\n",
              "      <td>0</td>\n",
              "      <td>0</td>\n",
              "      <td>0</td>\n",
              "      <td>0</td>\n",
              "      <td>0</td>\n",
              "      <td>0</td>\n",
              "      <td>0</td>\n",
              "      <td>0</td>\n",
              "      <td>0</td>\n",
              "      <td>0</td>\n",
              "      <td>0</td>\n",
              "      <td>0</td>\n",
              "      <td>0</td>\n",
              "      <td>1</td>\n",
              "      <td>0</td>\n",
              "      <td>0</td>\n",
              "      <td>0</td>\n",
              "      <td>0</td>\n",
              "    </tr>\n",
              "    <tr>\n",
              "      <th>290905</th>\n",
              "      <td>2019</td>\n",
              "      <td>3018 25TH AV</td>\n",
              "      <td>3.00000</td>\n",
              "      <td>3.00000</td>\n",
              "      <td>7.00000</td>\n",
              "      <td>D</td>\n",
              "      <td>2545</td>\n",
              "      <td>1.00000</td>\n",
              "      <td>3332.00000</td>\n",
              "      <td>3.00000</td>\n",
              "      <td>3F</td>\n",
              "      <td>Merced Manor</td>\n",
              "      <td>7.00000</td>\n",
              "      <td>1226932.00000</td>\n",
              "      <td>24</td>\n",
              "      <td>37.732220901673,-122.480707587412</td>\n",
              "      <td>1.22693</td>\n",
              "      <td>0</td>\n",
              "      <td>0</td>\n",
              "      <td>0</td>\n",
              "      <td>0</td>\n",
              "      <td>0</td>\n",
              "      <td>0</td>\n",
              "      <td>0</td>\n",
              "      <td>0</td>\n",
              "      <td>0</td>\n",
              "      <td>0</td>\n",
              "      <td>0</td>\n",
              "      <td>0</td>\n",
              "      <td>0</td>\n",
              "      <td>0</td>\n",
              "      <td>0</td>\n",
              "      <td>0</td>\n",
              "      <td>0</td>\n",
              "      <td>0</td>\n",
              "      <td>0</td>\n",
              "      <td>0</td>\n",
              "      <td>0</td>\n",
              "      <td>0</td>\n",
              "      <td>0</td>\n",
              "      <td>0</td>\n",
              "      <td>0</td>\n",
              "      <td>1</td>\n",
              "      <td>0</td>\n",
              "      <td>0</td>\n",
              "      <td>0</td>\n",
              "      <td>0</td>\n",
              "    </tr>\n",
              "    <tr>\n",
              "      <th>290906</th>\n",
              "      <td>2019</td>\n",
              "      <td>0423 RALSTON ST</td>\n",
              "      <td>2.00000</td>\n",
              "      <td>3.00000</td>\n",
              "      <td>6.00000</td>\n",
              "      <td>D</td>\n",
              "      <td>1535</td>\n",
              "      <td>1.00000</td>\n",
              "      <td>2495.00000</td>\n",
              "      <td>3.00000</td>\n",
              "      <td>3B</td>\n",
              "      <td>Merced Heights</td>\n",
              "      <td>11.00000</td>\n",
              "      <td>321910.00000</td>\n",
              "      <td>73</td>\n",
              "      <td>37.720116938309,-122.469234215927</td>\n",
              "      <td>0.32191</td>\n",
              "      <td>0</td>\n",
              "      <td>0</td>\n",
              "      <td>0</td>\n",
              "      <td>0</td>\n",
              "      <td>0</td>\n",
              "      <td>0</td>\n",
              "      <td>0</td>\n",
              "      <td>0</td>\n",
              "      <td>0</td>\n",
              "      <td>0</td>\n",
              "      <td>0</td>\n",
              "      <td>0</td>\n",
              "      <td>0</td>\n",
              "      <td>0</td>\n",
              "      <td>0</td>\n",
              "      <td>0</td>\n",
              "      <td>1</td>\n",
              "      <td>0</td>\n",
              "      <td>0</td>\n",
              "      <td>0</td>\n",
              "      <td>0</td>\n",
              "      <td>0</td>\n",
              "      <td>0</td>\n",
              "      <td>0</td>\n",
              "      <td>0</td>\n",
              "      <td>0</td>\n",
              "      <td>0</td>\n",
              "      <td>0</td>\n",
              "      <td>0</td>\n",
              "      <td>0</td>\n",
              "    </tr>\n",
              "    <tr>\n",
              "      <th>290907</th>\n",
              "      <td>2019</td>\n",
              "      <td>0137 SAINT CHARLES AV</td>\n",
              "      <td>3.00000</td>\n",
              "      <td>3.00000</td>\n",
              "      <td>9.00000</td>\n",
              "      <td>D</td>\n",
              "      <td>1837</td>\n",
              "      <td>1.00000</td>\n",
              "      <td>2500.00000</td>\n",
              "      <td>3.00000</td>\n",
              "      <td>3G</td>\n",
              "      <td>Ingleside Heights</td>\n",
              "      <td>7.00000</td>\n",
              "      <td>411518.00000</td>\n",
              "      <td>82</td>\n",
              "      <td>37.711526516997,-122.46903919315598</td>\n",
              "      <td>0.41152</td>\n",
              "      <td>0</td>\n",
              "      <td>0</td>\n",
              "      <td>0</td>\n",
              "      <td>0</td>\n",
              "      <td>0</td>\n",
              "      <td>0</td>\n",
              "      <td>0</td>\n",
              "      <td>0</td>\n",
              "      <td>0</td>\n",
              "      <td>0</td>\n",
              "      <td>0</td>\n",
              "      <td>0</td>\n",
              "      <td>0</td>\n",
              "      <td>0</td>\n",
              "      <td>0</td>\n",
              "      <td>0</td>\n",
              "      <td>1</td>\n",
              "      <td>0</td>\n",
              "      <td>0</td>\n",
              "      <td>0</td>\n",
              "      <td>0</td>\n",
              "      <td>0</td>\n",
              "      <td>0</td>\n",
              "      <td>0</td>\n",
              "      <td>0</td>\n",
              "      <td>0</td>\n",
              "      <td>0</td>\n",
              "      <td>0</td>\n",
              "      <td>0</td>\n",
              "      <td>0</td>\n",
              "    </tr>\n",
              "  </tbody>\n",
              "</table>\n",
              "<p>290908 rows × 47 columns</p>\n",
              "</div>"
            ],
            "text/plain": [
              "        Closed Roll Year  ... Western Addition\n",
              "0                   2012  ...                0\n",
              "1                   2012  ...                0\n",
              "2                   2012  ...                0\n",
              "3                   2012  ...                0\n",
              "4                   2012  ...                0\n",
              "...                  ...  ...              ...\n",
              "290903              2019  ...                0\n",
              "290904              2019  ...                0\n",
              "290905              2019  ...                0\n",
              "290906              2019  ...                0\n",
              "290907              2019  ...                0\n",
              "\n",
              "[290908 rows x 47 columns]"
            ]
          },
          "metadata": {
            "tags": []
          },
          "execution_count": 106
        }
      ]
    },
    {
      "cell_type": "code",
      "metadata": {
        "colab": {
          "base_uri": "https://localhost:8080/"
        },
        "id": "nMN7MzwQY3N9",
        "outputId": "e5c07235-b937-42bb-ea53-87f30e4ae2a6"
      },
      "source": [
        "regr = linear_model.LinearRegression()\n",
        "regr.fit(x, y)\n",
        "\n",
        "print('Intercept: \\n', regr.intercept_)\n",
        "print('Coefficients: \\n', regr.coef_)\n",
        "\n",
        "# prediction with sklearn\n",
        "year = 2019\n",
        "bathrooms = 1\n",
        "bedrooms = 3\n",
        "rooms = 6\n",
        "property_area = 1850\n",
        "basement = 0\n",
        "lot_area = 3000\n",
        "supervisor = 5\n",
        "age = 90\n",
        "print ('Predicted House Price: \\n', regr.predict([[year, bathrooms, bedrooms, rooms, property_area, basement, lot_area, supervisor, age,\n",
        "                                                   0,0,0,0,0,0,0,0,1,0,\n",
        "                                                   0,0,0,0,0,0,0,0,0,0,\n",
        "                                                   0,0,0,0,0,0,0,0,0,0]]))"
      ],
      "execution_count": null,
      "outputs": [
        {
          "output_type": "stream",
          "text": [
            "Intercept: \n",
            " [-66691359.07721782]\n",
            "Coefficients: \n",
            " [[ 3.33112181e+04  8.22652549e+04  1.08552664e+04 -4.66798720e+04\n",
            "   3.53962580e+02 -4.92480455e+04  1.68769039e+01 -7.18918314e+03\n",
            "   1.20031256e+03 -4.79894174e+05 -2.32634442e+05  2.41792039e+05\n",
            "  -4.09421782e+05 -1.28045247e+05  1.87721829e+05 -1.98817579e+05\n",
            "  -2.44493685e+05 -2.90591921e+05 -2.90618483e+05  7.26191266e+05\n",
            "  -4.78881088e+05 -1.62816847e+05  7.90886741e+05  1.95404736e+05\n",
            "   8.11962262e+05 -4.07077084e+05 -3.92998016e+05 -4.16962702e+05\n",
            "   1.21108612e+06 -4.26559223e+05 -6.66091598e+04  6.64985030e+05\n",
            "   6.74194712e+05  5.06581220e+05 -4.05486156e+05 -1.09758773e+05\n",
            "  -4.57601936e+05 -2.31036693e+05 -1.80500965e+05]]\n",
            "Predicted House Price: \n",
            " [[885693.84325967]]\n"
          ],
          "name": "stdout"
        }
      ]
    },
    {
      "cell_type": "code",
      "metadata": {
        "id": "ooFaREOm70D5",
        "colab": {
          "base_uri": "https://localhost:8080/"
        },
        "outputId": "a5b7859f-2937-4c0c-f8b4-56b4a0a3d2d1"
      },
      "source": [
        "# with statsmodels\n",
        "x = sm.add_constant(x) # adding a constant\n",
        "\n",
        "model = sm.OLS(y, x).fit()\n",
        "predictions = model.predict(x)\n",
        "\n",
        "print_model = model.summary()\n",
        "print(print_model)"
      ],
      "execution_count": null,
      "outputs": [
        {
          "output_type": "stream",
          "text": [
            "                             OLS Regression Results                             \n",
            "================================================================================\n",
            "Dep. Variable:     Total Assessed Value   R-squared:                       0.442\n",
            "Model:                              OLS   Adj. R-squared:                  0.442\n",
            "Method:                   Least Squares   F-statistic:                     6067.\n",
            "Date:                  Sat, 13 Feb 2021   Prob (F-statistic):               0.00\n",
            "Time:                          18:37:39   Log-Likelihood:            -4.2284e+06\n",
            "No. Observations:                290908   AIC:                         8.457e+06\n",
            "Df Residuals:                    290869   BIC:                         8.457e+06\n",
            "Df Model:                            38                                         \n",
            "Covariance Type:              nonrobust                                         \n",
            "==============================================================================================\n",
            "                                 coef    std err          t      P>|t|      [0.025      0.975]\n",
            "----------------------------------------------------------------------------------------------\n",
            "const                      -6.454e+07   5.84e+05   -110.588      0.000   -6.57e+07   -6.34e+07\n",
            "Closed Roll Year            3.331e+04    299.793    111.114      0.000    3.27e+04    3.39e+04\n",
            "Number of Bathrooms         8.227e+04   1591.889     51.678      0.000    7.91e+04    8.54e+04\n",
            "Number of Bedrooms          1.086e+04   1507.023      7.203      0.000    7901.544    1.38e+04\n",
            "Number of Rooms            -4.668e+04   1163.535    -40.119      0.000    -4.9e+04   -4.44e+04\n",
            "Property Area                353.9626      2.609    135.688      0.000     348.850     359.075\n",
            "Basement Area              -4.925e+04   2096.025    -23.496      0.000   -5.34e+04   -4.51e+04\n",
            "Lot Area                      16.8769      0.935     18.054      0.000      15.045      18.709\n",
            "Supervisor District        -7189.1831   1520.269     -4.729      0.000   -1.02e+04   -4209.499\n",
            "Property Age                1200.3126     45.806     26.204      0.000    1110.534    1290.091\n",
            "Bayview Hunters Point      -2.631e+06    2.1e+04   -125.041      0.000   -2.67e+06   -2.59e+06\n",
            "Bernal Heights             -2.384e+06   2.04e+04   -116.954      0.000   -2.42e+06   -2.34e+06\n",
            "Castro/Upper Market         -1.91e+06   2.08e+04    -91.861      0.000   -1.95e+06   -1.87e+06\n",
            "Excelsior                  -2.561e+06   2.13e+04   -120.266      0.000    -2.6e+06   -2.52e+06\n",
            "Glen Park                  -2.279e+06   2.08e+04   -109.802      0.000   -2.32e+06   -2.24e+06\n",
            "Haight Ashbury             -1.964e+06   2.18e+04    -90.269      0.000   -2.01e+06   -1.92e+06\n",
            "Hayes Valley                -2.35e+06   2.66e+04    -88.490      0.000    -2.4e+06    -2.3e+06\n",
            "Inner Richmond             -2.396e+06    2.2e+04   -109.107      0.000   -2.44e+06   -2.35e+06\n",
            "Inner Sunset               -2.442e+06   2.01e+04   -121.729      0.000   -2.48e+06    -2.4e+06\n",
            "Lone Mountain/USF          -2.442e+06    2.3e+04   -106.217      0.000   -2.49e+06    -2.4e+06\n",
            "Marina                     -1.425e+06   2.19e+04    -64.940      0.000   -1.47e+06   -1.38e+06\n",
            "McLaren Park                -2.63e+06   3.91e+04    -67.273      0.000   -2.71e+06   -2.55e+06\n",
            "Mission                    -2.314e+06   2.17e+04   -106.529      0.000   -2.36e+06   -2.27e+06\n",
            "Nob Hill                    -1.36e+06   3.21e+04    -42.346      0.000   -1.42e+06    -1.3e+06\n",
            "Noe Valley                 -1.956e+06   2.04e+04    -95.965      0.000      -2e+06   -1.92e+06\n",
            "North Beach                -1.339e+06   3.32e+04    -40.319      0.000    -1.4e+06   -1.27e+06\n",
            "Oceanview/Merced/Ingleside -2.558e+06   2.12e+04   -120.580      0.000    -2.6e+06   -2.52e+06\n",
            "Outer Mission              -2.544e+06   2.14e+04   -119.089      0.000   -2.59e+06    -2.5e+06\n",
            "Outer Richmond             -2.568e+06   2.13e+04   -120.549      0.000   -2.61e+06   -2.53e+06\n",
            "Pacific Heights            -9.402e+05   2.22e+04    -42.362      0.000   -9.84e+05   -8.97e+05\n",
            "Portola                    -2.578e+06   2.11e+04   -122.175      0.000   -2.62e+06   -2.54e+06\n",
            "Potrero Hill               -2.218e+06   2.19e+04   -101.135      0.000   -2.26e+06   -2.17e+06\n",
            "Presidio Heights           -1.486e+06   2.26e+04    -65.778      0.000   -1.53e+06   -1.44e+06\n",
            "Russian Hill               -1.477e+06   2.77e+04    -53.319      0.000   -1.53e+06   -1.42e+06\n",
            "Seacliff                   -1.645e+06   2.37e+04    -69.387      0.000   -1.69e+06    -1.6e+06\n",
            "Sunset/Parkside            -2.557e+06      2e+04   -127.782      0.000    -2.6e+06   -2.52e+06\n",
            "Twin Peaks                 -2.261e+06   2.16e+04   -104.581      0.000    -2.3e+06   -2.22e+06\n",
            "Visitacion Valley          -2.609e+06   2.15e+04   -121.116      0.000   -2.65e+06   -2.57e+06\n",
            "West of Twin Peaks         -2.382e+06      2e+04   -119.377      0.000   -2.42e+06   -2.34e+06\n",
            "Western Addition           -2.332e+06   3.81e+04    -61.248      0.000   -2.41e+06   -2.26e+06\n",
            "==============================================================================\n",
            "Omnibus:                   164800.004   Durbin-Watson:                   1.986\n",
            "Prob(Omnibus):                  0.000   Jarque-Bera (JB):          8254920.833\n",
            "Skew:                           2.025   Prob(JB):                         0.00\n",
            "Kurtosis:                      28.780   Cond. No.                     2.82e+15\n",
            "==============================================================================\n",
            "\n",
            "Warnings:\n",
            "[1] Standard Errors assume that the covariance matrix of the errors is correctly specified.\n",
            "[2] The smallest eigenvalue is 5.71e-19. This might indicate that there are\n",
            "strong multicollinearity problems or that the design matrix is singular.\n"
          ],
          "name": "stdout"
        }
      ]
    },
    {
      "cell_type": "markdown",
      "metadata": {
        "id": "CFQ7RtElKUWN"
      },
      "source": [
        "**Random Forest**"
      ]
    },
    {
      "cell_type": "code",
      "metadata": {
        "id": "99xVGYMv4bLb"
      },
      "source": [
        "df_forest = df[df['Closed Roll Year'] == 2019]"
      ],
      "execution_count": null,
      "outputs": []
    },
    {
      "cell_type": "code",
      "metadata": {
        "id": "_KhnlioGwBE8"
      },
      "source": [
        "x = df_forest[['Number of Bathrooms',\n",
        "       'Number of Bedrooms', 'Number of Rooms',\n",
        "       'Property Area', 'Basement Area', 'Lot Area', 'Supervisor District',\n",
        "       'Property Age', 'Bayview Hunters Point',\n",
        "       'Bernal Heights', 'Castro/Upper Market', 'Excelsior', 'Glen Park',\n",
        "       'Haight Ashbury', 'Hayes Valley', 'Inner Richmond', 'Inner Sunset',\n",
        "       'Lone Mountain/USF', 'Marina', 'McLaren Park', 'Mission', 'Nob Hill',\n",
        "       'Noe Valley', 'North Beach', 'Oceanview/Merced/Ingleside',\n",
        "       'Outer Mission', 'Outer Richmond', 'Pacific Heights', 'Portola',\n",
        "       'Potrero Hill', 'Presidio Heights', 'Russian Hill', 'Seacliff',\n",
        "       'Sunset/Parkside', 'Twin Peaks', 'Visitacion Valley',\n",
        "       'West of Twin Peaks', 'Western Addition']]\n",
        "y = df_forest[['Total Assessed Value']]\n",
        "\n",
        "x_train,x_test,y_train,y_test = train_test_split(x,y,test_size=0.1,random_state=15)"
      ],
      "execution_count": null,
      "outputs": []
    },
    {
      "cell_type": "code",
      "metadata": {
        "id": "vWxJkwK5wAlQ"
      },
      "source": [
        "clf = RandomForestClassifier(n_estimators=25, max_depth = 10)\n",
        "del x\n",
        "del y"
      ],
      "execution_count": null,
      "outputs": []
    },
    {
      "cell_type": "code",
      "metadata": {
        "id": "gsTo1ZojEtJi",
        "colab": {
          "base_uri": "https://localhost:8080/"
        },
        "outputId": "5f9af67b-82ad-4423-9080-f87dad67b5f1"
      },
      "source": [
        "clf.fit(x_train,y_train)\n",
        "del x_train\n",
        "del y_train"
      ],
      "execution_count": null,
      "outputs": [
        {
          "output_type": "stream",
          "text": [
            "/usr/local/lib/python3.6/dist-packages/ipykernel_launcher.py:1: DataConversionWarning: A column-vector y was passed when a 1d array was expected. Please change the shape of y to (n_samples,), for example using ravel().\n",
            "  \"\"\"Entry point for launching an IPython kernel.\n"
          ],
          "name": "stderr"
        }
      ]
    },
    {
      "cell_type": "code",
      "metadata": {
        "id": "1xPAshTRwKi-"
      },
      "source": [
        "y_pred = clf.predict(x_test)"
      ],
      "execution_count": null,
      "outputs": []
    },
    {
      "cell_type": "code",
      "metadata": {
        "id": "Ddw5o-2GwFX9",
        "colab": {
          "base_uri": "https://localhost:8080/"
        },
        "outputId": "757a4409-8b50-49f8-9614-7cfb03b519c5"
      },
      "source": [
        "print('Accuracy: ',metrics.accuracy_score(y_test, y_pred))\n",
        "plt.show()"
      ],
      "execution_count": null,
      "outputs": [
        {
          "output_type": "stream",
          "text": [
            "Accuracy:  0.001487652484379649\n"
          ],
          "name": "stdout"
        }
      ]
    },
    {
      "cell_type": "code",
      "metadata": {
        "id": "Sj198PvAG9H1",
        "colab": {
          "base_uri": "https://localhost:8080/"
        },
        "outputId": "f1fa3035-5fe1-45dd-8ef4-bef9583cdb04"
      },
      "source": [
        "prediction = clf.predict([[bathrooms, bedrooms, rooms, property_area, basement, lot_area, supervisor, age,\n",
        "                                                   0,0,0,0,0,0,0,0,1,0,\n",
        "                                                   0,0,0,0,0,0,0,0,0,0,\n",
        "                                                   0,0,0,0,0,0,0,0,0,0]])\n",
        "print ('Predicted Result: ', prediction)"
      ],
      "execution_count": null,
      "outputs": [
        {
          "output_type": "stream",
          "text": [
            "Predicted Result:  [1200000.]\n"
          ],
          "name": "stdout"
        }
      ]
    },
    {
      "cell_type": "code",
      "metadata": {
        "colab": {
          "base_uri": "https://localhost:8080/",
          "height": 728
        },
        "id": "b-7gSzy2Urjy",
        "outputId": "b1a0d869-5253-4e81-a151-41f6830513b4"
      },
      "source": [
        "df"
      ],
      "execution_count": null,
      "outputs": [
        {
          "output_type": "execute_result",
          "data": {
            "text/html": [
              "<div>\n",
              "<style scoped>\n",
              "    .dataframe tbody tr th:only-of-type {\n",
              "        vertical-align: middle;\n",
              "    }\n",
              "\n",
              "    .dataframe tbody tr th {\n",
              "        vertical-align: top;\n",
              "    }\n",
              "\n",
              "    .dataframe thead th {\n",
              "        text-align: right;\n",
              "    }\n",
              "</style>\n",
              "<table border=\"1\" class=\"dataframe\">\n",
              "  <thead>\n",
              "    <tr style=\"text-align: right;\">\n",
              "      <th></th>\n",
              "      <th>Closed Roll Year</th>\n",
              "      <th>Property Location</th>\n",
              "      <th>Number of Bathrooms</th>\n",
              "      <th>Number of Bedrooms</th>\n",
              "      <th>Number of Rooms</th>\n",
              "      <th>Construction Type</th>\n",
              "      <th>Property Area</th>\n",
              "      <th>Basement Area</th>\n",
              "      <th>Lot Area</th>\n",
              "      <th>Assessor Neighborhood District</th>\n",
              "      <th>Assessor Neighborhood Code</th>\n",
              "      <th>Assessor Neighborhood</th>\n",
              "      <th>Supervisor District</th>\n",
              "      <th>Total Assessed Value</th>\n",
              "      <th>Property Age</th>\n",
              "      <th>geom</th>\n",
              "      <th>ValueMillions</th>\n",
              "      <th>Bayview Hunters Point</th>\n",
              "      <th>Bernal Heights</th>\n",
              "      <th>Castro/Upper Market</th>\n",
              "      <th>Excelsior</th>\n",
              "      <th>Glen Park</th>\n",
              "      <th>Haight Ashbury</th>\n",
              "      <th>Hayes Valley</th>\n",
              "      <th>Inner Richmond</th>\n",
              "      <th>Inner Sunset</th>\n",
              "      <th>Lone Mountain/USF</th>\n",
              "      <th>Marina</th>\n",
              "      <th>McLaren Park</th>\n",
              "      <th>Mission</th>\n",
              "      <th>Nob Hill</th>\n",
              "      <th>Noe Valley</th>\n",
              "      <th>North Beach</th>\n",
              "      <th>Oceanview/Merced/Ingleside</th>\n",
              "      <th>Outer Mission</th>\n",
              "      <th>Outer Richmond</th>\n",
              "      <th>Pacific Heights</th>\n",
              "      <th>Portola</th>\n",
              "      <th>Potrero Hill</th>\n",
              "      <th>Presidio Heights</th>\n",
              "      <th>Russian Hill</th>\n",
              "      <th>Seacliff</th>\n",
              "      <th>Sunset/Parkside</th>\n",
              "      <th>Twin Peaks</th>\n",
              "      <th>Visitacion Valley</th>\n",
              "      <th>West of Twin Peaks</th>\n",
              "      <th>Western Addition</th>\n",
              "    </tr>\n",
              "  </thead>\n",
              "  <tbody>\n",
              "    <tr>\n",
              "      <th>0</th>\n",
              "      <td>2012</td>\n",
              "      <td>1516 11TH AV</td>\n",
              "      <td>2.00000</td>\n",
              "      <td>3.00000</td>\n",
              "      <td>6.00000</td>\n",
              "      <td>D</td>\n",
              "      <td>1550</td>\n",
              "      <td>1.00000</td>\n",
              "      <td>1437.00000</td>\n",
              "      <td>2.00000</td>\n",
              "      <td>2F</td>\n",
              "      <td>Inner Sunset</td>\n",
              "      <td>7.00000</td>\n",
              "      <td>905336.00000</td>\n",
              "      <td>87</td>\n",
              "      <td>37.75987755666,-122.46794778293902</td>\n",
              "      <td>0.90534</td>\n",
              "      <td>0</td>\n",
              "      <td>0</td>\n",
              "      <td>0</td>\n",
              "      <td>0</td>\n",
              "      <td>0</td>\n",
              "      <td>0</td>\n",
              "      <td>0</td>\n",
              "      <td>0</td>\n",
              "      <td>1</td>\n",
              "      <td>0</td>\n",
              "      <td>0</td>\n",
              "      <td>0</td>\n",
              "      <td>0</td>\n",
              "      <td>0</td>\n",
              "      <td>0</td>\n",
              "      <td>0</td>\n",
              "      <td>0</td>\n",
              "      <td>0</td>\n",
              "      <td>0</td>\n",
              "      <td>0</td>\n",
              "      <td>0</td>\n",
              "      <td>0</td>\n",
              "      <td>0</td>\n",
              "      <td>0</td>\n",
              "      <td>0</td>\n",
              "      <td>0</td>\n",
              "      <td>0</td>\n",
              "      <td>0</td>\n",
              "      <td>0</td>\n",
              "      <td>0</td>\n",
              "    </tr>\n",
              "    <tr>\n",
              "      <th>1</th>\n",
              "      <td>2012</td>\n",
              "      <td>1974 19TH AV</td>\n",
              "      <td>2.00000</td>\n",
              "      <td>4.00000</td>\n",
              "      <td>8.00000</td>\n",
              "      <td>D</td>\n",
              "      <td>2015</td>\n",
              "      <td>1.00000</td>\n",
              "      <td>2247.00000</td>\n",
              "      <td>2.00000</td>\n",
              "      <td>2G</td>\n",
              "      <td>Inner Parkside</td>\n",
              "      <td>7.00000</td>\n",
              "      <td>409454.00000</td>\n",
              "      <td>85</td>\n",
              "      <td>37.75101505764,-122.47586972746102</td>\n",
              "      <td>0.40945</td>\n",
              "      <td>0</td>\n",
              "      <td>0</td>\n",
              "      <td>0</td>\n",
              "      <td>0</td>\n",
              "      <td>0</td>\n",
              "      <td>0</td>\n",
              "      <td>0</td>\n",
              "      <td>0</td>\n",
              "      <td>1</td>\n",
              "      <td>0</td>\n",
              "      <td>0</td>\n",
              "      <td>0</td>\n",
              "      <td>0</td>\n",
              "      <td>0</td>\n",
              "      <td>0</td>\n",
              "      <td>0</td>\n",
              "      <td>0</td>\n",
              "      <td>0</td>\n",
              "      <td>0</td>\n",
              "      <td>0</td>\n",
              "      <td>0</td>\n",
              "      <td>0</td>\n",
              "      <td>0</td>\n",
              "      <td>0</td>\n",
              "      <td>0</td>\n",
              "      <td>0</td>\n",
              "      <td>0</td>\n",
              "      <td>0</td>\n",
              "      <td>0</td>\n",
              "      <td>0</td>\n",
              "    </tr>\n",
              "    <tr>\n",
              "      <th>2</th>\n",
              "      <td>2012</td>\n",
              "      <td>0583 19TH AV</td>\n",
              "      <td>1.00000</td>\n",
              "      <td>3.00000</td>\n",
              "      <td>9.00000</td>\n",
              "      <td>D</td>\n",
              "      <td>1870</td>\n",
              "      <td>0.00000</td>\n",
              "      <td>2060.00000</td>\n",
              "      <td>1.00000</td>\n",
              "      <td>1A</td>\n",
              "      <td>Central Richmond</td>\n",
              "      <td>1.00000</td>\n",
              "      <td>881749.00000</td>\n",
              "      <td>98</td>\n",
              "      <td>37.776928912607,-122.47831758208301</td>\n",
              "      <td>0.88175</td>\n",
              "      <td>0</td>\n",
              "      <td>0</td>\n",
              "      <td>0</td>\n",
              "      <td>0</td>\n",
              "      <td>0</td>\n",
              "      <td>0</td>\n",
              "      <td>0</td>\n",
              "      <td>0</td>\n",
              "      <td>0</td>\n",
              "      <td>0</td>\n",
              "      <td>0</td>\n",
              "      <td>0</td>\n",
              "      <td>0</td>\n",
              "      <td>0</td>\n",
              "      <td>0</td>\n",
              "      <td>0</td>\n",
              "      <td>0</td>\n",
              "      <td>0</td>\n",
              "      <td>1</td>\n",
              "      <td>0</td>\n",
              "      <td>0</td>\n",
              "      <td>0</td>\n",
              "      <td>0</td>\n",
              "      <td>0</td>\n",
              "      <td>0</td>\n",
              "      <td>0</td>\n",
              "      <td>0</td>\n",
              "      <td>0</td>\n",
              "      <td>0</td>\n",
              "      <td>0</td>\n",
              "    </tr>\n",
              "    <tr>\n",
              "      <th>3</th>\n",
              "      <td>2012</td>\n",
              "      <td>0856 BRUNSWICK ST</td>\n",
              "      <td>3.00000</td>\n",
              "      <td>3.00000</td>\n",
              "      <td>8.00000</td>\n",
              "      <td>D</td>\n",
              "      <td>1839</td>\n",
              "      <td>1.00000</td>\n",
              "      <td>2625.00000</td>\n",
              "      <td>10.00000</td>\n",
              "      <td>10B</td>\n",
              "      <td>Croker Amazon</td>\n",
              "      <td>11.00000</td>\n",
              "      <td>615142.00000</td>\n",
              "      <td>61</td>\n",
              "      <td>37.7081642176,-122.45106830985301</td>\n",
              "      <td>0.61514</td>\n",
              "      <td>0</td>\n",
              "      <td>0</td>\n",
              "      <td>0</td>\n",
              "      <td>1</td>\n",
              "      <td>0</td>\n",
              "      <td>0</td>\n",
              "      <td>0</td>\n",
              "      <td>0</td>\n",
              "      <td>0</td>\n",
              "      <td>0</td>\n",
              "      <td>0</td>\n",
              "      <td>0</td>\n",
              "      <td>0</td>\n",
              "      <td>0</td>\n",
              "      <td>0</td>\n",
              "      <td>0</td>\n",
              "      <td>0</td>\n",
              "      <td>0</td>\n",
              "      <td>0</td>\n",
              "      <td>0</td>\n",
              "      <td>0</td>\n",
              "      <td>0</td>\n",
              "      <td>0</td>\n",
              "      <td>0</td>\n",
              "      <td>0</td>\n",
              "      <td>0</td>\n",
              "      <td>0</td>\n",
              "      <td>0</td>\n",
              "      <td>0</td>\n",
              "      <td>0</td>\n",
              "    </tr>\n",
              "    <tr>\n",
              "      <th>4</th>\n",
              "      <td>2012</td>\n",
              "      <td>1466 07TH AV</td>\n",
              "      <td>1.00000</td>\n",
              "      <td>3.00000</td>\n",
              "      <td>6.00000</td>\n",
              "      <td>D</td>\n",
              "      <td>1850</td>\n",
              "      <td>0.00000</td>\n",
              "      <td>3000.00000</td>\n",
              "      <td>2.00000</td>\n",
              "      <td>2F</td>\n",
              "      <td>Inner Sunset</td>\n",
              "      <td>5.00000</td>\n",
              "      <td>429675.00000</td>\n",
              "      <td>90</td>\n",
              "      <td>37.76104354177,-122.463627312755</td>\n",
              "      <td>0.42967</td>\n",
              "      <td>0</td>\n",
              "      <td>0</td>\n",
              "      <td>0</td>\n",
              "      <td>0</td>\n",
              "      <td>0</td>\n",
              "      <td>0</td>\n",
              "      <td>0</td>\n",
              "      <td>0</td>\n",
              "      <td>1</td>\n",
              "      <td>0</td>\n",
              "      <td>0</td>\n",
              "      <td>0</td>\n",
              "      <td>0</td>\n",
              "      <td>0</td>\n",
              "      <td>0</td>\n",
              "      <td>0</td>\n",
              "      <td>0</td>\n",
              "      <td>0</td>\n",
              "      <td>0</td>\n",
              "      <td>0</td>\n",
              "      <td>0</td>\n",
              "      <td>0</td>\n",
              "      <td>0</td>\n",
              "      <td>0</td>\n",
              "      <td>0</td>\n",
              "      <td>0</td>\n",
              "      <td>0</td>\n",
              "      <td>0</td>\n",
              "      <td>0</td>\n",
              "      <td>0</td>\n",
              "    </tr>\n",
              "    <tr>\n",
              "      <th>...</th>\n",
              "      <td>...</td>\n",
              "      <td>...</td>\n",
              "      <td>...</td>\n",
              "      <td>...</td>\n",
              "      <td>...</td>\n",
              "      <td>...</td>\n",
              "      <td>...</td>\n",
              "      <td>...</td>\n",
              "      <td>...</td>\n",
              "      <td>...</td>\n",
              "      <td>...</td>\n",
              "      <td>...</td>\n",
              "      <td>...</td>\n",
              "      <td>...</td>\n",
              "      <td>...</td>\n",
              "      <td>...</td>\n",
              "      <td>...</td>\n",
              "      <td>...</td>\n",
              "      <td>...</td>\n",
              "      <td>...</td>\n",
              "      <td>...</td>\n",
              "      <td>...</td>\n",
              "      <td>...</td>\n",
              "      <td>...</td>\n",
              "      <td>...</td>\n",
              "      <td>...</td>\n",
              "      <td>...</td>\n",
              "      <td>...</td>\n",
              "      <td>...</td>\n",
              "      <td>...</td>\n",
              "      <td>...</td>\n",
              "      <td>...</td>\n",
              "      <td>...</td>\n",
              "      <td>...</td>\n",
              "      <td>...</td>\n",
              "      <td>...</td>\n",
              "      <td>...</td>\n",
              "      <td>...</td>\n",
              "      <td>...</td>\n",
              "      <td>...</td>\n",
              "      <td>...</td>\n",
              "      <td>...</td>\n",
              "      <td>...</td>\n",
              "      <td>...</td>\n",
              "      <td>...</td>\n",
              "      <td>...</td>\n",
              "      <td>...</td>\n",
              "    </tr>\n",
              "    <tr>\n",
              "      <th>290903</th>\n",
              "      <td>2019</td>\n",
              "      <td>0008 HEARST AV</td>\n",
              "      <td>1.00000</td>\n",
              "      <td>2.00000</td>\n",
              "      <td>6.00000</td>\n",
              "      <td>D</td>\n",
              "      <td>1225</td>\n",
              "      <td>1.00000</td>\n",
              "      <td>2812.50000</td>\n",
              "      <td>4.00000</td>\n",
              "      <td>4S</td>\n",
              "      <td>Sunnyside</td>\n",
              "      <td>7.00000</td>\n",
              "      <td>386054.00000</td>\n",
              "      <td>80</td>\n",
              "      <td>37.730982518632,-122.43872748625101</td>\n",
              "      <td>0.38605</td>\n",
              "      <td>0</td>\n",
              "      <td>0</td>\n",
              "      <td>0</td>\n",
              "      <td>0</td>\n",
              "      <td>0</td>\n",
              "      <td>0</td>\n",
              "      <td>0</td>\n",
              "      <td>0</td>\n",
              "      <td>0</td>\n",
              "      <td>0</td>\n",
              "      <td>0</td>\n",
              "      <td>0</td>\n",
              "      <td>0</td>\n",
              "      <td>0</td>\n",
              "      <td>0</td>\n",
              "      <td>0</td>\n",
              "      <td>0</td>\n",
              "      <td>0</td>\n",
              "      <td>0</td>\n",
              "      <td>0</td>\n",
              "      <td>0</td>\n",
              "      <td>0</td>\n",
              "      <td>0</td>\n",
              "      <td>0</td>\n",
              "      <td>0</td>\n",
              "      <td>0</td>\n",
              "      <td>0</td>\n",
              "      <td>0</td>\n",
              "      <td>1</td>\n",
              "      <td>0</td>\n",
              "    </tr>\n",
              "    <tr>\n",
              "      <th>290904</th>\n",
              "      <td>2019</td>\n",
              "      <td>0088 COUNTRY CLUB DR</td>\n",
              "      <td>3.00000</td>\n",
              "      <td>3.00000</td>\n",
              "      <td>7.00000</td>\n",
              "      <td>D</td>\n",
              "      <td>2040</td>\n",
              "      <td>1.00000</td>\n",
              "      <td>3977.00000</td>\n",
              "      <td>3.00000</td>\n",
              "      <td>3A</td>\n",
              "      <td>Lake Shore</td>\n",
              "      <td>7.00000</td>\n",
              "      <td>821616.00000</td>\n",
              "      <td>65</td>\n",
              "      <td>37.729669446453,-122.496393232848</td>\n",
              "      <td>0.82162</td>\n",
              "      <td>0</td>\n",
              "      <td>0</td>\n",
              "      <td>0</td>\n",
              "      <td>0</td>\n",
              "      <td>0</td>\n",
              "      <td>0</td>\n",
              "      <td>0</td>\n",
              "      <td>0</td>\n",
              "      <td>0</td>\n",
              "      <td>0</td>\n",
              "      <td>0</td>\n",
              "      <td>0</td>\n",
              "      <td>0</td>\n",
              "      <td>0</td>\n",
              "      <td>0</td>\n",
              "      <td>0</td>\n",
              "      <td>0</td>\n",
              "      <td>0</td>\n",
              "      <td>0</td>\n",
              "      <td>0</td>\n",
              "      <td>0</td>\n",
              "      <td>0</td>\n",
              "      <td>0</td>\n",
              "      <td>0</td>\n",
              "      <td>0</td>\n",
              "      <td>1</td>\n",
              "      <td>0</td>\n",
              "      <td>0</td>\n",
              "      <td>0</td>\n",
              "      <td>0</td>\n",
              "    </tr>\n",
              "    <tr>\n",
              "      <th>290905</th>\n",
              "      <td>2019</td>\n",
              "      <td>3018 25TH AV</td>\n",
              "      <td>3.00000</td>\n",
              "      <td>3.00000</td>\n",
              "      <td>7.00000</td>\n",
              "      <td>D</td>\n",
              "      <td>2545</td>\n",
              "      <td>1.00000</td>\n",
              "      <td>3332.00000</td>\n",
              "      <td>3.00000</td>\n",
              "      <td>3F</td>\n",
              "      <td>Merced Manor</td>\n",
              "      <td>7.00000</td>\n",
              "      <td>1226932.00000</td>\n",
              "      <td>24</td>\n",
              "      <td>37.732220901673,-122.480707587412</td>\n",
              "      <td>1.22693</td>\n",
              "      <td>0</td>\n",
              "      <td>0</td>\n",
              "      <td>0</td>\n",
              "      <td>0</td>\n",
              "      <td>0</td>\n",
              "      <td>0</td>\n",
              "      <td>0</td>\n",
              "      <td>0</td>\n",
              "      <td>0</td>\n",
              "      <td>0</td>\n",
              "      <td>0</td>\n",
              "      <td>0</td>\n",
              "      <td>0</td>\n",
              "      <td>0</td>\n",
              "      <td>0</td>\n",
              "      <td>0</td>\n",
              "      <td>0</td>\n",
              "      <td>0</td>\n",
              "      <td>0</td>\n",
              "      <td>0</td>\n",
              "      <td>0</td>\n",
              "      <td>0</td>\n",
              "      <td>0</td>\n",
              "      <td>0</td>\n",
              "      <td>0</td>\n",
              "      <td>1</td>\n",
              "      <td>0</td>\n",
              "      <td>0</td>\n",
              "      <td>0</td>\n",
              "      <td>0</td>\n",
              "    </tr>\n",
              "    <tr>\n",
              "      <th>290906</th>\n",
              "      <td>2019</td>\n",
              "      <td>0423 RALSTON ST</td>\n",
              "      <td>2.00000</td>\n",
              "      <td>3.00000</td>\n",
              "      <td>6.00000</td>\n",
              "      <td>D</td>\n",
              "      <td>1535</td>\n",
              "      <td>1.00000</td>\n",
              "      <td>2495.00000</td>\n",
              "      <td>3.00000</td>\n",
              "      <td>3B</td>\n",
              "      <td>Merced Heights</td>\n",
              "      <td>11.00000</td>\n",
              "      <td>321910.00000</td>\n",
              "      <td>73</td>\n",
              "      <td>37.720116938309,-122.469234215927</td>\n",
              "      <td>0.32191</td>\n",
              "      <td>0</td>\n",
              "      <td>0</td>\n",
              "      <td>0</td>\n",
              "      <td>0</td>\n",
              "      <td>0</td>\n",
              "      <td>0</td>\n",
              "      <td>0</td>\n",
              "      <td>0</td>\n",
              "      <td>0</td>\n",
              "      <td>0</td>\n",
              "      <td>0</td>\n",
              "      <td>0</td>\n",
              "      <td>0</td>\n",
              "      <td>0</td>\n",
              "      <td>0</td>\n",
              "      <td>0</td>\n",
              "      <td>1</td>\n",
              "      <td>0</td>\n",
              "      <td>0</td>\n",
              "      <td>0</td>\n",
              "      <td>0</td>\n",
              "      <td>0</td>\n",
              "      <td>0</td>\n",
              "      <td>0</td>\n",
              "      <td>0</td>\n",
              "      <td>0</td>\n",
              "      <td>0</td>\n",
              "      <td>0</td>\n",
              "      <td>0</td>\n",
              "      <td>0</td>\n",
              "    </tr>\n",
              "    <tr>\n",
              "      <th>290907</th>\n",
              "      <td>2019</td>\n",
              "      <td>0137 SAINT CHARLES AV</td>\n",
              "      <td>3.00000</td>\n",
              "      <td>3.00000</td>\n",
              "      <td>9.00000</td>\n",
              "      <td>D</td>\n",
              "      <td>1837</td>\n",
              "      <td>1.00000</td>\n",
              "      <td>2500.00000</td>\n",
              "      <td>3.00000</td>\n",
              "      <td>3G</td>\n",
              "      <td>Ingleside Heights</td>\n",
              "      <td>7.00000</td>\n",
              "      <td>411518.00000</td>\n",
              "      <td>82</td>\n",
              "      <td>37.711526516997,-122.46903919315598</td>\n",
              "      <td>0.41152</td>\n",
              "      <td>0</td>\n",
              "      <td>0</td>\n",
              "      <td>0</td>\n",
              "      <td>0</td>\n",
              "      <td>0</td>\n",
              "      <td>0</td>\n",
              "      <td>0</td>\n",
              "      <td>0</td>\n",
              "      <td>0</td>\n",
              "      <td>0</td>\n",
              "      <td>0</td>\n",
              "      <td>0</td>\n",
              "      <td>0</td>\n",
              "      <td>0</td>\n",
              "      <td>0</td>\n",
              "      <td>0</td>\n",
              "      <td>1</td>\n",
              "      <td>0</td>\n",
              "      <td>0</td>\n",
              "      <td>0</td>\n",
              "      <td>0</td>\n",
              "      <td>0</td>\n",
              "      <td>0</td>\n",
              "      <td>0</td>\n",
              "      <td>0</td>\n",
              "      <td>0</td>\n",
              "      <td>0</td>\n",
              "      <td>0</td>\n",
              "      <td>0</td>\n",
              "      <td>0</td>\n",
              "    </tr>\n",
              "  </tbody>\n",
              "</table>\n",
              "<p>290908 rows × 47 columns</p>\n",
              "</div>"
            ],
            "text/plain": [
              "        Closed Roll Year  ... Western Addition\n",
              "0                   2012  ...                0\n",
              "1                   2012  ...                0\n",
              "2                   2012  ...                0\n",
              "3                   2012  ...                0\n",
              "4                   2012  ...                0\n",
              "...                  ...  ...              ...\n",
              "290903              2019  ...                0\n",
              "290904              2019  ...                0\n",
              "290905              2019  ...                0\n",
              "290906              2019  ...                0\n",
              "290907              2019  ...                0\n",
              "\n",
              "[290908 rows x 47 columns]"
            ]
          },
          "metadata": {
            "tags": []
          },
          "execution_count": 116
        }
      ]
    },
    {
      "cell_type": "code",
      "metadata": {
        "id": "XR7PFkgXUr7L"
      },
      "source": [],
      "execution_count": null,
      "outputs": []
    }
  ]
}